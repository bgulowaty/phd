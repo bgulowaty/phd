{
 "cells": [
  {
   "cell_type": "code",
   "execution_count": 1,
   "id": "initial_id",
   "metadata": {
    "ExecuteTime": {
     "end_time": "2024-07-17T21:41:36.221597Z",
     "start_time": "2024-07-17T21:41:35.868711Z"
    }
   },
   "outputs": [],
   "source": [
    "import pandas\n",
    "%load_ext autoreload\n",
    "\n",
    "%autoreload 2\n",
    "\n"
   ]
  },
  {
   "cell_type": "code",
   "execution_count": 2,
   "id": "72cf036e9eec1f2b",
   "metadata": {
    "ExecuteTime": {
     "end_time": "2024-07-17T21:41:37.442048Z",
     "start_time": "2024-07-17T21:41:36.392915Z"
    },
    "collapsed": false,
    "jupyter": {
     "outputs_hidden": false
    }
   },
   "outputs": [],
   "source": [
    "from mlflow import MlflowClient\n",
    "import mlflow\n",
    "import numpy as np\n",
    "import pandas as pd\n",
    "from functools import reduce\n",
    "import matplotlib.pyplot as plt\n",
    "import collections\n",
    "import matplotlib as mpl\n",
    "import numpy as np\n",
    "from collections import defaultdict\n",
    "import scienceplots\n",
    "from sklearn import datasets\n",
    "from sklearn.datasets import make_blobs\n",
    "from cycler import cycler\n",
    "plt.style.use(['science', 'bright'])\n"
   ]
  },
  {
   "cell_type": "code",
   "execution_count": 3,
   "id": "3c0d9bc3d2857d08",
   "metadata": {
    "ExecuteTime": {
     "end_time": "2024-07-17T21:41:37.456887Z",
     "start_time": "2024-07-17T21:41:37.443508Z"
    },
    "collapsed": false,
    "jupyter": {
     "outputs_hidden": false
    }
   },
   "outputs": [],
   "source": [
    "client = MlflowClient(tracking_uri=\"http://192.168.1.181:5010\")\n",
    "mlflow.set_tracking_uri(\"http://192.168.1.181:5010\")\n"
   ]
  },
  {
   "cell_type": "code",
   "execution_count": 4,
   "id": "ae1ebf9400499b3e",
   "metadata": {
    "ExecuteTime": {
     "end_time": "2024-07-17T21:41:37.477310Z",
     "start_time": "2024-07-17T21:41:37.457489Z"
    },
    "collapsed": false,
    "jupyter": {
     "outputs_hidden": false
    }
   },
   "outputs": [],
   "source": [
    "complexities_df = pd.read_csv('complexities.csv')\\\n",
    "    .rename(columns={\"shuffle\": \"params.data_shuffle_random_state\", \"dataset_name\": \"params.dataset\", \"should_take_test\": \"params.should_take_test\"})\\\n",
    "    .astype({\"params.data_shuffle_random_state\": str, \"params.should_take_test\": str, \"params.dataset\": str})"
   ]
  },
  {
   "cell_type": "code",
   "execution_count": 5,
   "id": "b10c262c3ea1f29e",
   "metadata": {
    "ExecuteTime": {
     "end_time": "2024-07-17T21:41:37.491891Z",
     "start_time": "2024-07-17T21:41:37.478708Z"
    }
   },
   "outputs": [],
   "source": [
    "COMPLEXITY_METRICS = [m for m in complexities_df.columns.tolist()[3:] if 'time' not in m]"
   ]
  },
  {
   "cell_type": "code",
   "execution_count": 6,
   "id": "2a4388f8b5b052b7",
   "metadata": {
    "ExecuteTime": {
     "end_time": "2024-07-17T21:41:37.505938Z",
     "start_time": "2024-07-17T21:41:37.492767Z"
    }
   },
   "outputs": [],
   "source": [
    "def get_runs_for(name, client = client):\n",
    "    return mlflow.search_runs(client.get_experiment_by_name(name).experiment_id)"
   ]
  },
  {
   "cell_type": "code",
   "execution_count": 7,
   "id": "27d326705b5f96e5",
   "metadata": {
    "ExecuteTime": {
     "end_time": "2024-07-17T21:41:37.520329Z",
     "start_time": "2024-07-17T21:41:37.506662Z"
    }
   },
   "outputs": [],
   "source": [
    "CLASSIFICATION_METRICS = ['metrics.tn', 'metrics.tp', 'metrics.fp', 'metrics.fn']\n",
    "DATASET_PARAMS = ['params.should_take_test', 'params.dataset', 'params.data_shuffle_random_state']\n",
    "RF_METRICS = ['metrics.depth_mean',\n",
    "              'metrics.depth_min',\n",
    "              'metrics.depth_median',\n",
    "              'metrics.n_leaves_max',\n",
    "              'metrics.n_leaves_min',\n",
    "              'metrics.n_leaves_mean',\n",
    "              'metrics.depth_max',\n",
    "              'metrics.n_leaves_median',]\n",
    "QUAD_SPLIT_PARAMS = ['metrics.no_of_predicates_median', 'metrics.complex_clfs',\n",
    "                     'metrics.rules', 'metrics.no_of_predicates_max',\n",
    "                     'metrics.dummy_clfs', 'metrics.no_of_predicates_min',\n",
    "                     'metrics.all_clfs', 'params.min_split_percentage',\n",
    "                    'params.complexity_measure','params.min_samples']"
   ]
  },
  {
   "cell_type": "code",
   "execution_count": 8,
   "id": "8c463dd1a0058ecd",
   "metadata": {
    "ExecuteTime": {
     "end_time": "2024-07-17T21:41:37.532753Z",
     "start_time": "2024-07-17T21:41:37.521200Z"
    }
   },
   "outputs": [],
   "source": [
    "def calculate_accuracy(row):\n",
    "    return (row['metrics.tp'] + row['metrics.tn']) / (row['metrics.fp'] + row['metrics.tp'] + row['metrics.tn'] + row['metrics.fn'])"
   ]
  },
  {
   "cell_type": "code",
   "execution_count": 9,
   "id": "48dbd8a64c58dd3",
   "metadata": {
    "ExecuteTime": {
     "end_time": "2024-07-17T21:41:37.545851Z",
     "start_time": "2024-07-17T21:41:37.533376Z"
    }
   },
   "outputs": [],
   "source": [
    "def calculate_recall(row):\n",
    "    return row['metrics.tp'] / (row['metrics.tp'] + row['metrics.fn'])\n",
    "\n",
    "def calculate_precision(row):\n",
    "    return row['metrics.tp'] / (row['metrics.tp'] + row['metrics.fp'])"
   ]
  },
  {
   "cell_type": "code",
   "execution_count": 10,
   "id": "cec18df8500f804b",
   "metadata": {
    "ExecuteTime": {
     "end_time": "2024-07-17T21:41:38.206707Z",
     "start_time": "2024-07-17T21:41:37.546703Z"
    }
   },
   "outputs": [],
   "source": [
    "base_runs_dt = get_runs_for(\"base_runs_dt\")[CLASSIFICATION_METRICS + DATASET_PARAMS + ['metrics.depth', \"metrics.n_leaves\"]]\\\n",
    "    .assign(test_accuracy=calculate_accuracy) \\\n",
    "    .assign(test_recall=calculate_recall)\\\n",
    "    .assign(test_precision=calculate_precision)"
   ]
  },
  {
   "cell_type": "code",
   "execution_count": 11,
   "id": "c1e05f45a53e2433",
   "metadata": {
    "ExecuteTime": {
     "end_time": "2024-07-17T21:41:39.072205Z",
     "start_time": "2024-07-17T21:41:38.212090Z"
    }
   },
   "outputs": [],
   "source": [
    "base_runs_rf = get_runs_for(\"base_runs_rf\")[CLASSIFICATION_METRICS + DATASET_PARAMS + RF_METRICS]\\\n",
    "    .assign(test_accuracy=calculate_accuracy) \\\n",
    "    .assign(test_recall=calculate_recall) \\\n",
    "    .assign(test_precision=calculate_precision)"
   ]
  },
  {
   "cell_type": "code",
   "execution_count": 12,
   "id": "9eedb862bc4dc5e",
   "metadata": {
    "ExecuteTime": {
     "end_time": "2024-07-17T21:41:39.633512Z",
     "start_time": "2024-07-17T21:41:39.073005Z"
    }
   },
   "outputs": [],
   "source": [
    "base_runs_oner = (get_runs_for(\"base_runs_oner\")[CLASSIFICATION_METRICS + DATASET_PARAMS + ['metrics.rules_no', 'metrics.depth']]\n",
    "\n",
    "    .assign(test_accuracy=calculate_accuracy)) \\\n",
    "    .assign(test_recall=calculate_recall) \\\n",
    "    .assign(test_precision=calculate_precision)\n"
   ]
  },
  {
   "cell_type": "code",
   "execution_count": 13,
   "id": "ce55cd251fa361f1",
   "metadata": {
    "ExecuteTime": {
     "end_time": "2024-07-17T21:41:40.227288Z",
     "start_time": "2024-07-17T21:41:39.634326Z"
    }
   },
   "outputs": [],
   "source": [
    "base_runs_rulefit = (get_runs_for(\"base_runs_rulefit\")[CLASSIFICATION_METRICS + DATASET_PARAMS + ['metrics.max_rules', 'metrics.rules_no', 'metrics.terms_no']]\n",
    "    .assign(test_accuracy=calculate_accuracy)) \\\n",
    "    .assign(test_recall=calculate_recall) \\\n",
    "    .assign(test_precision=calculate_precision)\n"
   ]
  },
  {
   "cell_type": "code",
   "execution_count": 14,
   "id": "33f51c801058f0c4",
   "metadata": {
    "ExecuteTime": {
     "end_time": "2024-07-17T21:41:41.039301Z",
     "start_time": "2024-07-17T21:41:40.228124Z"
    }
   },
   "outputs": [],
   "source": [
    "base_runs_greedy = (get_runs_for(\"base_runs_greedy\")[CLASSIFICATION_METRICS + DATASET_PARAMS + ['metrics.depth', 'metrics.rules_no']]\n",
    "        .assign(test_accuracy=calculate_accuracy))\\\n",
    "    .assign(test_recall=calculate_recall) \\\n",
    "    .assign(test_precision=calculate_precision)"
   ]
  },
  {
   "cell_type": "code",
   "execution_count": 15,
   "id": "bebeebf79ec555e8",
   "metadata": {
    "ExecuteTime": {
     "end_time": "2024-07-17T21:41:52.602211Z",
     "start_time": "2024-07-17T21:41:41.040221Z"
    }
   },
   "outputs": [],
   "source": [
    "quad_split_runs_v1_df =get_runs_for(\"09.07-quadsplit-explain-v1\")[CLASSIFICATION_METRICS + DATASET_PARAMS + QUAD_SPLIT_PARAMS] \\\n",
    "    .assign(test_accuracy=calculate_accuracy) \\\n",
    "    .assign(test_recall=calculate_recall) \\\n",
    "    .assign(test_precision=calculate_precision)"
   ]
  },
  {
   "cell_type": "code",
   "execution_count": 16,
   "id": "1adf80b7-6244-4c70-97ad-b479822a57ff",
   "metadata": {},
   "outputs": [],
   "source": [
    "quad_split_runs_v2_df =get_runs_for(\"09.07-quadsplit-explain-v2\")[CLASSIFICATION_METRICS + DATASET_PARAMS + QUAD_SPLIT_PARAMS] \\\n",
    "    .assign(test_accuracy=calculate_accuracy) \\\n",
    "    .assign(test_recall=calculate_recall) \\\n",
    "    .assign(test_precision=calculate_precision)"
   ]
  },
  {
   "cell_type": "code",
   "execution_count": 17,
   "id": "6ef439416fbfd393",
   "metadata": {
    "ExecuteTime": {
     "end_time": "2024-07-17T21:41:52.647559Z",
     "start_time": "2024-07-17T21:41:52.632453Z"
    }
   },
   "outputs": [],
   "source": [
    "base_runs_rf.rename(columns={c: c+'_rf' for c in base_runs_rf.columns if 'metric' in c or 'test_' in c}, inplace=True)\n",
    "base_runs_dt.rename(columns={c: c+'_dt' for c in base_runs_dt.columns if 'metric' in c  or 'test_' in c}, inplace=True)\n",
    "base_runs_greedy.rename(columns={c: c+'_greedy' for c in base_runs_greedy.columns if 'metric' in c or 'test_' in c}, inplace=True)\n",
    "base_runs_oner.rename(columns={c: c+'_oner' for c in base_runs_oner.columns if 'metric' in c or 'test_' in c}, inplace=True)\n",
    "base_runs_rulefit.rename(columns={c: c+'_rulefit' for c in base_runs_rulefit.columns if 'metric' in c or 'test_' in c}, inplace=True)\n",
    "quad_split_runs_v1_df.rename(columns={c: c+'_v1' for c in quad_split_runs_v1_df.columns if 'metric' in c or 'test_' in c}, inplace=True)\n",
    "quad_split_runs_v2_df.rename(columns={c: c+'_v2' for c in quad_split_runs_v2_df.columns if 'metric' in c or 'test_' in c}, inplace=True)"
   ]
  },
  {
   "cell_type": "code",
   "execution_count": 22,
   "id": "aa9b32953ecb9b33",
   "metadata": {
    "ExecuteTime": {
     "end_time": "2024-07-17T21:41:52.672808Z",
     "start_time": "2024-07-17T21:41:52.648194Z"
    }
   },
   "outputs": [],
   "source": [
    "base_runs_together_df = pd.merge(\n",
    "    base_runs_dt,\n",
    "    base_runs_rf,\n",
    "    how='right',\n",
    "    on=DATASET_PARAMS,\n",
    "    suffixes=('_dt', '_rf')\n",
    ")\\\n",
    "    .merge(base_runs_greedy, how='right', on=DATASET_PARAMS, suffixes=('', '_greedy'))\\\n",
    "    .merge(base_runs_oner, how='right', on=DATASET_PARAMS, suffixes=('', '_oner'))\\\n",
    "    .merge(base_runs_rulefit, how='right', on=DATASET_PARAMS, suffixes=('', '_rulefit'))\\\n",
    "    .dropna()\n",
    "quad_split_df = pd.merge(\n",
    "    base_runs_together_df,\n",
    "    quad_split_runs_v1_df,\n",
    "    how='right',\n",
    "    on=DATASET_PARAMS,\n",
    "    suffixes=('', '_v1')\n",
    ")\n",
    "quad_split_df = pd.merge(\n",
    "    quad_split_df,\n",
    "    quad_split_runs_v2_df,\n",
    "    how='right',\n",
    "    on=DATASET_PARAMS,\n",
    "    suffixes=('', '_v2')\n",
    ")\n",
    "quad_split_df = pd.merge(\n",
    "    quad_split_df,\n",
    "    complexities_df,\n",
    "    how='left',\n",
    "    on=DATASET_PARAMS\n",
    ")"
   ]
  },
  {
   "cell_type": "code",
   "execution_count": 24,
   "id": "f32c81ec-42df-4611-8b29-f9de579c5ef3",
   "metadata": {},
   "outputs": [],
   "source": [
    "LABELS_THAT_SHOULD_BE =[\"better\", \"equal\", \"worse\"] "
   ]
  },
  {
   "cell_type": "code",
   "execution_count": 25,
   "id": "ee5702225cd8ffe9",
   "metadata": {
    "ExecuteTime": {
     "end_time": "2024-07-17T21:41:52.704752Z",
     "start_time": "2024-07-17T21:41:52.688086Z"
    }
   },
   "outputs": [],
   "source": [
    "quad_split_df.dropna(inplace=True)"
   ]
  },
  {
   "cell_type": "code",
   "execution_count": 26,
   "id": "12e6820e528f789f",
   "metadata": {
    "ExecuteTime": {
     "end_time": "2024-07-17T21:41:52.717938Z",
     "start_time": "2024-07-17T21:41:52.705530Z"
    }
   },
   "outputs": [],
   "source": [
    "LIMITING_QUERY = \"`params.min_samples` == '28' and `params.min_split_percentage` == '0.183'\""
   ]
  },
  {
   "cell_type": "code",
   "execution_count": 27,
   "id": "c23fa32c39aed24b",
   "metadata": {
    "ExecuteTime": {
     "end_time": "2024-07-17T21:41:52.736523Z",
     "start_time": "2024-07-17T21:41:52.718818Z"
    }
   },
   "outputs": [],
   "source": [
    "quad_split_df.dropna(inplace=True)"
   ]
  },
  {
   "cell_type": "code",
   "execution_count": 28,
   "id": "ba2e3ff5c84c2327",
   "metadata": {
    "ExecuteTime": {
     "end_time": "2024-07-17T21:41:52.749454Z",
     "start_time": "2024-07-17T21:41:52.737256Z"
    }
   },
   "outputs": [],
   "source": [
    "METRICS = ['test_accuracy', 'test_recall', 'test_precision']"
   ]
  },
  {
   "cell_type": "code",
   "execution_count": 29,
   "id": "e99eeeee3f3af329",
   "metadata": {
    "ExecuteTime": {
     "end_time": "2024-07-17T21:41:52.761563Z",
     "start_time": "2024-07-17T21:41:52.750417Z"
    }
   },
   "outputs": [],
   "source": [
    "SUFFIXES = [\"_dt\", \"_rf\", \"_oner\", \"_rulefit\", \"_greedy\"]"
   ]
  },
  {
   "cell_type": "code",
   "execution_count": 32,
   "id": "6f3f711d4da9789c",
   "metadata": {
    "ExecuteTime": {
     "end_time": "2024-07-17T21:41:52.775175Z",
     "start_time": "2024-07-17T21:41:52.762390Z"
    }
   },
   "outputs": [],
   "source": [
    "def define_comparison(row, suffix, metric, v):\n",
    "    if row[f'{metric}{v}_equal{suffix}']:\n",
    "        return \"equal\"\n",
    "    if row[f'{metric}{v}_better{suffix}']:\n",
    "        return \"better\"\n",
    "    else:\n",
    "        return \"worse\""
   ]
  },
  {
   "cell_type": "code",
   "execution_count": 33,
   "id": "74d69acd8b5b4e47",
   "metadata": {
    "ExecuteTime": {
     "end_time": "2024-07-17T21:41:53.091533Z",
     "start_time": "2024-07-17T21:41:52.776343Z"
    }
   },
   "outputs": [
    {
     "name": "stderr",
     "output_type": "stream",
     "text": [
      "/var/folders/fd/dyfc8ph167q7r5pf9y8451540000gn/T/ipykernel_3081/2279284652.py:4: PerformanceWarning: DataFrame is highly fragmented.  This is usually the result of calling `frame.insert` many times, which has poor performance.  Consider joining all columns at once using pd.concat(axis=1) instead. To get a de-fragmented frame, use `newframe = frame.copy()`\n",
      "  quad_split_df[f'{metric}{v}_diff_to{suffix}'] = quad_split_df[f\"{metric}{v}\"] - quad_split_df[f'{metric}{suffix}']\n",
      "/var/folders/fd/dyfc8ph167q7r5pf9y8451540000gn/T/ipykernel_3081/2279284652.py:5: PerformanceWarning: DataFrame is highly fragmented.  This is usually the result of calling `frame.insert` many times, which has poor performance.  Consider joining all columns at once using pd.concat(axis=1) instead. To get a de-fragmented frame, use `newframe = frame.copy()`\n",
      "  quad_split_df[f'{metric}{v}_better_equal{suffix}'] = quad_split_df[f\"{metric}{v}\"] >= quad_split_df[f'{metric}{suffix}']\n",
      "/var/folders/fd/dyfc8ph167q7r5pf9y8451540000gn/T/ipykernel_3081/2279284652.py:6: PerformanceWarning: DataFrame is highly fragmented.  This is usually the result of calling `frame.insert` many times, which has poor performance.  Consider joining all columns at once using pd.concat(axis=1) instead. To get a de-fragmented frame, use `newframe = frame.copy()`\n",
      "  quad_split_df[f'{metric}{v}_better{suffix}'] = quad_split_df[f\"{metric}{v}\"] > quad_split_df[f'{metric}{suffix}']\n",
      "/var/folders/fd/dyfc8ph167q7r5pf9y8451540000gn/T/ipykernel_3081/2279284652.py:7: PerformanceWarning: DataFrame is highly fragmented.  This is usually the result of calling `frame.insert` many times, which has poor performance.  Consider joining all columns at once using pd.concat(axis=1) instead. To get a de-fragmented frame, use `newframe = frame.copy()`\n",
      "  quad_split_df[f'{metric}{v}_worse{suffix}'] = ~quad_split_df[f'{metric}{v}_better_equal{suffix}']\n",
      "/var/folders/fd/dyfc8ph167q7r5pf9y8451540000gn/T/ipykernel_3081/2279284652.py:8: PerformanceWarning: DataFrame is highly fragmented.  This is usually the result of calling `frame.insert` many times, which has poor performance.  Consider joining all columns at once using pd.concat(axis=1) instead. To get a de-fragmented frame, use `newframe = frame.copy()`\n",
      "  quad_split_df[f'{metric}{v}_worse_equal{suffix}'] = ~quad_split_df[f'{metric}{v}_better{suffix}']\n",
      "/var/folders/fd/dyfc8ph167q7r5pf9y8451540000gn/T/ipykernel_3081/2279284652.py:9: PerformanceWarning: DataFrame is highly fragmented.  This is usually the result of calling `frame.insert` many times, which has poor performance.  Consider joining all columns at once using pd.concat(axis=1) instead. To get a de-fragmented frame, use `newframe = frame.copy()`\n",
      "  quad_split_df[f'{metric}{v}_equal{suffix}'] = quad_split_df[f\"{metric}{v}\"] == quad_split_df[f'{metric}{suffix}']\n",
      "/var/folders/fd/dyfc8ph167q7r5pf9y8451540000gn/T/ipykernel_3081/2279284652.py:10: PerformanceWarning: DataFrame is highly fragmented.  This is usually the result of calling `frame.insert` many times, which has poor performance.  Consider joining all columns at once using pd.concat(axis=1) instead. To get a de-fragmented frame, use `newframe = frame.copy()`\n",
      "  quad_split_df[f'{metric}{v}_comparison{suffix}'] = quad_split_df.apply(lambda row: define_comparison(row, suffix, metric, v), axis=1)\n",
      "/var/folders/fd/dyfc8ph167q7r5pf9y8451540000gn/T/ipykernel_3081/2279284652.py:4: PerformanceWarning: DataFrame is highly fragmented.  This is usually the result of calling `frame.insert` many times, which has poor performance.  Consider joining all columns at once using pd.concat(axis=1) instead. To get a de-fragmented frame, use `newframe = frame.copy()`\n",
      "  quad_split_df[f'{metric}{v}_diff_to{suffix}'] = quad_split_df[f\"{metric}{v}\"] - quad_split_df[f'{metric}{suffix}']\n",
      "/var/folders/fd/dyfc8ph167q7r5pf9y8451540000gn/T/ipykernel_3081/2279284652.py:5: PerformanceWarning: DataFrame is highly fragmented.  This is usually the result of calling `frame.insert` many times, which has poor performance.  Consider joining all columns at once using pd.concat(axis=1) instead. To get a de-fragmented frame, use `newframe = frame.copy()`\n",
      "  quad_split_df[f'{metric}{v}_better_equal{suffix}'] = quad_split_df[f\"{metric}{v}\"] >= quad_split_df[f'{metric}{suffix}']\n",
      "/var/folders/fd/dyfc8ph167q7r5pf9y8451540000gn/T/ipykernel_3081/2279284652.py:6: PerformanceWarning: DataFrame is highly fragmented.  This is usually the result of calling `frame.insert` many times, which has poor performance.  Consider joining all columns at once using pd.concat(axis=1) instead. To get a de-fragmented frame, use `newframe = frame.copy()`\n",
      "  quad_split_df[f'{metric}{v}_better{suffix}'] = quad_split_df[f\"{metric}{v}\"] > quad_split_df[f'{metric}{suffix}']\n",
      "/var/folders/fd/dyfc8ph167q7r5pf9y8451540000gn/T/ipykernel_3081/2279284652.py:7: PerformanceWarning: DataFrame is highly fragmented.  This is usually the result of calling `frame.insert` many times, which has poor performance.  Consider joining all columns at once using pd.concat(axis=1) instead. To get a de-fragmented frame, use `newframe = frame.copy()`\n",
      "  quad_split_df[f'{metric}{v}_worse{suffix}'] = ~quad_split_df[f'{metric}{v}_better_equal{suffix}']\n",
      "/var/folders/fd/dyfc8ph167q7r5pf9y8451540000gn/T/ipykernel_3081/2279284652.py:8: PerformanceWarning: DataFrame is highly fragmented.  This is usually the result of calling `frame.insert` many times, which has poor performance.  Consider joining all columns at once using pd.concat(axis=1) instead. To get a de-fragmented frame, use `newframe = frame.copy()`\n",
      "  quad_split_df[f'{metric}{v}_worse_equal{suffix}'] = ~quad_split_df[f'{metric}{v}_better{suffix}']\n",
      "/var/folders/fd/dyfc8ph167q7r5pf9y8451540000gn/T/ipykernel_3081/2279284652.py:9: PerformanceWarning: DataFrame is highly fragmented.  This is usually the result of calling `frame.insert` many times, which has poor performance.  Consider joining all columns at once using pd.concat(axis=1) instead. To get a de-fragmented frame, use `newframe = frame.copy()`\n",
      "  quad_split_df[f'{metric}{v}_equal{suffix}'] = quad_split_df[f\"{metric}{v}\"] == quad_split_df[f'{metric}{suffix}']\n",
      "/var/folders/fd/dyfc8ph167q7r5pf9y8451540000gn/T/ipykernel_3081/2279284652.py:10: PerformanceWarning: DataFrame is highly fragmented.  This is usually the result of calling `frame.insert` many times, which has poor performance.  Consider joining all columns at once using pd.concat(axis=1) instead. To get a de-fragmented frame, use `newframe = frame.copy()`\n",
      "  quad_split_df[f'{metric}{v}_comparison{suffix}'] = quad_split_df.apply(lambda row: define_comparison(row, suffix, metric, v), axis=1)\n",
      "/var/folders/fd/dyfc8ph167q7r5pf9y8451540000gn/T/ipykernel_3081/2279284652.py:4: PerformanceWarning: DataFrame is highly fragmented.  This is usually the result of calling `frame.insert` many times, which has poor performance.  Consider joining all columns at once using pd.concat(axis=1) instead. To get a de-fragmented frame, use `newframe = frame.copy()`\n",
      "  quad_split_df[f'{metric}{v}_diff_to{suffix}'] = quad_split_df[f\"{metric}{v}\"] - quad_split_df[f'{metric}{suffix}']\n",
      "/var/folders/fd/dyfc8ph167q7r5pf9y8451540000gn/T/ipykernel_3081/2279284652.py:5: PerformanceWarning: DataFrame is highly fragmented.  This is usually the result of calling `frame.insert` many times, which has poor performance.  Consider joining all columns at once using pd.concat(axis=1) instead. To get a de-fragmented frame, use `newframe = frame.copy()`\n",
      "  quad_split_df[f'{metric}{v}_better_equal{suffix}'] = quad_split_df[f\"{metric}{v}\"] >= quad_split_df[f'{metric}{suffix}']\n",
      "/var/folders/fd/dyfc8ph167q7r5pf9y8451540000gn/T/ipykernel_3081/2279284652.py:6: PerformanceWarning: DataFrame is highly fragmented.  This is usually the result of calling `frame.insert` many times, which has poor performance.  Consider joining all columns at once using pd.concat(axis=1) instead. To get a de-fragmented frame, use `newframe = frame.copy()`\n",
      "  quad_split_df[f'{metric}{v}_better{suffix}'] = quad_split_df[f\"{metric}{v}\"] > quad_split_df[f'{metric}{suffix}']\n",
      "/var/folders/fd/dyfc8ph167q7r5pf9y8451540000gn/T/ipykernel_3081/2279284652.py:7: PerformanceWarning: DataFrame is highly fragmented.  This is usually the result of calling `frame.insert` many times, which has poor performance.  Consider joining all columns at once using pd.concat(axis=1) instead. To get a de-fragmented frame, use `newframe = frame.copy()`\n",
      "  quad_split_df[f'{metric}{v}_worse{suffix}'] = ~quad_split_df[f'{metric}{v}_better_equal{suffix}']\n",
      "/var/folders/fd/dyfc8ph167q7r5pf9y8451540000gn/T/ipykernel_3081/2279284652.py:8: PerformanceWarning: DataFrame is highly fragmented.  This is usually the result of calling `frame.insert` many times, which has poor performance.  Consider joining all columns at once using pd.concat(axis=1) instead. To get a de-fragmented frame, use `newframe = frame.copy()`\n",
      "  quad_split_df[f'{metric}{v}_worse_equal{suffix}'] = ~quad_split_df[f'{metric}{v}_better{suffix}']\n",
      "/var/folders/fd/dyfc8ph167q7r5pf9y8451540000gn/T/ipykernel_3081/2279284652.py:9: PerformanceWarning: DataFrame is highly fragmented.  This is usually the result of calling `frame.insert` many times, which has poor performance.  Consider joining all columns at once using pd.concat(axis=1) instead. To get a de-fragmented frame, use `newframe = frame.copy()`\n",
      "  quad_split_df[f'{metric}{v}_equal{suffix}'] = quad_split_df[f\"{metric}{v}\"] == quad_split_df[f'{metric}{suffix}']\n",
      "/var/folders/fd/dyfc8ph167q7r5pf9y8451540000gn/T/ipykernel_3081/2279284652.py:10: PerformanceWarning: DataFrame is highly fragmented.  This is usually the result of calling `frame.insert` many times, which has poor performance.  Consider joining all columns at once using pd.concat(axis=1) instead. To get a de-fragmented frame, use `newframe = frame.copy()`\n",
      "  quad_split_df[f'{metric}{v}_comparison{suffix}'] = quad_split_df.apply(lambda row: define_comparison(row, suffix, metric, v), axis=1)\n",
      "/var/folders/fd/dyfc8ph167q7r5pf9y8451540000gn/T/ipykernel_3081/2279284652.py:4: PerformanceWarning: DataFrame is highly fragmented.  This is usually the result of calling `frame.insert` many times, which has poor performance.  Consider joining all columns at once using pd.concat(axis=1) instead. To get a de-fragmented frame, use `newframe = frame.copy()`\n",
      "  quad_split_df[f'{metric}{v}_diff_to{suffix}'] = quad_split_df[f\"{metric}{v}\"] - quad_split_df[f'{metric}{suffix}']\n",
      "/var/folders/fd/dyfc8ph167q7r5pf9y8451540000gn/T/ipykernel_3081/2279284652.py:5: PerformanceWarning: DataFrame is highly fragmented.  This is usually the result of calling `frame.insert` many times, which has poor performance.  Consider joining all columns at once using pd.concat(axis=1) instead. To get a de-fragmented frame, use `newframe = frame.copy()`\n",
      "  quad_split_df[f'{metric}{v}_better_equal{suffix}'] = quad_split_df[f\"{metric}{v}\"] >= quad_split_df[f'{metric}{suffix}']\n",
      "/var/folders/fd/dyfc8ph167q7r5pf9y8451540000gn/T/ipykernel_3081/2279284652.py:6: PerformanceWarning: DataFrame is highly fragmented.  This is usually the result of calling `frame.insert` many times, which has poor performance.  Consider joining all columns at once using pd.concat(axis=1) instead. To get a de-fragmented frame, use `newframe = frame.copy()`\n",
      "  quad_split_df[f'{metric}{v}_better{suffix}'] = quad_split_df[f\"{metric}{v}\"] > quad_split_df[f'{metric}{suffix}']\n",
      "/var/folders/fd/dyfc8ph167q7r5pf9y8451540000gn/T/ipykernel_3081/2279284652.py:7: PerformanceWarning: DataFrame is highly fragmented.  This is usually the result of calling `frame.insert` many times, which has poor performance.  Consider joining all columns at once using pd.concat(axis=1) instead. To get a de-fragmented frame, use `newframe = frame.copy()`\n",
      "  quad_split_df[f'{metric}{v}_worse{suffix}'] = ~quad_split_df[f'{metric}{v}_better_equal{suffix}']\n",
      "/var/folders/fd/dyfc8ph167q7r5pf9y8451540000gn/T/ipykernel_3081/2279284652.py:8: PerformanceWarning: DataFrame is highly fragmented.  This is usually the result of calling `frame.insert` many times, which has poor performance.  Consider joining all columns at once using pd.concat(axis=1) instead. To get a de-fragmented frame, use `newframe = frame.copy()`\n",
      "  quad_split_df[f'{metric}{v}_worse_equal{suffix}'] = ~quad_split_df[f'{metric}{v}_better{suffix}']\n",
      "/var/folders/fd/dyfc8ph167q7r5pf9y8451540000gn/T/ipykernel_3081/2279284652.py:9: PerformanceWarning: DataFrame is highly fragmented.  This is usually the result of calling `frame.insert` many times, which has poor performance.  Consider joining all columns at once using pd.concat(axis=1) instead. To get a de-fragmented frame, use `newframe = frame.copy()`\n",
      "  quad_split_df[f'{metric}{v}_equal{suffix}'] = quad_split_df[f\"{metric}{v}\"] == quad_split_df[f'{metric}{suffix}']\n",
      "/var/folders/fd/dyfc8ph167q7r5pf9y8451540000gn/T/ipykernel_3081/2279284652.py:10: PerformanceWarning: DataFrame is highly fragmented.  This is usually the result of calling `frame.insert` many times, which has poor performance.  Consider joining all columns at once using pd.concat(axis=1) instead. To get a de-fragmented frame, use `newframe = frame.copy()`\n",
      "  quad_split_df[f'{metric}{v}_comparison{suffix}'] = quad_split_df.apply(lambda row: define_comparison(row, suffix, metric, v), axis=1)\n",
      "/var/folders/fd/dyfc8ph167q7r5pf9y8451540000gn/T/ipykernel_3081/2279284652.py:4: PerformanceWarning: DataFrame is highly fragmented.  This is usually the result of calling `frame.insert` many times, which has poor performance.  Consider joining all columns at once using pd.concat(axis=1) instead. To get a de-fragmented frame, use `newframe = frame.copy()`\n",
      "  quad_split_df[f'{metric}{v}_diff_to{suffix}'] = quad_split_df[f\"{metric}{v}\"] - quad_split_df[f'{metric}{suffix}']\n",
      "/var/folders/fd/dyfc8ph167q7r5pf9y8451540000gn/T/ipykernel_3081/2279284652.py:5: PerformanceWarning: DataFrame is highly fragmented.  This is usually the result of calling `frame.insert` many times, which has poor performance.  Consider joining all columns at once using pd.concat(axis=1) instead. To get a de-fragmented frame, use `newframe = frame.copy()`\n",
      "  quad_split_df[f'{metric}{v}_better_equal{suffix}'] = quad_split_df[f\"{metric}{v}\"] >= quad_split_df[f'{metric}{suffix}']\n",
      "/var/folders/fd/dyfc8ph167q7r5pf9y8451540000gn/T/ipykernel_3081/2279284652.py:6: PerformanceWarning: DataFrame is highly fragmented.  This is usually the result of calling `frame.insert` many times, which has poor performance.  Consider joining all columns at once using pd.concat(axis=1) instead. To get a de-fragmented frame, use `newframe = frame.copy()`\n",
      "  quad_split_df[f'{metric}{v}_better{suffix}'] = quad_split_df[f\"{metric}{v}\"] > quad_split_df[f'{metric}{suffix}']\n",
      "/var/folders/fd/dyfc8ph167q7r5pf9y8451540000gn/T/ipykernel_3081/2279284652.py:7: PerformanceWarning: DataFrame is highly fragmented.  This is usually the result of calling `frame.insert` many times, which has poor performance.  Consider joining all columns at once using pd.concat(axis=1) instead. To get a de-fragmented frame, use `newframe = frame.copy()`\n",
      "  quad_split_df[f'{metric}{v}_worse{suffix}'] = ~quad_split_df[f'{metric}{v}_better_equal{suffix}']\n",
      "/var/folders/fd/dyfc8ph167q7r5pf9y8451540000gn/T/ipykernel_3081/2279284652.py:8: PerformanceWarning: DataFrame is highly fragmented.  This is usually the result of calling `frame.insert` many times, which has poor performance.  Consider joining all columns at once using pd.concat(axis=1) instead. To get a de-fragmented frame, use `newframe = frame.copy()`\n",
      "  quad_split_df[f'{metric}{v}_worse_equal{suffix}'] = ~quad_split_df[f'{metric}{v}_better{suffix}']\n",
      "/var/folders/fd/dyfc8ph167q7r5pf9y8451540000gn/T/ipykernel_3081/2279284652.py:9: PerformanceWarning: DataFrame is highly fragmented.  This is usually the result of calling `frame.insert` many times, which has poor performance.  Consider joining all columns at once using pd.concat(axis=1) instead. To get a de-fragmented frame, use `newframe = frame.copy()`\n",
      "  quad_split_df[f'{metric}{v}_equal{suffix}'] = quad_split_df[f\"{metric}{v}\"] == quad_split_df[f'{metric}{suffix}']\n",
      "/var/folders/fd/dyfc8ph167q7r5pf9y8451540000gn/T/ipykernel_3081/2279284652.py:10: PerformanceWarning: DataFrame is highly fragmented.  This is usually the result of calling `frame.insert` many times, which has poor performance.  Consider joining all columns at once using pd.concat(axis=1) instead. To get a de-fragmented frame, use `newframe = frame.copy()`\n",
      "  quad_split_df[f'{metric}{v}_comparison{suffix}'] = quad_split_df.apply(lambda row: define_comparison(row, suffix, metric, v), axis=1)\n",
      "/var/folders/fd/dyfc8ph167q7r5pf9y8451540000gn/T/ipykernel_3081/2279284652.py:4: PerformanceWarning: DataFrame is highly fragmented.  This is usually the result of calling `frame.insert` many times, which has poor performance.  Consider joining all columns at once using pd.concat(axis=1) instead. To get a de-fragmented frame, use `newframe = frame.copy()`\n",
      "  quad_split_df[f'{metric}{v}_diff_to{suffix}'] = quad_split_df[f\"{metric}{v}\"] - quad_split_df[f'{metric}{suffix}']\n",
      "/var/folders/fd/dyfc8ph167q7r5pf9y8451540000gn/T/ipykernel_3081/2279284652.py:5: PerformanceWarning: DataFrame is highly fragmented.  This is usually the result of calling `frame.insert` many times, which has poor performance.  Consider joining all columns at once using pd.concat(axis=1) instead. To get a de-fragmented frame, use `newframe = frame.copy()`\n",
      "  quad_split_df[f'{metric}{v}_better_equal{suffix}'] = quad_split_df[f\"{metric}{v}\"] >= quad_split_df[f'{metric}{suffix}']\n",
      "/var/folders/fd/dyfc8ph167q7r5pf9y8451540000gn/T/ipykernel_3081/2279284652.py:6: PerformanceWarning: DataFrame is highly fragmented.  This is usually the result of calling `frame.insert` many times, which has poor performance.  Consider joining all columns at once using pd.concat(axis=1) instead. To get a de-fragmented frame, use `newframe = frame.copy()`\n",
      "  quad_split_df[f'{metric}{v}_better{suffix}'] = quad_split_df[f\"{metric}{v}\"] > quad_split_df[f'{metric}{suffix}']\n",
      "/var/folders/fd/dyfc8ph167q7r5pf9y8451540000gn/T/ipykernel_3081/2279284652.py:7: PerformanceWarning: DataFrame is highly fragmented.  This is usually the result of calling `frame.insert` many times, which has poor performance.  Consider joining all columns at once using pd.concat(axis=1) instead. To get a de-fragmented frame, use `newframe = frame.copy()`\n",
      "  quad_split_df[f'{metric}{v}_worse{suffix}'] = ~quad_split_df[f'{metric}{v}_better_equal{suffix}']\n",
      "/var/folders/fd/dyfc8ph167q7r5pf9y8451540000gn/T/ipykernel_3081/2279284652.py:8: PerformanceWarning: DataFrame is highly fragmented.  This is usually the result of calling `frame.insert` many times, which has poor performance.  Consider joining all columns at once using pd.concat(axis=1) instead. To get a de-fragmented frame, use `newframe = frame.copy()`\n",
      "  quad_split_df[f'{metric}{v}_worse_equal{suffix}'] = ~quad_split_df[f'{metric}{v}_better{suffix}']\n",
      "/var/folders/fd/dyfc8ph167q7r5pf9y8451540000gn/T/ipykernel_3081/2279284652.py:9: PerformanceWarning: DataFrame is highly fragmented.  This is usually the result of calling `frame.insert` many times, which has poor performance.  Consider joining all columns at once using pd.concat(axis=1) instead. To get a de-fragmented frame, use `newframe = frame.copy()`\n",
      "  quad_split_df[f'{metric}{v}_equal{suffix}'] = quad_split_df[f\"{metric}{v}\"] == quad_split_df[f'{metric}{suffix}']\n",
      "/var/folders/fd/dyfc8ph167q7r5pf9y8451540000gn/T/ipykernel_3081/2279284652.py:10: PerformanceWarning: DataFrame is highly fragmented.  This is usually the result of calling `frame.insert` many times, which has poor performance.  Consider joining all columns at once using pd.concat(axis=1) instead. To get a de-fragmented frame, use `newframe = frame.copy()`\n",
      "  quad_split_df[f'{metric}{v}_comparison{suffix}'] = quad_split_df.apply(lambda row: define_comparison(row, suffix, metric, v), axis=1)\n",
      "/var/folders/fd/dyfc8ph167q7r5pf9y8451540000gn/T/ipykernel_3081/2279284652.py:4: PerformanceWarning: DataFrame is highly fragmented.  This is usually the result of calling `frame.insert` many times, which has poor performance.  Consider joining all columns at once using pd.concat(axis=1) instead. To get a de-fragmented frame, use `newframe = frame.copy()`\n",
      "  quad_split_df[f'{metric}{v}_diff_to{suffix}'] = quad_split_df[f\"{metric}{v}\"] - quad_split_df[f'{metric}{suffix}']\n",
      "/var/folders/fd/dyfc8ph167q7r5pf9y8451540000gn/T/ipykernel_3081/2279284652.py:5: PerformanceWarning: DataFrame is highly fragmented.  This is usually the result of calling `frame.insert` many times, which has poor performance.  Consider joining all columns at once using pd.concat(axis=1) instead. To get a de-fragmented frame, use `newframe = frame.copy()`\n",
      "  quad_split_df[f'{metric}{v}_better_equal{suffix}'] = quad_split_df[f\"{metric}{v}\"] >= quad_split_df[f'{metric}{suffix}']\n",
      "/var/folders/fd/dyfc8ph167q7r5pf9y8451540000gn/T/ipykernel_3081/2279284652.py:6: PerformanceWarning: DataFrame is highly fragmented.  This is usually the result of calling `frame.insert` many times, which has poor performance.  Consider joining all columns at once using pd.concat(axis=1) instead. To get a de-fragmented frame, use `newframe = frame.copy()`\n",
      "  quad_split_df[f'{metric}{v}_better{suffix}'] = quad_split_df[f\"{metric}{v}\"] > quad_split_df[f'{metric}{suffix}']\n",
      "/var/folders/fd/dyfc8ph167q7r5pf9y8451540000gn/T/ipykernel_3081/2279284652.py:7: PerformanceWarning: DataFrame is highly fragmented.  This is usually the result of calling `frame.insert` many times, which has poor performance.  Consider joining all columns at once using pd.concat(axis=1) instead. To get a de-fragmented frame, use `newframe = frame.copy()`\n",
      "  quad_split_df[f'{metric}{v}_worse{suffix}'] = ~quad_split_df[f'{metric}{v}_better_equal{suffix}']\n",
      "/var/folders/fd/dyfc8ph167q7r5pf9y8451540000gn/T/ipykernel_3081/2279284652.py:8: PerformanceWarning: DataFrame is highly fragmented.  This is usually the result of calling `frame.insert` many times, which has poor performance.  Consider joining all columns at once using pd.concat(axis=1) instead. To get a de-fragmented frame, use `newframe = frame.copy()`\n",
      "  quad_split_df[f'{metric}{v}_worse_equal{suffix}'] = ~quad_split_df[f'{metric}{v}_better{suffix}']\n",
      "/var/folders/fd/dyfc8ph167q7r5pf9y8451540000gn/T/ipykernel_3081/2279284652.py:9: PerformanceWarning: DataFrame is highly fragmented.  This is usually the result of calling `frame.insert` many times, which has poor performance.  Consider joining all columns at once using pd.concat(axis=1) instead. To get a de-fragmented frame, use `newframe = frame.copy()`\n",
      "  quad_split_df[f'{metric}{v}_equal{suffix}'] = quad_split_df[f\"{metric}{v}\"] == quad_split_df[f'{metric}{suffix}']\n",
      "/var/folders/fd/dyfc8ph167q7r5pf9y8451540000gn/T/ipykernel_3081/2279284652.py:10: PerformanceWarning: DataFrame is highly fragmented.  This is usually the result of calling `frame.insert` many times, which has poor performance.  Consider joining all columns at once using pd.concat(axis=1) instead. To get a de-fragmented frame, use `newframe = frame.copy()`\n",
      "  quad_split_df[f'{metric}{v}_comparison{suffix}'] = quad_split_df.apply(lambda row: define_comparison(row, suffix, metric, v), axis=1)\n",
      "/var/folders/fd/dyfc8ph167q7r5pf9y8451540000gn/T/ipykernel_3081/2279284652.py:4: PerformanceWarning: DataFrame is highly fragmented.  This is usually the result of calling `frame.insert` many times, which has poor performance.  Consider joining all columns at once using pd.concat(axis=1) instead. To get a de-fragmented frame, use `newframe = frame.copy()`\n",
      "  quad_split_df[f'{metric}{v}_diff_to{suffix}'] = quad_split_df[f\"{metric}{v}\"] - quad_split_df[f'{metric}{suffix}']\n",
      "/var/folders/fd/dyfc8ph167q7r5pf9y8451540000gn/T/ipykernel_3081/2279284652.py:5: PerformanceWarning: DataFrame is highly fragmented.  This is usually the result of calling `frame.insert` many times, which has poor performance.  Consider joining all columns at once using pd.concat(axis=1) instead. To get a de-fragmented frame, use `newframe = frame.copy()`\n",
      "  quad_split_df[f'{metric}{v}_better_equal{suffix}'] = quad_split_df[f\"{metric}{v}\"] >= quad_split_df[f'{metric}{suffix}']\n",
      "/var/folders/fd/dyfc8ph167q7r5pf9y8451540000gn/T/ipykernel_3081/2279284652.py:6: PerformanceWarning: DataFrame is highly fragmented.  This is usually the result of calling `frame.insert` many times, which has poor performance.  Consider joining all columns at once using pd.concat(axis=1) instead. To get a de-fragmented frame, use `newframe = frame.copy()`\n",
      "  quad_split_df[f'{metric}{v}_better{suffix}'] = quad_split_df[f\"{metric}{v}\"] > quad_split_df[f'{metric}{suffix}']\n",
      "/var/folders/fd/dyfc8ph167q7r5pf9y8451540000gn/T/ipykernel_3081/2279284652.py:7: PerformanceWarning: DataFrame is highly fragmented.  This is usually the result of calling `frame.insert` many times, which has poor performance.  Consider joining all columns at once using pd.concat(axis=1) instead. To get a de-fragmented frame, use `newframe = frame.copy()`\n",
      "  quad_split_df[f'{metric}{v}_worse{suffix}'] = ~quad_split_df[f'{metric}{v}_better_equal{suffix}']\n",
      "/var/folders/fd/dyfc8ph167q7r5pf9y8451540000gn/T/ipykernel_3081/2279284652.py:8: PerformanceWarning: DataFrame is highly fragmented.  This is usually the result of calling `frame.insert` many times, which has poor performance.  Consider joining all columns at once using pd.concat(axis=1) instead. To get a de-fragmented frame, use `newframe = frame.copy()`\n",
      "  quad_split_df[f'{metric}{v}_worse_equal{suffix}'] = ~quad_split_df[f'{metric}{v}_better{suffix}']\n",
      "/var/folders/fd/dyfc8ph167q7r5pf9y8451540000gn/T/ipykernel_3081/2279284652.py:9: PerformanceWarning: DataFrame is highly fragmented.  This is usually the result of calling `frame.insert` many times, which has poor performance.  Consider joining all columns at once using pd.concat(axis=1) instead. To get a de-fragmented frame, use `newframe = frame.copy()`\n",
      "  quad_split_df[f'{metric}{v}_equal{suffix}'] = quad_split_df[f\"{metric}{v}\"] == quad_split_df[f'{metric}{suffix}']\n",
      "/var/folders/fd/dyfc8ph167q7r5pf9y8451540000gn/T/ipykernel_3081/2279284652.py:10: PerformanceWarning: DataFrame is highly fragmented.  This is usually the result of calling `frame.insert` many times, which has poor performance.  Consider joining all columns at once using pd.concat(axis=1) instead. To get a de-fragmented frame, use `newframe = frame.copy()`\n",
      "  quad_split_df[f'{metric}{v}_comparison{suffix}'] = quad_split_df.apply(lambda row: define_comparison(row, suffix, metric, v), axis=1)\n",
      "/var/folders/fd/dyfc8ph167q7r5pf9y8451540000gn/T/ipykernel_3081/2279284652.py:4: PerformanceWarning: DataFrame is highly fragmented.  This is usually the result of calling `frame.insert` many times, which has poor performance.  Consider joining all columns at once using pd.concat(axis=1) instead. To get a de-fragmented frame, use `newframe = frame.copy()`\n",
      "  quad_split_df[f'{metric}{v}_diff_to{suffix}'] = quad_split_df[f\"{metric}{v}\"] - quad_split_df[f'{metric}{suffix}']\n",
      "/var/folders/fd/dyfc8ph167q7r5pf9y8451540000gn/T/ipykernel_3081/2279284652.py:5: PerformanceWarning: DataFrame is highly fragmented.  This is usually the result of calling `frame.insert` many times, which has poor performance.  Consider joining all columns at once using pd.concat(axis=1) instead. To get a de-fragmented frame, use `newframe = frame.copy()`\n",
      "  quad_split_df[f'{metric}{v}_better_equal{suffix}'] = quad_split_df[f\"{metric}{v}\"] >= quad_split_df[f'{metric}{suffix}']\n",
      "/var/folders/fd/dyfc8ph167q7r5pf9y8451540000gn/T/ipykernel_3081/2279284652.py:6: PerformanceWarning: DataFrame is highly fragmented.  This is usually the result of calling `frame.insert` many times, which has poor performance.  Consider joining all columns at once using pd.concat(axis=1) instead. To get a de-fragmented frame, use `newframe = frame.copy()`\n",
      "  quad_split_df[f'{metric}{v}_better{suffix}'] = quad_split_df[f\"{metric}{v}\"] > quad_split_df[f'{metric}{suffix}']\n",
      "/var/folders/fd/dyfc8ph167q7r5pf9y8451540000gn/T/ipykernel_3081/2279284652.py:7: PerformanceWarning: DataFrame is highly fragmented.  This is usually the result of calling `frame.insert` many times, which has poor performance.  Consider joining all columns at once using pd.concat(axis=1) instead. To get a de-fragmented frame, use `newframe = frame.copy()`\n",
      "  quad_split_df[f'{metric}{v}_worse{suffix}'] = ~quad_split_df[f'{metric}{v}_better_equal{suffix}']\n",
      "/var/folders/fd/dyfc8ph167q7r5pf9y8451540000gn/T/ipykernel_3081/2279284652.py:8: PerformanceWarning: DataFrame is highly fragmented.  This is usually the result of calling `frame.insert` many times, which has poor performance.  Consider joining all columns at once using pd.concat(axis=1) instead. To get a de-fragmented frame, use `newframe = frame.copy()`\n",
      "  quad_split_df[f'{metric}{v}_worse_equal{suffix}'] = ~quad_split_df[f'{metric}{v}_better{suffix}']\n",
      "/var/folders/fd/dyfc8ph167q7r5pf9y8451540000gn/T/ipykernel_3081/2279284652.py:9: PerformanceWarning: DataFrame is highly fragmented.  This is usually the result of calling `frame.insert` many times, which has poor performance.  Consider joining all columns at once using pd.concat(axis=1) instead. To get a de-fragmented frame, use `newframe = frame.copy()`\n",
      "  quad_split_df[f'{metric}{v}_equal{suffix}'] = quad_split_df[f\"{metric}{v}\"] == quad_split_df[f'{metric}{suffix}']\n",
      "/var/folders/fd/dyfc8ph167q7r5pf9y8451540000gn/T/ipykernel_3081/2279284652.py:10: PerformanceWarning: DataFrame is highly fragmented.  This is usually the result of calling `frame.insert` many times, which has poor performance.  Consider joining all columns at once using pd.concat(axis=1) instead. To get a de-fragmented frame, use `newframe = frame.copy()`\n",
      "  quad_split_df[f'{metric}{v}_comparison{suffix}'] = quad_split_df.apply(lambda row: define_comparison(row, suffix, metric, v), axis=1)\n",
      "/var/folders/fd/dyfc8ph167q7r5pf9y8451540000gn/T/ipykernel_3081/2279284652.py:4: PerformanceWarning: DataFrame is highly fragmented.  This is usually the result of calling `frame.insert` many times, which has poor performance.  Consider joining all columns at once using pd.concat(axis=1) instead. To get a de-fragmented frame, use `newframe = frame.copy()`\n",
      "  quad_split_df[f'{metric}{v}_diff_to{suffix}'] = quad_split_df[f\"{metric}{v}\"] - quad_split_df[f'{metric}{suffix}']\n",
      "/var/folders/fd/dyfc8ph167q7r5pf9y8451540000gn/T/ipykernel_3081/2279284652.py:5: PerformanceWarning: DataFrame is highly fragmented.  This is usually the result of calling `frame.insert` many times, which has poor performance.  Consider joining all columns at once using pd.concat(axis=1) instead. To get a de-fragmented frame, use `newframe = frame.copy()`\n",
      "  quad_split_df[f'{metric}{v}_better_equal{suffix}'] = quad_split_df[f\"{metric}{v}\"] >= quad_split_df[f'{metric}{suffix}']\n",
      "/var/folders/fd/dyfc8ph167q7r5pf9y8451540000gn/T/ipykernel_3081/2279284652.py:6: PerformanceWarning: DataFrame is highly fragmented.  This is usually the result of calling `frame.insert` many times, which has poor performance.  Consider joining all columns at once using pd.concat(axis=1) instead. To get a de-fragmented frame, use `newframe = frame.copy()`\n",
      "  quad_split_df[f'{metric}{v}_better{suffix}'] = quad_split_df[f\"{metric}{v}\"] > quad_split_df[f'{metric}{suffix}']\n",
      "/var/folders/fd/dyfc8ph167q7r5pf9y8451540000gn/T/ipykernel_3081/2279284652.py:7: PerformanceWarning: DataFrame is highly fragmented.  This is usually the result of calling `frame.insert` many times, which has poor performance.  Consider joining all columns at once using pd.concat(axis=1) instead. To get a de-fragmented frame, use `newframe = frame.copy()`\n",
      "  quad_split_df[f'{metric}{v}_worse{suffix}'] = ~quad_split_df[f'{metric}{v}_better_equal{suffix}']\n",
      "/var/folders/fd/dyfc8ph167q7r5pf9y8451540000gn/T/ipykernel_3081/2279284652.py:8: PerformanceWarning: DataFrame is highly fragmented.  This is usually the result of calling `frame.insert` many times, which has poor performance.  Consider joining all columns at once using pd.concat(axis=1) instead. To get a de-fragmented frame, use `newframe = frame.copy()`\n",
      "  quad_split_df[f'{metric}{v}_worse_equal{suffix}'] = ~quad_split_df[f'{metric}{v}_better{suffix}']\n",
      "/var/folders/fd/dyfc8ph167q7r5pf9y8451540000gn/T/ipykernel_3081/2279284652.py:9: PerformanceWarning: DataFrame is highly fragmented.  This is usually the result of calling `frame.insert` many times, which has poor performance.  Consider joining all columns at once using pd.concat(axis=1) instead. To get a de-fragmented frame, use `newframe = frame.copy()`\n",
      "  quad_split_df[f'{metric}{v}_equal{suffix}'] = quad_split_df[f\"{metric}{v}\"] == quad_split_df[f'{metric}{suffix}']\n",
      "/var/folders/fd/dyfc8ph167q7r5pf9y8451540000gn/T/ipykernel_3081/2279284652.py:10: PerformanceWarning: DataFrame is highly fragmented.  This is usually the result of calling `frame.insert` many times, which has poor performance.  Consider joining all columns at once using pd.concat(axis=1) instead. To get a de-fragmented frame, use `newframe = frame.copy()`\n",
      "  quad_split_df[f'{metric}{v}_comparison{suffix}'] = quad_split_df.apply(lambda row: define_comparison(row, suffix, metric, v), axis=1)\n",
      "/var/folders/fd/dyfc8ph167q7r5pf9y8451540000gn/T/ipykernel_3081/2279284652.py:4: PerformanceWarning: DataFrame is highly fragmented.  This is usually the result of calling `frame.insert` many times, which has poor performance.  Consider joining all columns at once using pd.concat(axis=1) instead. To get a de-fragmented frame, use `newframe = frame.copy()`\n",
      "  quad_split_df[f'{metric}{v}_diff_to{suffix}'] = quad_split_df[f\"{metric}{v}\"] - quad_split_df[f'{metric}{suffix}']\n",
      "/var/folders/fd/dyfc8ph167q7r5pf9y8451540000gn/T/ipykernel_3081/2279284652.py:5: PerformanceWarning: DataFrame is highly fragmented.  This is usually the result of calling `frame.insert` many times, which has poor performance.  Consider joining all columns at once using pd.concat(axis=1) instead. To get a de-fragmented frame, use `newframe = frame.copy()`\n",
      "  quad_split_df[f'{metric}{v}_better_equal{suffix}'] = quad_split_df[f\"{metric}{v}\"] >= quad_split_df[f'{metric}{suffix}']\n",
      "/var/folders/fd/dyfc8ph167q7r5pf9y8451540000gn/T/ipykernel_3081/2279284652.py:6: PerformanceWarning: DataFrame is highly fragmented.  This is usually the result of calling `frame.insert` many times, which has poor performance.  Consider joining all columns at once using pd.concat(axis=1) instead. To get a de-fragmented frame, use `newframe = frame.copy()`\n",
      "  quad_split_df[f'{metric}{v}_better{suffix}'] = quad_split_df[f\"{metric}{v}\"] > quad_split_df[f'{metric}{suffix}']\n",
      "/var/folders/fd/dyfc8ph167q7r5pf9y8451540000gn/T/ipykernel_3081/2279284652.py:7: PerformanceWarning: DataFrame is highly fragmented.  This is usually the result of calling `frame.insert` many times, which has poor performance.  Consider joining all columns at once using pd.concat(axis=1) instead. To get a de-fragmented frame, use `newframe = frame.copy()`\n",
      "  quad_split_df[f'{metric}{v}_worse{suffix}'] = ~quad_split_df[f'{metric}{v}_better_equal{suffix}']\n",
      "/var/folders/fd/dyfc8ph167q7r5pf9y8451540000gn/T/ipykernel_3081/2279284652.py:8: PerformanceWarning: DataFrame is highly fragmented.  This is usually the result of calling `frame.insert` many times, which has poor performance.  Consider joining all columns at once using pd.concat(axis=1) instead. To get a de-fragmented frame, use `newframe = frame.copy()`\n",
      "  quad_split_df[f'{metric}{v}_worse_equal{suffix}'] = ~quad_split_df[f'{metric}{v}_better{suffix}']\n",
      "/var/folders/fd/dyfc8ph167q7r5pf9y8451540000gn/T/ipykernel_3081/2279284652.py:9: PerformanceWarning: DataFrame is highly fragmented.  This is usually the result of calling `frame.insert` many times, which has poor performance.  Consider joining all columns at once using pd.concat(axis=1) instead. To get a de-fragmented frame, use `newframe = frame.copy()`\n",
      "  quad_split_df[f'{metric}{v}_equal{suffix}'] = quad_split_df[f\"{metric}{v}\"] == quad_split_df[f'{metric}{suffix}']\n",
      "/var/folders/fd/dyfc8ph167q7r5pf9y8451540000gn/T/ipykernel_3081/2279284652.py:10: PerformanceWarning: DataFrame is highly fragmented.  This is usually the result of calling `frame.insert` many times, which has poor performance.  Consider joining all columns at once using pd.concat(axis=1) instead. To get a de-fragmented frame, use `newframe = frame.copy()`\n",
      "  quad_split_df[f'{metric}{v}_comparison{suffix}'] = quad_split_df.apply(lambda row: define_comparison(row, suffix, metric, v), axis=1)\n",
      "/var/folders/fd/dyfc8ph167q7r5pf9y8451540000gn/T/ipykernel_3081/2279284652.py:4: PerformanceWarning: DataFrame is highly fragmented.  This is usually the result of calling `frame.insert` many times, which has poor performance.  Consider joining all columns at once using pd.concat(axis=1) instead. To get a de-fragmented frame, use `newframe = frame.copy()`\n",
      "  quad_split_df[f'{metric}{v}_diff_to{suffix}'] = quad_split_df[f\"{metric}{v}\"] - quad_split_df[f'{metric}{suffix}']\n",
      "/var/folders/fd/dyfc8ph167q7r5pf9y8451540000gn/T/ipykernel_3081/2279284652.py:5: PerformanceWarning: DataFrame is highly fragmented.  This is usually the result of calling `frame.insert` many times, which has poor performance.  Consider joining all columns at once using pd.concat(axis=1) instead. To get a de-fragmented frame, use `newframe = frame.copy()`\n",
      "  quad_split_df[f'{metric}{v}_better_equal{suffix}'] = quad_split_df[f\"{metric}{v}\"] >= quad_split_df[f'{metric}{suffix}']\n",
      "/var/folders/fd/dyfc8ph167q7r5pf9y8451540000gn/T/ipykernel_3081/2279284652.py:6: PerformanceWarning: DataFrame is highly fragmented.  This is usually the result of calling `frame.insert` many times, which has poor performance.  Consider joining all columns at once using pd.concat(axis=1) instead. To get a de-fragmented frame, use `newframe = frame.copy()`\n",
      "  quad_split_df[f'{metric}{v}_better{suffix}'] = quad_split_df[f\"{metric}{v}\"] > quad_split_df[f'{metric}{suffix}']\n",
      "/var/folders/fd/dyfc8ph167q7r5pf9y8451540000gn/T/ipykernel_3081/2279284652.py:7: PerformanceWarning: DataFrame is highly fragmented.  This is usually the result of calling `frame.insert` many times, which has poor performance.  Consider joining all columns at once using pd.concat(axis=1) instead. To get a de-fragmented frame, use `newframe = frame.copy()`\n",
      "  quad_split_df[f'{metric}{v}_worse{suffix}'] = ~quad_split_df[f'{metric}{v}_better_equal{suffix}']\n",
      "/var/folders/fd/dyfc8ph167q7r5pf9y8451540000gn/T/ipykernel_3081/2279284652.py:8: PerformanceWarning: DataFrame is highly fragmented.  This is usually the result of calling `frame.insert` many times, which has poor performance.  Consider joining all columns at once using pd.concat(axis=1) instead. To get a de-fragmented frame, use `newframe = frame.copy()`\n",
      "  quad_split_df[f'{metric}{v}_worse_equal{suffix}'] = ~quad_split_df[f'{metric}{v}_better{suffix}']\n",
      "/var/folders/fd/dyfc8ph167q7r5pf9y8451540000gn/T/ipykernel_3081/2279284652.py:9: PerformanceWarning: DataFrame is highly fragmented.  This is usually the result of calling `frame.insert` many times, which has poor performance.  Consider joining all columns at once using pd.concat(axis=1) instead. To get a de-fragmented frame, use `newframe = frame.copy()`\n",
      "  quad_split_df[f'{metric}{v}_equal{suffix}'] = quad_split_df[f\"{metric}{v}\"] == quad_split_df[f'{metric}{suffix}']\n",
      "/var/folders/fd/dyfc8ph167q7r5pf9y8451540000gn/T/ipykernel_3081/2279284652.py:10: PerformanceWarning: DataFrame is highly fragmented.  This is usually the result of calling `frame.insert` many times, which has poor performance.  Consider joining all columns at once using pd.concat(axis=1) instead. To get a de-fragmented frame, use `newframe = frame.copy()`\n",
      "  quad_split_df[f'{metric}{v}_comparison{suffix}'] = quad_split_df.apply(lambda row: define_comparison(row, suffix, metric, v), axis=1)\n",
      "/var/folders/fd/dyfc8ph167q7r5pf9y8451540000gn/T/ipykernel_3081/2279284652.py:4: PerformanceWarning: DataFrame is highly fragmented.  This is usually the result of calling `frame.insert` many times, which has poor performance.  Consider joining all columns at once using pd.concat(axis=1) instead. To get a de-fragmented frame, use `newframe = frame.copy()`\n",
      "  quad_split_df[f'{metric}{v}_diff_to{suffix}'] = quad_split_df[f\"{metric}{v}\"] - quad_split_df[f'{metric}{suffix}']\n",
      "/var/folders/fd/dyfc8ph167q7r5pf9y8451540000gn/T/ipykernel_3081/2279284652.py:5: PerformanceWarning: DataFrame is highly fragmented.  This is usually the result of calling `frame.insert` many times, which has poor performance.  Consider joining all columns at once using pd.concat(axis=1) instead. To get a de-fragmented frame, use `newframe = frame.copy()`\n",
      "  quad_split_df[f'{metric}{v}_better_equal{suffix}'] = quad_split_df[f\"{metric}{v}\"] >= quad_split_df[f'{metric}{suffix}']\n",
      "/var/folders/fd/dyfc8ph167q7r5pf9y8451540000gn/T/ipykernel_3081/2279284652.py:6: PerformanceWarning: DataFrame is highly fragmented.  This is usually the result of calling `frame.insert` many times, which has poor performance.  Consider joining all columns at once using pd.concat(axis=1) instead. To get a de-fragmented frame, use `newframe = frame.copy()`\n",
      "  quad_split_df[f'{metric}{v}_better{suffix}'] = quad_split_df[f\"{metric}{v}\"] > quad_split_df[f'{metric}{suffix}']\n",
      "/var/folders/fd/dyfc8ph167q7r5pf9y8451540000gn/T/ipykernel_3081/2279284652.py:7: PerformanceWarning: DataFrame is highly fragmented.  This is usually the result of calling `frame.insert` many times, which has poor performance.  Consider joining all columns at once using pd.concat(axis=1) instead. To get a de-fragmented frame, use `newframe = frame.copy()`\n",
      "  quad_split_df[f'{metric}{v}_worse{suffix}'] = ~quad_split_df[f'{metric}{v}_better_equal{suffix}']\n",
      "/var/folders/fd/dyfc8ph167q7r5pf9y8451540000gn/T/ipykernel_3081/2279284652.py:8: PerformanceWarning: DataFrame is highly fragmented.  This is usually the result of calling `frame.insert` many times, which has poor performance.  Consider joining all columns at once using pd.concat(axis=1) instead. To get a de-fragmented frame, use `newframe = frame.copy()`\n",
      "  quad_split_df[f'{metric}{v}_worse_equal{suffix}'] = ~quad_split_df[f'{metric}{v}_better{suffix}']\n",
      "/var/folders/fd/dyfc8ph167q7r5pf9y8451540000gn/T/ipykernel_3081/2279284652.py:9: PerformanceWarning: DataFrame is highly fragmented.  This is usually the result of calling `frame.insert` many times, which has poor performance.  Consider joining all columns at once using pd.concat(axis=1) instead. To get a de-fragmented frame, use `newframe = frame.copy()`\n",
      "  quad_split_df[f'{metric}{v}_equal{suffix}'] = quad_split_df[f\"{metric}{v}\"] == quad_split_df[f'{metric}{suffix}']\n",
      "/var/folders/fd/dyfc8ph167q7r5pf9y8451540000gn/T/ipykernel_3081/2279284652.py:10: PerformanceWarning: DataFrame is highly fragmented.  This is usually the result of calling `frame.insert` many times, which has poor performance.  Consider joining all columns at once using pd.concat(axis=1) instead. To get a de-fragmented frame, use `newframe = frame.copy()`\n",
      "  quad_split_df[f'{metric}{v}_comparison{suffix}'] = quad_split_df.apply(lambda row: define_comparison(row, suffix, metric, v), axis=1)\n",
      "/var/folders/fd/dyfc8ph167q7r5pf9y8451540000gn/T/ipykernel_3081/2279284652.py:4: PerformanceWarning: DataFrame is highly fragmented.  This is usually the result of calling `frame.insert` many times, which has poor performance.  Consider joining all columns at once using pd.concat(axis=1) instead. To get a de-fragmented frame, use `newframe = frame.copy()`\n",
      "  quad_split_df[f'{metric}{v}_diff_to{suffix}'] = quad_split_df[f\"{metric}{v}\"] - quad_split_df[f'{metric}{suffix}']\n",
      "/var/folders/fd/dyfc8ph167q7r5pf9y8451540000gn/T/ipykernel_3081/2279284652.py:5: PerformanceWarning: DataFrame is highly fragmented.  This is usually the result of calling `frame.insert` many times, which has poor performance.  Consider joining all columns at once using pd.concat(axis=1) instead. To get a de-fragmented frame, use `newframe = frame.copy()`\n",
      "  quad_split_df[f'{metric}{v}_better_equal{suffix}'] = quad_split_df[f\"{metric}{v}\"] >= quad_split_df[f'{metric}{suffix}']\n",
      "/var/folders/fd/dyfc8ph167q7r5pf9y8451540000gn/T/ipykernel_3081/2279284652.py:6: PerformanceWarning: DataFrame is highly fragmented.  This is usually the result of calling `frame.insert` many times, which has poor performance.  Consider joining all columns at once using pd.concat(axis=1) instead. To get a de-fragmented frame, use `newframe = frame.copy()`\n",
      "  quad_split_df[f'{metric}{v}_better{suffix}'] = quad_split_df[f\"{metric}{v}\"] > quad_split_df[f'{metric}{suffix}']\n",
      "/var/folders/fd/dyfc8ph167q7r5pf9y8451540000gn/T/ipykernel_3081/2279284652.py:7: PerformanceWarning: DataFrame is highly fragmented.  This is usually the result of calling `frame.insert` many times, which has poor performance.  Consider joining all columns at once using pd.concat(axis=1) instead. To get a de-fragmented frame, use `newframe = frame.copy()`\n",
      "  quad_split_df[f'{metric}{v}_worse{suffix}'] = ~quad_split_df[f'{metric}{v}_better_equal{suffix}']\n",
      "/var/folders/fd/dyfc8ph167q7r5pf9y8451540000gn/T/ipykernel_3081/2279284652.py:8: PerformanceWarning: DataFrame is highly fragmented.  This is usually the result of calling `frame.insert` many times, which has poor performance.  Consider joining all columns at once using pd.concat(axis=1) instead. To get a de-fragmented frame, use `newframe = frame.copy()`\n",
      "  quad_split_df[f'{metric}{v}_worse_equal{suffix}'] = ~quad_split_df[f'{metric}{v}_better{suffix}']\n",
      "/var/folders/fd/dyfc8ph167q7r5pf9y8451540000gn/T/ipykernel_3081/2279284652.py:9: PerformanceWarning: DataFrame is highly fragmented.  This is usually the result of calling `frame.insert` many times, which has poor performance.  Consider joining all columns at once using pd.concat(axis=1) instead. To get a de-fragmented frame, use `newframe = frame.copy()`\n",
      "  quad_split_df[f'{metric}{v}_equal{suffix}'] = quad_split_df[f\"{metric}{v}\"] == quad_split_df[f'{metric}{suffix}']\n",
      "/var/folders/fd/dyfc8ph167q7r5pf9y8451540000gn/T/ipykernel_3081/2279284652.py:10: PerformanceWarning: DataFrame is highly fragmented.  This is usually the result of calling `frame.insert` many times, which has poor performance.  Consider joining all columns at once using pd.concat(axis=1) instead. To get a de-fragmented frame, use `newframe = frame.copy()`\n",
      "  quad_split_df[f'{metric}{v}_comparison{suffix}'] = quad_split_df.apply(lambda row: define_comparison(row, suffix, metric, v), axis=1)\n",
      "/var/folders/fd/dyfc8ph167q7r5pf9y8451540000gn/T/ipykernel_3081/2279284652.py:4: PerformanceWarning: DataFrame is highly fragmented.  This is usually the result of calling `frame.insert` many times, which has poor performance.  Consider joining all columns at once using pd.concat(axis=1) instead. To get a de-fragmented frame, use `newframe = frame.copy()`\n",
      "  quad_split_df[f'{metric}{v}_diff_to{suffix}'] = quad_split_df[f\"{metric}{v}\"] - quad_split_df[f'{metric}{suffix}']\n",
      "/var/folders/fd/dyfc8ph167q7r5pf9y8451540000gn/T/ipykernel_3081/2279284652.py:5: PerformanceWarning: DataFrame is highly fragmented.  This is usually the result of calling `frame.insert` many times, which has poor performance.  Consider joining all columns at once using pd.concat(axis=1) instead. To get a de-fragmented frame, use `newframe = frame.copy()`\n",
      "  quad_split_df[f'{metric}{v}_better_equal{suffix}'] = quad_split_df[f\"{metric}{v}\"] >= quad_split_df[f'{metric}{suffix}']\n",
      "/var/folders/fd/dyfc8ph167q7r5pf9y8451540000gn/T/ipykernel_3081/2279284652.py:6: PerformanceWarning: DataFrame is highly fragmented.  This is usually the result of calling `frame.insert` many times, which has poor performance.  Consider joining all columns at once using pd.concat(axis=1) instead. To get a de-fragmented frame, use `newframe = frame.copy()`\n",
      "  quad_split_df[f'{metric}{v}_better{suffix}'] = quad_split_df[f\"{metric}{v}\"] > quad_split_df[f'{metric}{suffix}']\n",
      "/var/folders/fd/dyfc8ph167q7r5pf9y8451540000gn/T/ipykernel_3081/2279284652.py:7: PerformanceWarning: DataFrame is highly fragmented.  This is usually the result of calling `frame.insert` many times, which has poor performance.  Consider joining all columns at once using pd.concat(axis=1) instead. To get a de-fragmented frame, use `newframe = frame.copy()`\n",
      "  quad_split_df[f'{metric}{v}_worse{suffix}'] = ~quad_split_df[f'{metric}{v}_better_equal{suffix}']\n",
      "/var/folders/fd/dyfc8ph167q7r5pf9y8451540000gn/T/ipykernel_3081/2279284652.py:8: PerformanceWarning: DataFrame is highly fragmented.  This is usually the result of calling `frame.insert` many times, which has poor performance.  Consider joining all columns at once using pd.concat(axis=1) instead. To get a de-fragmented frame, use `newframe = frame.copy()`\n",
      "  quad_split_df[f'{metric}{v}_worse_equal{suffix}'] = ~quad_split_df[f'{metric}{v}_better{suffix}']\n",
      "/var/folders/fd/dyfc8ph167q7r5pf9y8451540000gn/T/ipykernel_3081/2279284652.py:9: PerformanceWarning: DataFrame is highly fragmented.  This is usually the result of calling `frame.insert` many times, which has poor performance.  Consider joining all columns at once using pd.concat(axis=1) instead. To get a de-fragmented frame, use `newframe = frame.copy()`\n",
      "  quad_split_df[f'{metric}{v}_equal{suffix}'] = quad_split_df[f\"{metric}{v}\"] == quad_split_df[f'{metric}{suffix}']\n",
      "/var/folders/fd/dyfc8ph167q7r5pf9y8451540000gn/T/ipykernel_3081/2279284652.py:10: PerformanceWarning: DataFrame is highly fragmented.  This is usually the result of calling `frame.insert` many times, which has poor performance.  Consider joining all columns at once using pd.concat(axis=1) instead. To get a de-fragmented frame, use `newframe = frame.copy()`\n",
      "  quad_split_df[f'{metric}{v}_comparison{suffix}'] = quad_split_df.apply(lambda row: define_comparison(row, suffix, metric, v), axis=1)\n",
      "/var/folders/fd/dyfc8ph167q7r5pf9y8451540000gn/T/ipykernel_3081/2279284652.py:4: PerformanceWarning: DataFrame is highly fragmented.  This is usually the result of calling `frame.insert` many times, which has poor performance.  Consider joining all columns at once using pd.concat(axis=1) instead. To get a de-fragmented frame, use `newframe = frame.copy()`\n",
      "  quad_split_df[f'{metric}{v}_diff_to{suffix}'] = quad_split_df[f\"{metric}{v}\"] - quad_split_df[f'{metric}{suffix}']\n",
      "/var/folders/fd/dyfc8ph167q7r5pf9y8451540000gn/T/ipykernel_3081/2279284652.py:5: PerformanceWarning: DataFrame is highly fragmented.  This is usually the result of calling `frame.insert` many times, which has poor performance.  Consider joining all columns at once using pd.concat(axis=1) instead. To get a de-fragmented frame, use `newframe = frame.copy()`\n",
      "  quad_split_df[f'{metric}{v}_better_equal{suffix}'] = quad_split_df[f\"{metric}{v}\"] >= quad_split_df[f'{metric}{suffix}']\n",
      "/var/folders/fd/dyfc8ph167q7r5pf9y8451540000gn/T/ipykernel_3081/2279284652.py:6: PerformanceWarning: DataFrame is highly fragmented.  This is usually the result of calling `frame.insert` many times, which has poor performance.  Consider joining all columns at once using pd.concat(axis=1) instead. To get a de-fragmented frame, use `newframe = frame.copy()`\n",
      "  quad_split_df[f'{metric}{v}_better{suffix}'] = quad_split_df[f\"{metric}{v}\"] > quad_split_df[f'{metric}{suffix}']\n",
      "/var/folders/fd/dyfc8ph167q7r5pf9y8451540000gn/T/ipykernel_3081/2279284652.py:7: PerformanceWarning: DataFrame is highly fragmented.  This is usually the result of calling `frame.insert` many times, which has poor performance.  Consider joining all columns at once using pd.concat(axis=1) instead. To get a de-fragmented frame, use `newframe = frame.copy()`\n",
      "  quad_split_df[f'{metric}{v}_worse{suffix}'] = ~quad_split_df[f'{metric}{v}_better_equal{suffix}']\n",
      "/var/folders/fd/dyfc8ph167q7r5pf9y8451540000gn/T/ipykernel_3081/2279284652.py:8: PerformanceWarning: DataFrame is highly fragmented.  This is usually the result of calling `frame.insert` many times, which has poor performance.  Consider joining all columns at once using pd.concat(axis=1) instead. To get a de-fragmented frame, use `newframe = frame.copy()`\n",
      "  quad_split_df[f'{metric}{v}_worse_equal{suffix}'] = ~quad_split_df[f'{metric}{v}_better{suffix}']\n",
      "/var/folders/fd/dyfc8ph167q7r5pf9y8451540000gn/T/ipykernel_3081/2279284652.py:9: PerformanceWarning: DataFrame is highly fragmented.  This is usually the result of calling `frame.insert` many times, which has poor performance.  Consider joining all columns at once using pd.concat(axis=1) instead. To get a de-fragmented frame, use `newframe = frame.copy()`\n",
      "  quad_split_df[f'{metric}{v}_equal{suffix}'] = quad_split_df[f\"{metric}{v}\"] == quad_split_df[f'{metric}{suffix}']\n",
      "/var/folders/fd/dyfc8ph167q7r5pf9y8451540000gn/T/ipykernel_3081/2279284652.py:10: PerformanceWarning: DataFrame is highly fragmented.  This is usually the result of calling `frame.insert` many times, which has poor performance.  Consider joining all columns at once using pd.concat(axis=1) instead. To get a de-fragmented frame, use `newframe = frame.copy()`\n",
      "  quad_split_df[f'{metric}{v}_comparison{suffix}'] = quad_split_df.apply(lambda row: define_comparison(row, suffix, metric, v), axis=1)\n"
     ]
    }
   ],
   "source": [
    "for suffix in SUFFIXES:\n",
    "    for metric in METRICS:\n",
    "        for v in [\"_v1\", \"_v2\"]:\n",
    "            quad_split_df[f'{metric}{v}_diff_to{suffix}'] = quad_split_df[f\"{metric}{v}\"] - quad_split_df[f'{metric}{suffix}']\n",
    "            quad_split_df[f'{metric}{v}_better_equal{suffix}'] = quad_split_df[f\"{metric}{v}\"] >= quad_split_df[f'{metric}{suffix}']\n",
    "            quad_split_df[f'{metric}{v}_better{suffix}'] = quad_split_df[f\"{metric}{v}\"] > quad_split_df[f'{metric}{suffix}']\n",
    "            quad_split_df[f'{metric}{v}_worse{suffix}'] = ~quad_split_df[f'{metric}{v}_better_equal{suffix}']\n",
    "            quad_split_df[f'{metric}{v}_worse_equal{suffix}'] = ~quad_split_df[f'{metric}{v}_better{suffix}']\n",
    "            quad_split_df[f'{metric}{v}_equal{suffix}'] = quad_split_df[f\"{metric}{v}\"] == quad_split_df[f'{metric}{suffix}']\n",
    "            quad_split_df[f'{metric}{v}_comparison{suffix}'] = quad_split_df.apply(lambda row: define_comparison(row, suffix, metric, v), axis=1)"
   ]
  },
  {
   "cell_type": "code",
   "execution_count": 34,
   "id": "44a0448ad0eb42cc",
   "metadata": {
    "ExecuteTime": {
     "end_time": "2024-07-17T21:41:53.107439Z",
     "start_time": "2024-07-17T21:41:53.092896Z"
    }
   },
   "outputs": [
    {
     "data": {
      "text/plain": [
       "['metrics.no_of_predicates_median',\n",
       " 'metrics.complex_clfs',\n",
       " 'metrics.rules',\n",
       " 'metrics.no_of_predicates_max',\n",
       " 'metrics.dummy_clfs',\n",
       " 'metrics.no_of_predicates_min',\n",
       " 'metrics.all_clfs',\n",
       " 'params.min_split_percentage',\n",
       " 'params.complexity_measure',\n",
       " 'params.min_samples']"
      ]
     },
     "execution_count": 34,
     "metadata": {},
     "output_type": "execute_result"
    }
   ],
   "source": [
    "QUAD_SPLIT_PARAMS"
   ]
  },
  {
   "cell_type": "code",
   "execution_count": null,
   "id": "b17a952891ffa4df",
   "metadata": {
    "ExecuteTime": {
     "end_time": "2024-07-17T21:41:53.129453Z",
     "start_time": "2024-07-17T21:41:53.108663Z"
    }
   },
   "outputs": [],
   "source": [
    "quad_split_df['complexity_rf'] = quad_split_df['metrics.depth_median_rf'] * 32 * quad_split_df['metrics.n_leaves_median_rf']\n",
    "quad_split_df['complexity'] =  quad_split_df['metrics.rules']\n",
    "quad_split_df['complexity_dt'] = quad_split_df['metrics.depth_dt'] * quad_split_df['metrics.n_leaves_dt']\n",
    "quad_split_df['complexity_rulefit'] = quad_split_df['metrics.rules_no_rulefit']\n",
    "quad_split_df['complexity_oner'] = quad_split_df['metrics.rules_no_oner']\n"
   ]
  },
  {
   "cell_type": "code",
   "execution_count": 35,
   "id": "68c198c9330c7c06",
   "metadata": {
    "ExecuteTime": {
     "end_time": "2024-07-17T21:41:53.179919Z",
     "start_time": "2024-07-17T21:41:53.137611Z"
    }
   },
   "outputs": [
    {
     "name": "stderr",
     "output_type": "stream",
     "text": [
      "/var/folders/fd/dyfc8ph167q7r5pf9y8451540000gn/T/ipykernel_3081/316881999.py:2: PerformanceWarning: DataFrame is highly fragmented.  This is usually the result of calling `frame.insert` many times, which has poor performance.  Consider joining all columns at once using pd.concat(axis=1) instead. To get a de-fragmented frame, use `newframe = frame.copy()`\n",
      "  quad_split_df[f'{metric}-discretized'] = pd.qcut(quad_split_df[metric], 3, labels=[\"low\", \"medium\", \"high\"])\n",
      "/var/folders/fd/dyfc8ph167q7r5pf9y8451540000gn/T/ipykernel_3081/316881999.py:2: PerformanceWarning: DataFrame is highly fragmented.  This is usually the result of calling `frame.insert` many times, which has poor performance.  Consider joining all columns at once using pd.concat(axis=1) instead. To get a de-fragmented frame, use `newframe = frame.copy()`\n",
      "  quad_split_df[f'{metric}-discretized'] = pd.qcut(quad_split_df[metric], 3, labels=[\"low\", \"medium\", \"high\"])\n",
      "/var/folders/fd/dyfc8ph167q7r5pf9y8451540000gn/T/ipykernel_3081/316881999.py:2: PerformanceWarning: DataFrame is highly fragmented.  This is usually the result of calling `frame.insert` many times, which has poor performance.  Consider joining all columns at once using pd.concat(axis=1) instead. To get a de-fragmented frame, use `newframe = frame.copy()`\n",
      "  quad_split_df[f'{metric}-discretized'] = pd.qcut(quad_split_df[metric], 3, labels=[\"low\", \"medium\", \"high\"])\n",
      "/var/folders/fd/dyfc8ph167q7r5pf9y8451540000gn/T/ipykernel_3081/316881999.py:2: PerformanceWarning: DataFrame is highly fragmented.  This is usually the result of calling `frame.insert` many times, which has poor performance.  Consider joining all columns at once using pd.concat(axis=1) instead. To get a de-fragmented frame, use `newframe = frame.copy()`\n",
      "  quad_split_df[f'{metric}-discretized'] = pd.qcut(quad_split_df[metric], 3, labels=[\"low\", \"medium\", \"high\"])\n",
      "/var/folders/fd/dyfc8ph167q7r5pf9y8451540000gn/T/ipykernel_3081/316881999.py:2: PerformanceWarning: DataFrame is highly fragmented.  This is usually the result of calling `frame.insert` many times, which has poor performance.  Consider joining all columns at once using pd.concat(axis=1) instead. To get a de-fragmented frame, use `newframe = frame.copy()`\n",
      "  quad_split_df[f'{metric}-discretized'] = pd.qcut(quad_split_df[metric], 3, labels=[\"low\", \"medium\", \"high\"])\n",
      "/var/folders/fd/dyfc8ph167q7r5pf9y8451540000gn/T/ipykernel_3081/316881999.py:2: PerformanceWarning: DataFrame is highly fragmented.  This is usually the result of calling `frame.insert` many times, which has poor performance.  Consider joining all columns at once using pd.concat(axis=1) instead. To get a de-fragmented frame, use `newframe = frame.copy()`\n",
      "  quad_split_df[f'{metric}-discretized'] = pd.qcut(quad_split_df[metric], 3, labels=[\"low\", \"medium\", \"high\"])\n",
      "/var/folders/fd/dyfc8ph167q7r5pf9y8451540000gn/T/ipykernel_3081/316881999.py:2: PerformanceWarning: DataFrame is highly fragmented.  This is usually the result of calling `frame.insert` many times, which has poor performance.  Consider joining all columns at once using pd.concat(axis=1) instead. To get a de-fragmented frame, use `newframe = frame.copy()`\n",
      "  quad_split_df[f'{metric}-discretized'] = pd.qcut(quad_split_df[metric], 3, labels=[\"low\", \"medium\", \"high\"])\n",
      "/var/folders/fd/dyfc8ph167q7r5pf9y8451540000gn/T/ipykernel_3081/316881999.py:2: PerformanceWarning: DataFrame is highly fragmented.  This is usually the result of calling `frame.insert` many times, which has poor performance.  Consider joining all columns at once using pd.concat(axis=1) instead. To get a de-fragmented frame, use `newframe = frame.copy()`\n",
      "  quad_split_df[f'{metric}-discretized'] = pd.qcut(quad_split_df[metric], 3, labels=[\"low\", \"medium\", \"high\"])\n",
      "/var/folders/fd/dyfc8ph167q7r5pf9y8451540000gn/T/ipykernel_3081/316881999.py:2: PerformanceWarning: DataFrame is highly fragmented.  This is usually the result of calling `frame.insert` many times, which has poor performance.  Consider joining all columns at once using pd.concat(axis=1) instead. To get a de-fragmented frame, use `newframe = frame.copy()`\n",
      "  quad_split_df[f'{metric}-discretized'] = pd.qcut(quad_split_df[metric], 3, labels=[\"low\", \"medium\", \"high\"])\n",
      "/var/folders/fd/dyfc8ph167q7r5pf9y8451540000gn/T/ipykernel_3081/316881999.py:2: PerformanceWarning: DataFrame is highly fragmented.  This is usually the result of calling `frame.insert` many times, which has poor performance.  Consider joining all columns at once using pd.concat(axis=1) instead. To get a de-fragmented frame, use `newframe = frame.copy()`\n",
      "  quad_split_df[f'{metric}-discretized'] = pd.qcut(quad_split_df[metric], 3, labels=[\"low\", \"medium\", \"high\"])\n",
      "/var/folders/fd/dyfc8ph167q7r5pf9y8451540000gn/T/ipykernel_3081/316881999.py:2: PerformanceWarning: DataFrame is highly fragmented.  This is usually the result of calling `frame.insert` many times, which has poor performance.  Consider joining all columns at once using pd.concat(axis=1) instead. To get a de-fragmented frame, use `newframe = frame.copy()`\n",
      "  quad_split_df[f'{metric}-discretized'] = pd.qcut(quad_split_df[metric], 3, labels=[\"low\", \"medium\", \"high\"])\n",
      "/var/folders/fd/dyfc8ph167q7r5pf9y8451540000gn/T/ipykernel_3081/316881999.py:2: PerformanceWarning: DataFrame is highly fragmented.  This is usually the result of calling `frame.insert` many times, which has poor performance.  Consider joining all columns at once using pd.concat(axis=1) instead. To get a de-fragmented frame, use `newframe = frame.copy()`\n",
      "  quad_split_df[f'{metric}-discretized'] = pd.qcut(quad_split_df[metric], 3, labels=[\"low\", \"medium\", \"high\"])\n",
      "/var/folders/fd/dyfc8ph167q7r5pf9y8451540000gn/T/ipykernel_3081/316881999.py:2: PerformanceWarning: DataFrame is highly fragmented.  This is usually the result of calling `frame.insert` many times, which has poor performance.  Consider joining all columns at once using pd.concat(axis=1) instead. To get a de-fragmented frame, use `newframe = frame.copy()`\n",
      "  quad_split_df[f'{metric}-discretized'] = pd.qcut(quad_split_df[metric], 3, labels=[\"low\", \"medium\", \"high\"])\n",
      "/var/folders/fd/dyfc8ph167q7r5pf9y8451540000gn/T/ipykernel_3081/316881999.py:2: PerformanceWarning: DataFrame is highly fragmented.  This is usually the result of calling `frame.insert` many times, which has poor performance.  Consider joining all columns at once using pd.concat(axis=1) instead. To get a de-fragmented frame, use `newframe = frame.copy()`\n",
      "  quad_split_df[f'{metric}-discretized'] = pd.qcut(quad_split_df[metric], 3, labels=[\"low\", \"medium\", \"high\"])\n",
      "/var/folders/fd/dyfc8ph167q7r5pf9y8451540000gn/T/ipykernel_3081/316881999.py:2: PerformanceWarning: DataFrame is highly fragmented.  This is usually the result of calling `frame.insert` many times, which has poor performance.  Consider joining all columns at once using pd.concat(axis=1) instead. To get a de-fragmented frame, use `newframe = frame.copy()`\n",
      "  quad_split_df[f'{metric}-discretized'] = pd.qcut(quad_split_df[metric], 3, labels=[\"low\", \"medium\", \"high\"])\n",
      "/var/folders/fd/dyfc8ph167q7r5pf9y8451540000gn/T/ipykernel_3081/316881999.py:2: PerformanceWarning: DataFrame is highly fragmented.  This is usually the result of calling `frame.insert` many times, which has poor performance.  Consider joining all columns at once using pd.concat(axis=1) instead. To get a de-fragmented frame, use `newframe = frame.copy()`\n",
      "  quad_split_df[f'{metric}-discretized'] = pd.qcut(quad_split_df[metric], 3, labels=[\"low\", \"medium\", \"high\"])\n",
      "/var/folders/fd/dyfc8ph167q7r5pf9y8451540000gn/T/ipykernel_3081/316881999.py:2: PerformanceWarning: DataFrame is highly fragmented.  This is usually the result of calling `frame.insert` many times, which has poor performance.  Consider joining all columns at once using pd.concat(axis=1) instead. To get a de-fragmented frame, use `newframe = frame.copy()`\n",
      "  quad_split_df[f'{metric}-discretized'] = pd.qcut(quad_split_df[metric], 3, labels=[\"low\", \"medium\", \"high\"])\n",
      "/var/folders/fd/dyfc8ph167q7r5pf9y8451540000gn/T/ipykernel_3081/316881999.py:2: PerformanceWarning: DataFrame is highly fragmented.  This is usually the result of calling `frame.insert` many times, which has poor performance.  Consider joining all columns at once using pd.concat(axis=1) instead. To get a de-fragmented frame, use `newframe = frame.copy()`\n",
      "  quad_split_df[f'{metric}-discretized'] = pd.qcut(quad_split_df[metric], 3, labels=[\"low\", \"medium\", \"high\"])\n",
      "/var/folders/fd/dyfc8ph167q7r5pf9y8451540000gn/T/ipykernel_3081/316881999.py:2: PerformanceWarning: DataFrame is highly fragmented.  This is usually the result of calling `frame.insert` many times, which has poor performance.  Consider joining all columns at once using pd.concat(axis=1) instead. To get a de-fragmented frame, use `newframe = frame.copy()`\n",
      "  quad_split_df[f'{metric}-discretized'] = pd.qcut(quad_split_df[metric], 3, labels=[\"low\", \"medium\", \"high\"])\n",
      "/var/folders/fd/dyfc8ph167q7r5pf9y8451540000gn/T/ipykernel_3081/316881999.py:2: PerformanceWarning: DataFrame is highly fragmented.  This is usually the result of calling `frame.insert` many times, which has poor performance.  Consider joining all columns at once using pd.concat(axis=1) instead. To get a de-fragmented frame, use `newframe = frame.copy()`\n",
      "  quad_split_df[f'{metric}-discretized'] = pd.qcut(quad_split_df[metric], 3, labels=[\"low\", \"medium\", \"high\"])\n",
      "/var/folders/fd/dyfc8ph167q7r5pf9y8451540000gn/T/ipykernel_3081/316881999.py:2: PerformanceWarning: DataFrame is highly fragmented.  This is usually the result of calling `frame.insert` many times, which has poor performance.  Consider joining all columns at once using pd.concat(axis=1) instead. To get a de-fragmented frame, use `newframe = frame.copy()`\n",
      "  quad_split_df[f'{metric}-discretized'] = pd.qcut(quad_split_df[metric], 3, labels=[\"low\", \"medium\", \"high\"])\n",
      "/var/folders/fd/dyfc8ph167q7r5pf9y8451540000gn/T/ipykernel_3081/316881999.py:2: PerformanceWarning: DataFrame is highly fragmented.  This is usually the result of calling `frame.insert` many times, which has poor performance.  Consider joining all columns at once using pd.concat(axis=1) instead. To get a de-fragmented frame, use `newframe = frame.copy()`\n",
      "  quad_split_df[f'{metric}-discretized'] = pd.qcut(quad_split_df[metric], 3, labels=[\"low\", \"medium\", \"high\"])\n"
     ]
    }
   ],
   "source": [
    "for metric in COMPLEXITY_METRICS:\n",
    "    quad_split_df[f'{metric}-discretized'] = pd.qcut(quad_split_df[metric], 3, labels=[\"low\", \"medium\", \"high\"])\n"
   ]
  },
  {
   "cell_type": "code",
   "execution_count": 36,
   "id": "6558bece3173d68a",
   "metadata": {
    "ExecuteTime": {
     "end_time": "2024-07-17T21:41:53.194840Z",
     "start_time": "2024-07-17T21:41:53.180950Z"
    }
   },
   "outputs": [],
   "source": [
    "ALL_DISCRETIZED_METRICS = [f'{metric}-discretized' for metric in COMPLEXITY_METRICS]"
   ]
  },
  {
   "cell_type": "code",
   "execution_count": 37,
   "id": "b0a7907a75c68cf9",
   "metadata": {
    "ExecuteTime": {
     "end_time": "2024-07-17T21:41:53.211364Z",
     "start_time": "2024-07-17T21:41:53.195664Z"
    }
   },
   "outputs": [],
   "source": [
    "compare_values = {\n",
    "    \"low\": 0,\n",
    "    \"medium\": 1,\n",
    "    \"high\": 2,\n",
    "}\n",
    "compare_values_inverted = {\n",
    "    v: k for k, v in compare_values.items()\n",
    "}\n",
    "def take_higher(row):\n",
    "    vals = [compare_values[it] for it in [row[0], row[1]]]\n",
    "    max_val = max(vals)\n",
    "    \n",
    "    return compare_values_inverted[max_val]"
   ]
  },
  {
   "cell_type": "code",
   "execution_count": 38,
   "id": "b892797265e1e4b9",
   "metadata": {
    "ExecuteTime": {
     "end_time": "2024-07-17T21:41:54.440510Z",
     "start_time": "2024-07-17T21:41:53.212385Z"
    }
   },
   "outputs": [
    {
     "name": "stderr",
     "output_type": "stream",
     "text": [
      "/var/folders/fd/dyfc8ph167q7r5pf9y8451540000gn/T/ipykernel_3081/2910056351.py:1: PerformanceWarning: DataFrame is highly fragmented.  This is usually the result of calling `frame.insert` many times, which has poor performance.  Consider joining all columns at once using pd.concat(axis=1) instead. To get a de-fragmented frame, use `newframe = frame.copy()`\n",
      "  quad_split_df['overall-complexity'] = quad_split_df[ALL_DISCRETIZED_METRICS].mode(axis=1).fillna('low').apply(take_higher, axis=1)\n"
     ]
    }
   ],
   "source": [
    "quad_split_df['overall-complexity'] = quad_split_df[ALL_DISCRETIZED_METRICS].mode(axis=1).fillna('low').apply(take_higher, axis=1)"
   ]
  },
  {
   "cell_type": "markdown",
   "id": "3b03f1391512aad7",
   "metadata": {},
   "source": [
    "# COMPARISON TO ALGORITHSM"
   ]
  },
  {
   "cell_type": "code",
   "execution_count": 39,
   "id": "ce4be453cb92b24d",
   "metadata": {
    "ExecuteTime": {
     "end_time": "2024-07-17T21:41:54.474676Z",
     "start_time": "2024-07-17T21:41:54.441276Z"
    }
   },
   "outputs": [
    {
     "data": {
      "text/html": [
       "<div>\n",
       "<style scoped>\n",
       "    .dataframe tbody tr th:only-of-type {\n",
       "        vertical-align: middle;\n",
       "    }\n",
       "\n",
       "    .dataframe tbody tr th {\n",
       "        vertical-align: top;\n",
       "    }\n",
       "\n",
       "    .dataframe thead th {\n",
       "        text-align: right;\n",
       "    }\n",
       "</style>\n",
       "<table border=\"1\" class=\"dataframe\">\n",
       "  <thead>\n",
       "    <tr style=\"text-align: right;\">\n",
       "      <th></th>\n",
       "      <th>f1-discretized</th>\n",
       "      <th>f2-discretized</th>\n",
       "      <th>f3-discretized</th>\n",
       "      <th>f4-discretized</th>\n",
       "      <th>f1v-discretized</th>\n",
       "      <th>c1-discretized</th>\n",
       "      <th>c2-discretized</th>\n",
       "      <th>l1-discretized</th>\n",
       "      <th>l2-discretized</th>\n",
       "      <th>l3-discretized</th>\n",
       "      <th>...</th>\n",
       "      <th>n3-discretized</th>\n",
       "      <th>n4-discretized</th>\n",
       "      <th>t1-discretized</th>\n",
       "      <th>t2-discretized</th>\n",
       "      <th>t3-discretized</th>\n",
       "      <th>t4-discretized</th>\n",
       "      <th>clsCoef-discretized</th>\n",
       "      <th>hubs-discretized</th>\n",
       "      <th>density-discretized</th>\n",
       "      <th>lsc-discretized</th>\n",
       "    </tr>\n",
       "  </thead>\n",
       "  <tbody>\n",
       "    <tr>\n",
       "      <th>low</th>\n",
       "      <td>5076</td>\n",
       "      <td>5070</td>\n",
       "      <td>5184</td>\n",
       "      <td>5070</td>\n",
       "      <td>5076</td>\n",
       "      <td>5724</td>\n",
       "      <td>5724</td>\n",
       "      <td>5076</td>\n",
       "      <td>5076</td>\n",
       "      <td>5076</td>\n",
       "      <td>...</td>\n",
       "      <td>5070</td>\n",
       "      <td>5076</td>\n",
       "      <td>5076</td>\n",
       "      <td>5508</td>\n",
       "      <td>5076</td>\n",
       "      <td>5400</td>\n",
       "      <td>5076</td>\n",
       "      <td>5178</td>\n",
       "      <td>5070</td>\n",
       "      <td>5070</td>\n",
       "    </tr>\n",
       "    <tr>\n",
       "      <th>medium</th>\n",
       "      <td>4968</td>\n",
       "      <td>5076</td>\n",
       "      <td>4854</td>\n",
       "      <td>5076</td>\n",
       "      <td>4962</td>\n",
       "      <td>4314</td>\n",
       "      <td>4314</td>\n",
       "      <td>4962</td>\n",
       "      <td>4962</td>\n",
       "      <td>4968</td>\n",
       "      <td>...</td>\n",
       "      <td>4968</td>\n",
       "      <td>4962</td>\n",
       "      <td>4962</td>\n",
       "      <td>4860</td>\n",
       "      <td>5292</td>\n",
       "      <td>5502</td>\n",
       "      <td>4962</td>\n",
       "      <td>4860</td>\n",
       "      <td>4968</td>\n",
       "      <td>4968</td>\n",
       "    </tr>\n",
       "    <tr>\n",
       "      <th>high</th>\n",
       "      <td>4962</td>\n",
       "      <td>4860</td>\n",
       "      <td>4968</td>\n",
       "      <td>4860</td>\n",
       "      <td>4968</td>\n",
       "      <td>4968</td>\n",
       "      <td>4968</td>\n",
       "      <td>4968</td>\n",
       "      <td>4968</td>\n",
       "      <td>4962</td>\n",
       "      <td>...</td>\n",
       "      <td>4968</td>\n",
       "      <td>4968</td>\n",
       "      <td>4968</td>\n",
       "      <td>4638</td>\n",
       "      <td>4638</td>\n",
       "      <td>4104</td>\n",
       "      <td>4968</td>\n",
       "      <td>4968</td>\n",
       "      <td>4968</td>\n",
       "      <td>4968</td>\n",
       "    </tr>\n",
       "  </tbody>\n",
       "</table>\n",
       "<p>3 rows × 22 columns</p>\n",
       "</div>"
      ],
      "text/plain": [
       "        f1-discretized  f2-discretized  f3-discretized  f4-discretized  \\\n",
       "low               5076            5070            5184            5070   \n",
       "medium            4968            5076            4854            5076   \n",
       "high              4962            4860            4968            4860   \n",
       "\n",
       "        f1v-discretized  c1-discretized  c2-discretized  l1-discretized  \\\n",
       "low                5076            5724            5724            5076   \n",
       "medium             4962            4314            4314            4962   \n",
       "high               4968            4968            4968            4968   \n",
       "\n",
       "        l2-discretized  l3-discretized  ...  n3-discretized  n4-discretized  \\\n",
       "low               5076            5076  ...            5070            5076   \n",
       "medium            4962            4968  ...            4968            4962   \n",
       "high              4968            4962  ...            4968            4968   \n",
       "\n",
       "        t1-discretized  t2-discretized  t3-discretized  t4-discretized  \\\n",
       "low               5076            5508            5076            5400   \n",
       "medium            4962            4860            5292            5502   \n",
       "high              4968            4638            4638            4104   \n",
       "\n",
       "        clsCoef-discretized  hubs-discretized  density-discretized  \\\n",
       "low                    5076              5178                 5070   \n",
       "medium                 4962              4860                 4968   \n",
       "high                   4968              4968                 4968   \n",
       "\n",
       "        lsc-discretized  \n",
       "low                5070  \n",
       "medium             4968  \n",
       "high               4968  \n",
       "\n",
       "[3 rows x 22 columns]"
      ]
     },
     "execution_count": 39,
     "metadata": {},
     "output_type": "execute_result"
    }
   ],
   "source": [
    "quad_split_df\\\n",
    "    .query(LIMITING_QUERY)\\\n",
    "    [ALL_DISCRETIZED_METRICS].apply(lambda x:x.value_counts())"
   ]
  },
  {
   "cell_type": "code",
   "execution_count": 42,
   "id": "ac9ed68b4a63b4ca",
   "metadata": {
    "ExecuteTime": {
     "end_time": "2024-07-17T21:41:56.018234Z",
     "start_time": "2024-07-17T21:41:54.475447Z"
    }
   },
   "outputs": [
    {
     "data": {
      "image/png": "[encoded data removed]",
      "text/plain": [
       "<Figure size 1000x500 with 1 Axes>"
      ]
     },
     "metadata": {},
     "output_type": "display_data"
    }
   ],
   "source": [
    "fig, ax = plt.subplots(1, 1, figsize=(10, 5))\n",
    "\n",
    "err_vars = quad_split_df.groupby([\"params.complexity_measure\"])[['test_accuracy_v1', 'test_accuracy_v2']].var()\n",
    "\n",
    "df_to_plot = quad_split_df.groupby([\"params.complexity_measure\"])[['test_accuracy_v1', 'test_accuracy_v2']].mean()\n",
    "\n",
    "df_to_plot.plot(kind='bar', ax=ax, yerr=err_vars)\n",
    "\n",
    "ax.set_ylim(0.5, 1)\n",
    "\n",
    "ax.legend([\"v1\", \"v2\"])\n",
    "ax.set_xlabel(\"Complexity measure\")\n",
    "ax.set_ylabel(\"Metric value\")\n",
    "# ax.axhline(df_to_plot.test_accuracy.max())\n",
    "# for container in ax.containers:\n",
    "#     ax.bar_label(container)\n",
    "# handles, labels = ax.get_legend_handles_labels()\n",
    "# fig.legend(handles, labels, loc='center right')\n",
    "fig.savefig('../figures/quad/explainable-complexity-metric-comparison.pdf')"
   ]
  },
  {
   "cell_type": "code",
   "execution_count": 43,
   "id": "10491c1c-3e4a-415f-ab18-7cbfe95a5cb9",
   "metadata": {},
   "outputs": [],
   "source": [
    "LIMITING_QUERY = \"`params.min_samples` == '28' and `params.min_split_percentage` == '0.183' and `params.complexity_measure` == 'density'\""
   ]
  },
  {
   "cell_type": "code",
   "execution_count": 44,
   "id": "2fd4b3dbcdb5a8bc",
   "metadata": {
    "ExecuteTime": {
     "end_time": "2024-07-17T21:41:56.390864Z",
     "start_time": "2024-07-17T21:41:56.371541Z"
    }
   },
   "outputs": [],
   "source": [
    "def vals_to_percentage(l):\n",
    "    total = sum(l)\n",
    "    \n",
    "    return [round(item/total*100,2) for item in l]\n",
    "    "
   ]
  },
  {
   "cell_type": "markdown",
   "id": "89fdb22fbd082147",
   "metadata": {},
   "source": [
    "## WINS-LOSSES acc general"
   ]
  },
  {
   "cell_type": "code",
   "execution_count": 47,
   "id": "c86764ece5b36a27",
   "metadata": {
    "ExecuteTime": {
     "end_time": "2024-07-17T21:41:56.405909Z",
     "start_time": "2024-07-17T21:41:56.391619Z"
    }
   },
   "outputs": [],
   "source": [
    "def plot_bar(labels, values_dict, quants, ax):\n",
    "    plot_labels = [l.split('_')[-1].upper() for l in labels]\n",
    "    data = np.array(list(values_dict.values()))\n",
    "    data_cum = data.cumsum(axis=1)\n",
    "        \n",
    "    ax.invert_yaxis()\n",
    "    ax.xaxis.set_visible(False)\n",
    "    ax.set_xlim(0, np.sum(data, axis=1).max())\n",
    "\n",
    "    for i, colname in enumerate(quants):\n",
    "        widths = data[:, i]\n",
    "        starts = data_cum[:, i] - widths\n",
    "        rects = ax.barh(plot_labels, widths, left=starts, height=0.5, label=colname)\n",
    "\n",
    "        ax.bar_label(rects, label_type='center')\n",
    "\n",
    "\n"
   ]
  },
  {
   "cell_type": "code",
   "execution_count": 50,
   "id": "ddd21644dd3d312c",
   "metadata": {
    "ExecuteTime": {
     "end_time": "2024-07-17T21:41:57.173072Z",
     "start_time": "2024-07-17T21:41:56.406628Z"
    }
   },
   "outputs": [
    {
     "data": {
      "image/png": "[encoded data removed]",
      "text/plain": [
       "<Figure size 1000x1000 with 3 Axes>"
      ]
     },
     "metadata": {},
     "output_type": "display_data"
    }
   ],
   "source": [
    "fig, (ax1, ax2, ax3) = plt.subplots(3, 1, sharex=True, sharey=True, figsize=(10, 10))\n",
    "\n",
    "ax1.set_title(\"Accuracy\")\n",
    "labels = [f\"test_accuracy_v1_comparison{suffix}\" for suffix in SUFFIXES]\n",
    "vals_to_plot = {k: vals_to_percentage(v.values()) for k,v in quad_split_df.query(LIMITING_QUERY)[labels].apply(pd.Series.value_counts).reindex(LABELS_THAT_SHOULD_BE).to_dict().items()}\n",
    "plot_bar(labels, vals_to_plot, ['better', 'equal', 'worse'], ax1)\n",
    "\n",
    "ax2.set_title(\"Recall\")\n",
    "labels = [f\"test_recall_v1_comparison{suffix}\" for suffix in SUFFIXES]\n",
    "vals_to_plot = {k: vals_to_percentage(v.values()) for k,v in quad_split_df.query(LIMITING_QUERY)[labels].apply(pd.Series.value_counts).reindex(LABELS_THAT_SHOULD_BE).to_dict().items()}\n",
    "plot_bar(labels, vals_to_plot, ['better', 'equal', 'worse'], ax2)\n",
    "\n",
    "ax3.set_title(\"Precision\")\n",
    "labels = [f\"test_precision_v1_comparison{suffix}\" for suffix in SUFFIXES]\n",
    "vals_to_plot = {k: vals_to_percentage(v.values()) for k,v in quad_split_df.query(LIMITING_QUERY)[labels].apply(pd.Series.value_counts).reindex(LABELS_THAT_SHOULD_BE).to_dict().items()}\n",
    "plot_bar(labels, vals_to_plot, ['better', 'equal', 'worse'], ax3)\n",
    "\n",
    "handles, labels = ax2.get_legend_handles_labels()\n",
    "fig.legend(handles, labels, loc='center right')\n",
    "\n",
    "fig.savefig('../figures/quad/explanations-v1-overall-performance-barplot.pdf')"
   ]
  },
  {
   "cell_type": "code",
   "execution_count": 51,
   "id": "d17abf72-d64f-40c2-a12f-717611e599a1",
   "metadata": {},
   "outputs": [
    {
     "data": {
      "image/png": "[encoded data removed]",
      "text/plain": [
       "<Figure size 1000x1000 with 3 Axes>"
      ]
     },
     "metadata": {},
     "output_type": "display_data"
    }
   ],
   "source": [
    "fig, (ax1, ax2, ax3) = plt.subplots(3, 1, sharex=True, sharey=True, figsize=(10, 10))\n",
    "\n",
    "ax1.set_title(\"Accuracy\")\n",
    "labels = [f\"test_accuracy_v2_comparison{suffix}\" for suffix in SUFFIXES]\n",
    "vals_to_plot = {k: vals_to_percentage(v.values()) for k,v in quad_split_df.query(LIMITING_QUERY)[labels].apply(pd.Series.value_counts).reindex(LABELS_THAT_SHOULD_BE).to_dict().items()}\n",
    "plot_bar(labels, vals_to_plot, ['better', 'equal', 'worse'], ax1)\n",
    "\n",
    "ax2.set_title(\"Recall\")\n",
    "labels = [f\"test_recall_v2_comparison{suffix}\" for suffix in SUFFIXES]\n",
    "vals_to_plot = {k: vals_to_percentage(v.values()) for k,v in quad_split_df.query(LIMITING_QUERY)[labels].apply(pd.Series.value_counts).reindex(LABELS_THAT_SHOULD_BE).to_dict().items()}\n",
    "plot_bar(labels, vals_to_plot, ['better', 'equal', 'worse'], ax2)\n",
    "\n",
    "ax3.set_title(\"Precision\")\n",
    "labels = [f\"test_precision_v2_comparison{suffix}\" for suffix in SUFFIXES]\n",
    "vals_to_plot = {k: vals_to_percentage(v.values()) for k,v in quad_split_df.query(LIMITING_QUERY)[labels].apply(pd.Series.value_counts).reindex(LABELS_THAT_SHOULD_BE).to_dict().items()}\n",
    "plot_bar(labels, vals_to_plot, ['better', 'equal', 'worse'], ax3)\n",
    "\n",
    "handles, labels = ax2.get_legend_handles_labels()\n",
    "fig.legend(handles, labels, loc='center right')\n",
    "\n",
    "fig.savefig('../figures/quad/explanations-v2-overall-performance-barplot.pdf')"
   ]
  },
  {
   "cell_type": "code",
   "execution_count": null,
   "id": "b7f48fbef6133a7a",
   "metadata": {},
   "outputs": [],
   "source": [
    "ACC_LABELS = [f\"test_accuracy_comparison{suffix}\" for suffix in SUFFIXES]\n",
    "PRECISION_LABLES = [f\"test_precision_comparison{suffix}\" for suffix in SUFFIXES]\n",
    "RECALL_LABLES = [f\"test_recall_comparison{suffix}\" for suffix in SUFFIXES]"
   ]
  },
  {
   "cell_type": "code",
   "execution_count": null,
   "id": "f7f111f4d7c0e126",
   "metadata": {},
   "outputs": [],
   "source": [
    "COMPLEXITIES_TO_CONSIDER = ['f2', 't4', 'c1', 'n3', 'l2', 'density']"
   ]
  },
  {
   "cell_type": "code",
   "execution_count": null,
   "id": "af7354a3ff722224",
   "metadata": {},
   "outputs": [],
   "source": [
    "COMPLEXITIES_WITH_HIGHEST_VARIANCE = ['f2', 't4', 'c1', 'n3', 'l2', 'density']"
   ]
  },
  {
   "cell_type": "code",
   "execution_count": null,
   "id": "cc42e068-1753-4dc8-831b-5da631665e1a",
   "metadata": {},
   "outputs": [],
   "source": [
    "def make_sure_all_labels_are_there(df):\n",
    "    missing_labels = set(LABELS_THAT_SHOULD_BE) - set(df.index)\n",
    "\n",
    "    for label in missing_labels:\n",
    "        df.loc[label] = pd.Series()\n",
    "\n",
    "    return df.reindex(LABELS_THAT_SHOULD_BE)"
   ]
  },
  {
   "cell_type": "code",
   "execution_count": null,
   "id": "92115b68-cbcf-4958-a898-569f29e1436b",
   "metadata": {},
   "outputs": [],
   "source": [
    "fig, axes = plt.subplots(3,3, sharey=True, figsize=(20, 10))\n",
    "\n",
    "axes = axes.reshape(-1)\n",
    "\n",
    "axes_iter = iter(axes)\n",
    "plot_labels = [l.split('_')[-1].upper() for l in ACC_LABELS]\n",
    "\n",
    "\n",
    "\n",
    "for labels, label in zip([ACC_LABELS, RECALL_LABLES, PRECISION_LABLES], [\"Accuracy\", \"Recall\", \"Precision\"]):\n",
    "    for value in ['low', 'medium', 'high']:\n",
    "        ax = next(axes_iter)\n",
    "        vals_to_plot = {k: vals_to_percentage(v.values()) for k,v in make_sure_all_labels_are_there(quad_split_df.query(LIMITING_QUERY).query(f\"`overall-complexity` == '{value}'\")[labels].apply(pd.Series.value_counts)).fillna(0).to_dict().items()}\n",
    "    \n",
    "        data = np.array(list(vals_to_plot.values()))\n",
    "        data_cum = data.cumsum(axis=1)\n",
    "        ax.invert_yaxis()\n",
    "        ax.xaxis.set_visible(False)\n",
    "        # ax.yaxis.set_visible(False)\n",
    "        ax.set_xlim(0, np.sum(data, axis=1).max())\n",
    "\n",
    "        for i, colname in enumerate(['better', 'equal', 'worse']):\n",
    "            widths = data[:, i]\n",
    "            starts = data_cum[:, i] - widths\n",
    "            rects = ax.barh(plot_labels, widths, left=starts, height=0.5, label=colname)\n",
    "            ax.bar_label(rects, label_type='center')\n",
    "    \n",
    "        ax.set_title(f\"complexity {value} {label}\")\n",
    "\n",
    "handles, labels = axes[0].get_legend_handles_labels()\n",
    "fig.legend(handles, labels, loc='center right')\n",
    "fig.savefig(\"../figures/quad/overall-complexity-barplot.pdf\")"
   ]
  },
  {
   "cell_type": "code",
   "execution_count": null,
   "id": "9d0d5bd0b5c910a4",
   "metadata": {},
   "outputs": [],
   "source": [
    "fig, axes = plt.subplots(1,3, sharey=True, figsize=(20, 5))\n",
    "\n",
    "axes = axes.reshape(-1)\n",
    "\n",
    "axes_iter = iter(axes)\n",
    "plot_labels = [l.split('_')[-1].upper() for l in ACC_LABELS]\n",
    "\n",
    "\n",
    "for value in ['low', 'medium', 'high']:\n",
    "\n",
    "    ax = next(axes_iter)\n",
    "    vals_to_plot = {k:  vals_to_percentage(v.values()) for k,v in quad_split_df.query(LIMITING_QUERY).query(f\"`overall-complexity` == '{value}'\")[ACC_LABELS].apply(pd.Series.value_counts).reindex(LABELS_THAT_SHOULD_BE).fillna(0).to_dict().items()}\n",
    "\n",
    "    data = np.array(list(vals_to_plot.values()))\n",
    "    data_cum = data.cumsum(axis=1)\n",
    "    ax.invert_yaxis()\n",
    "    ax.xaxis.set_visible(False)\n",
    "    ax.yaxis.set_visible(False)\n",
    "    ax.set_xlim(0, np.sum(data, axis=1).max())\n",
    "\n",
    "    for i, colname in enumerate(['better', 'equal', 'worse']):\n",
    "        widths = data[:, i]\n",
    "        starts = data_cum[:, i] - widths\n",
    "        rects = ax.barh(plot_labels, widths, left=starts, height=0.5, label=colname)\n",
    "        ax.bar_label(rects, label_type='center')\n",
    "\n",
    "    ax.set_title(f\"complexity {value}\")\n",
    "\n",
    "handles, labels = axes[0].get_legend_handles_labels()\n",
    "fig.legend(handles, labels, loc='center right')\n",
    "fig.savefig(\"../figures/quad/accuracy-overall-complexity-barplot.pdf\")"
   ]
  },
  {
   "cell_type": "markdown",
   "id": "9440b0626f6f3d6a",
   "metadata": {},
   "source": [
    "## Models complexity"
   ]
  },
  {
   "cell_type": "code",
   "execution_count": null,
   "id": "db0902047de8e350",
   "metadata": {},
   "outputs": [],
   "source": [
    "MODEL_COMPLEXITY_LABELS = ['complexity',\"complexity_rf\", \"complexity_dt\", 'complexity_rulefit', \"complexity_oner\"]\n",
    "MODEL_COMPLEXITY_LABELS_WO_RF = ['complexity', \"complexity_dt\", 'complexity_rulefit', \"complexity_oner\"]\n"
   ]
  },
  {
   "cell_type": "code",
   "execution_count": null,
   "id": "22981810b888baa6",
   "metadata": {},
   "outputs": [],
   "source": [
    "quad_split_df[MODEL_COMPLEXITY_LABELS]"
   ]
  },
  {
   "cell_type": "code",
   "execution_count": null,
   "id": "fa8c773b72e69d0",
   "metadata": {},
   "outputs": [],
   "source": [
    "quad_split_df.query(LIMITING_QUERY).groupby(\"overall-complexity\")[MODEL_COMPLEXITY_LABELS_WO_RF].mean().plot(kind='bar')"
   ]
  },
  {
   "cell_type": "code",
   "execution_count": null,
   "id": "8cff501af0b78f51",
   "metadata": {},
   "outputs": [],
   "source": [
    "quad_split_df.query(LIMITING_QUERY).groupby(\"overall-complexity\")[MODEL_COMPLEXITY_LABELS_WO_RF].var().plot(kind='bar')"
   ]
  },
  {
   "cell_type": "code",
   "execution_count": null,
   "id": "e0472a2f882584d2",
   "metadata": {},
   "outputs": [],
   "source": [
    "order = pd.Categorical([ 'low', 'medium', 'high'],ordered=True)"
   ]
  },
  {
   "cell_type": "code",
   "execution_count": null,
   "id": "b34f527f4c64523e",
   "metadata": {},
   "outputs": [],
   "source": [
    "quad_split_df \\\n",
    "    .query(LIMITING_QUERY) \\\n",
    "    .groupby('overall-complexity')[['complexity_dt', 'complexity']] \\\n",
    "    .mean().transpose()"
   ]
  },
  {
   "cell_type": "code",
   "execution_count": null,
   "id": "c23e44c41c143fed",
   "metadata": {},
   "outputs": [],
   "source": [
    "fig, (ax1, ax2) = plt.subplots(1, 2,figsize=(15, 7))\n",
    "\n",
    "quad_split_df\\\n",
    "    .query(LIMITING_QUERY) \\\n",
    "    [['test_accuracy_better_rf'] + ALL_DISCRETIZED_METRICS] \\\n",
    "    .melt('test_accuracy_better_rf')\\\n",
    "    .groupby(['variable', 'value'], as_index=False)['test_accuracy_better_rf'].var()\\\n",
    "    .groupby('variable')['test_accuracy_better_rf'].var()\\\n",
    "    .rename(index=lambda name: name.split('-')[0]).plot(kind='pie', ax=ax1)\n",
    "\n",
    "ax1.set_title(\"Variance of wins against Random Forest\")\n",
    "\n",
    "quad_split_df\\\n",
    "    .query(LIMITING_QUERY) \\\n",
    "    [['test_accuracy_better_dt'] + ALL_DISCRETIZED_METRICS] \\\n",
    "    .melt('test_accuracy_better_dt')\\\n",
    "    .groupby(['variable', 'value'], as_index=False).apply(lambda x: np.sum(x)/len(x))\\\n",
    "    .groupby('variable')['test_accuracy_better_dt'].var()\\\n",
    "    .rename(index=lambda name: name.split('-')[0]).plot(kind='pie', ax=ax2)\n",
    "\n",
    "ax2.set_title(\"Variance of wins against Decision Tree\")\n",
    "fig.savefig('../figures/quad/variance-of-wins.pdf')"
   ]
  },
  {
   "cell_type": "code",
   "execution_count": null,
   "id": "9ccaff8f-b605-4e49-98d1-e6c3ecde73da",
   "metadata": {},
   "outputs": [],
   "source": [
    "most_variance_metrics = quad_split_df\\\n",
    "    .query(LIMITING_QUERY) \\\n",
    "    [['test_accuracy_better_dt'] + ALL_DISCRETIZED_METRICS] \\\n",
    "    .melt('test_accuracy_better_dt')\\\n",
    "    .groupby(['variable', 'value'], as_index=False).apply(lambda x: np.sum(x)/len(x))\\\n",
    "    .groupby('variable')['test_accuracy_better_dt'].var().sort_values(ascending=False)[:5].index"
   ]
  },
  {
   "cell_type": "code",
   "execution_count": null,
   "id": "4f3b534f-50ee-4f12-b7e5-dfdb45fa464c",
   "metadata": {},
   "outputs": [],
   "source": [
    "most_variance_metrics = set(most_variance_metrics).union(quad_split_df\\\n",
    "    .query(LIMITING_QUERY) \\\n",
    "    [['test_accuracy_better_rf'] + ALL_DISCRETIZED_METRICS] \\\n",
    "    .melt('test_accuracy_better_rf')\\\n",
    "    .groupby(['variable', 'value'], as_index=False).apply(lambda x: np.sum(x)/len(x))\\\n",
    "    .groupby('variable')['test_accuracy_better_rf'].var().sort_values(ascending=False)[:4].index)"
   ]
  },
  {
   "cell_type": "code",
   "execution_count": null,
   "id": "c08826d0-3a99-4d7d-a66c-b13993c79198",
   "metadata": {},
   "outputs": [],
   "source": [
    "COMPLEXITIES_TO_CONSIDER = [m.split(\"-\")[0]  for m in most_variance_metrics]"
   ]
  },
  {
   "cell_type": "code",
   "execution_count": null,
   "id": "5970e00c-61f8-457b-82cc-c69b724ad6a4",
   "metadata": {},
   "outputs": [],
   "source": [
    "fig, axes = plt.subplots(len(COMPLEXITIES_TO_CONSIDER),3,figsize=(20, 20), sharey='row')\n",
    "\n",
    "axes = axes.reshape(-1)\n",
    "\n",
    "axes_iter = iter(axes)\n",
    "for complexity in COMPLEXITIES_TO_CONSIDER:\n",
    "    plot_labels = [l.split('_')[-1].upper() for l in ACC_LABELS]\n",
    "    \n",
    "    \n",
    "    for value in ['low', 'medium', 'high']:\n",
    "\n",
    "        ax = next(axes_iter)\n",
    "        vals_to_plot = {k:  vals_to_percentage(v.values()) for k,v in quad_split_df.query(LIMITING_QUERY).query('`params.base_clf` == \"dt\"').query(f\"`{complexity}-discretized` == '{value}'\")[ACC_LABELS].apply(pd.Series.value_counts).reindex(LABELS_THAT_SHOULD_BE).fillna(0).to_dict().items()}\n",
    "\n",
    "        data = np.array(list(vals_to_plot.values()))\n",
    "        data_cum = data.cumsum(axis=1)\n",
    "        ax.invert_yaxis()\n",
    "        ax.xaxis.set_visible(False)\n",
    "        ax.set_xlim(0, np.sum(data, axis=1).max())\n",
    "    \n",
    "        for i, colname in enumerate(['better', 'equal', 'worse']):\n",
    "            widths = data[:, i]\n",
    "            starts = data_cum[:, i] - widths\n",
    "            rects = ax.barh(plot_labels, widths, left=starts, height=0.5, label=colname)\n",
    "            ax.bar_label(rects, label_type='center')\n",
    "    \n",
    "        ax.set_title(f\"{complexity}-{value}\")\n",
    "\n",
    "\n",
    "handles, labels = axes[0].get_legend_handles_labels()\n",
    "fig.legend(handles, labels, loc='center right')\n",
    "fig.savefig('../figures/quad/accuracy-with-variance-complexity-metrics-barplot.pdf')\n"
   ]
  }
 ],
 "metadata": {
  "kernelspec": {
   "display_name": "Python 3 (ipykernel)",
   "language": "python",
   "name": "python3"
  },
  "language_info": {
   "codemirror_mode": {
    "name": "ipython",
    "version": 3
   },
   "file_extension": ".py",
   "mimetype": "text/x-python",
   "name": "python",
   "nbconvert_exporter": "python",
   "pygments_lexer": "ipython3",
   "version": "3.8.16"
  }
 },
 "nbformat": 4,
 "nbformat_minor": 5
}
