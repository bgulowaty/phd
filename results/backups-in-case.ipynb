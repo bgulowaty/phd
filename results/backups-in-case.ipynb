{
 "cells": [
  {
   "cell_type": "code",
   "execution_count": 4,
   "id": "c6cf37f1-8d7c-4ce7-b120-c020ad7ce785",
   "metadata": {},
   "outputs": [],
   "source": [
    "import pandas\n",
    "from mlflow import MlflowClient\n",
    "import mlflow\n",
    "import numpy as np\n",
    "import pandas as pd\n",
    "from functools import reduce\n",
    "import matplotlib.pyplot as plt\n",
    "import collections\n",
    "import matplotlib as mpl\n",
    "import numpy as np\n",
    "from collections import defaultdict\n",
    "import scienceplots\n",
    "from sklearn import datasets\n",
    "from sklearn.datasets import make_blobs\n",
    "\n",
    "\n"
   ]
  },
  {
   "cell_type": "code",
   "execution_count": 5,
   "id": "a01e1d7d-6765-4c5d-ba01-391c20968672",
   "metadata": {},
   "outputs": [],
   "source": [
    "client = MlflowClient(tracking_uri=\"http://192.168.1.181:5010\")\n",
    "mlflow.set_tracking_uri(\"http://192.168.1.181:5010\")\n"
   ]
  },
  {
   "cell_type": "code",
   "execution_count": 7,
   "id": "b2520ae2-9819-4dc0-9869-2a2008faae74",
   "metadata": {},
   "outputs": [],
   "source": [
    "def get_runs_for(name, client = client):\n",
    "    return mlflow.search_runs(client.get_experiment_by_name(name).experiment_id)"
   ]
  },
  {
   "cell_type": "code",
   "execution_count": 8,
   "id": "754723f8-f148-438e-9212-42ca76b3c6d3",
   "metadata": {},
   "outputs": [],
   "source": [
    "def get_metrics(artifact_uri, name=\"cls_report\"):\n",
    "    results = mlflow.artifacts.load_dict(f\"{artifact_uri}/{name}\")\n",
    "    \n",
    "    return results"
   ]
  },
  {
   "cell_type": "code",
   "execution_count": 9,
   "id": "9a2a892e-1bcb-4d9e-b1b8-d020af121267",
   "metadata": {},
   "outputs": [],
   "source": [
    "base_runs_dt = get_runs_for(\"base_runs_dt\")"
   ]
  },
  {
   "cell_type": "code",
   "execution_count": 11,
   "id": "7dbcfe8a-497c-425b-b7db-3b49a7f7933e",
   "metadata": {},
   "outputs": [],
   "source": [
    "base_runs_rf = get_runs_for(\"base_runs_rf_extended\")\\\n",
    "    .assign(complex_dt_metrics=lambda row: row['artifact_uri'].apply(lambda v: get_metrics(v, \"complex_dt.json\")))"
   ]
  },
  {
   "cell_type": "code",
   "execution_count": 12,
   "id": "793853f2-cb7d-4033-87eb-5097f9b00c1f",
   "metadata": {},
   "outputs": [],
   "source": [
    "base_runs_oner = get_runs_for(\"base_runs_oner\")"
   ]
  },
  {
   "cell_type": "code",
   "execution_count": 13,
   "id": "44ece45c-f632-4ec4-9443-f763a573e0a3",
   "metadata": {},
   "outputs": [],
   "source": [
    "base_runs_rulefit = get_runs_for(\"base_runs_rulefit\")"
   ]
  },
  {
   "cell_type": "code",
   "execution_count": 17,
   "id": "d2d6afb9-f986-4757-95c0-a809267fa83f",
   "metadata": {},
   "outputs": [],
   "source": [
    "base_runs_greedy = get_runs_for(\"base_runs_greedy\")"
   ]
  },
  {
   "cell_type": "code",
   "execution_count": 15,
   "id": "80c5cf37-89bf-44a6-adab-5d52c531d6d8",
   "metadata": {},
   "outputs": [],
   "source": [
    "quad_split_runs_df = get_runs_for(\"06.07-quadsplit-3\")\\\n",
    "    .assign(cls_report=lambda row: row['artifact_uri'].apply(lambda v: get_metrics(v, \"cls_report.json\")))\\\n",
    "    .assign(imb_cls_report=lambda row: row['artifact_uri'].apply(lambda v: get_metrics(v, \"imb_cls_report.json\")))"
   ]
  },
  {
   "cell_type": "code",
   "execution_count": 16,
   "id": "184061da-9dab-4e3c-84ed-c09ff1c6a417",
   "metadata": {},
   "outputs": [],
   "source": [
    "optimal_centroid_runs_df = get_runs_for(\"07.08-optimal-centroids-no-depth\")\\\n",
    "    .assign(cls_report=lambda row: row['artifact_uri'].apply(lambda v: get_metrics(v, \"cls_report.json\")))\\\n",
    "    .assign(imb_cls_report=lambda row: row['artifact_uri'].apply(lambda v: get_metrics(v, \"imb_cls_report.json\")))\\\n",
    "    .assign(complex_dt=lambda row: row['artifact_uri'].apply(lambda v: get_metrics(v, \"complex_dt.json\")))"
   ]
  },
  {
   "cell_type": "code",
   "execution_count": 19,
   "id": "18cfd8b3-f00c-41f4-b819-2e20588fd1a3",
   "metadata": {},
   "outputs": [],
   "source": [
    "note_runs = get_runs_for(\"24.07-note\")\\\n",
    "    .assign(cls_report=lambda row: row['artifact_uri'].apply(lambda v: get_metrics(v, \"cls_report\")))"
   ]
  },
  {
   "cell_type": "code",
   "execution_count": 20,
   "id": "ad5cb801-a048-4a55-a91f-19fecdc387a2",
   "metadata": {},
   "outputs": [],
   "source": [
    "base_runs_dt.to_csv('backups/base_runs_dt.csv')\n",
    "base_runs_rf.to_csv('backups/base_runs_rf.csv')\n",
    "base_runs_oner.to_csv('backups/base_runs_oner.csv')\n",
    "base_runs_rulefit.to_csv('backups/base_runs_rulefit.csv')\n",
    "base_runs_greedy.to_csv('backups/base_runs_greedy.csv')"
   ]
  },
  {
   "cell_type": "code",
   "execution_count": 21,
   "id": "ec59bb96-d418-4bd1-aad2-e3beea66f3d7",
   "metadata": {},
   "outputs": [],
   "source": [
    "quad_split_runs_df.to_csv('backups/quad_split.csv')\n",
    "note_runs.to_csv('backups/note_runs.csv')\n",
    "optimal_centroid_runs_df.to_csv('backups/optimal_centroid_runs_df.csv')"
   ]
  }
 ],
 "metadata": {
  "kernelspec": {
   "display_name": "Python 3 (ipykernel)",
   "language": "python",
   "name": "python3"
  },
  "language_info": {
   "codemirror_mode": {
    "name": "ipython",
    "version": 3
   },
   "file_extension": ".py",
   "mimetype": "text/x-python",
   "name": "python",
   "nbconvert_exporter": "python",
   "pygments_lexer": "ipython3",
   "version": "3.8.16"
  }
 },
 "nbformat": 4,
 "nbformat_minor": 5
}
