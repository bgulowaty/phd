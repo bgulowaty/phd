{
 "cells": [
  {
   "cell_type": "code",
   "id": "initial_id",
   "metadata": {
    "ExecuteTime": {
     "end_time": "2024-07-13T16:35:17.507683Z",
     "start_time": "2024-07-13T16:35:17.475165Z"
    }
   },
   "source": [
    "import pandas\n",
    "%load_ext autoreload\n",
    "%autoreload 2\n",
    "\n"
   ],
   "outputs": [
    {
     "name": "stdout",
     "output_type": "stream",
     "text": [
      "The autoreload extension is already loaded. To reload it, use:\n",
      "  %reload_ext autoreload\n"
     ]
    }
   ],
   "execution_count": 185
  },
  {
   "cell_type": "code",
   "id": "72cf036e9eec1f2b",
   "metadata": {
    "collapsed": false,
    "ExecuteTime": {
     "end_time": "2024-07-14T11:08:00.536146Z",
     "start_time": "2024-07-14T11:08:00.480559Z"
    }
   },
   "source": [
    "from mlflow import MlflowClient\n",
    "import mlflow\n",
    "import numpy as np\n",
    "import pandas as pd\n",
    "from functools import reduce\n",
    "import matplotlib.pyplot as plt\n",
    "import matplotlib as mpl\n",
    "import numpy as np\n",
    "from collections import defaultdict\n",
    "import scienceplots\n",
    "from sklearn import datasets\n",
    "from sklearn.datasets import make_blobs\n",
    "from cycler import cycler\n",
    "plt.style.use(['science', 'bright'])\n"
   ],
   "outputs": [],
   "execution_count": 359
  },
  {
   "cell_type": "code",
   "id": "3c0d9bc3d2857d08",
   "metadata": {
    "collapsed": false,
    "ExecuteTime": {
     "end_time": "2024-07-13T16:35:17.682010Z",
     "start_time": "2024-07-13T16:35:17.668019Z"
    }
   },
   "source": [
    "client = MlflowClient(tracking_uri=\"http://192.168.1.181:5010\")\n",
    "mlflow.set_tracking_uri(\"http://192.168.1.181:5010\")\n"
   ],
   "outputs": [],
   "execution_count": 187
  },
  {
   "cell_type": "code",
   "source": [
    "complexities_df = pd.read_csv('complexities.csv')\\\n",
    "    .rename(columns={\"shuffle\": \"params.data_shuffle_random_state\", \"dataset_name\": \"params.dataset\", \"should_take_test\": \"params.should_take_test\"})\\\n",
    "    .astype({\"params.data_shuffle_random_state\": str, \"params.should_take_test\": str, \"params.dataset\": str})"
   ],
   "metadata": {
    "collapsed": false,
    "ExecuteTime": {
     "end_time": "2024-07-13T16:35:17.756412Z",
     "start_time": "2024-07-13T16:35:17.716003Z"
    }
   },
   "id": "ae1ebf9400499b3e",
   "outputs": [],
   "execution_count": 188
  },
  {
   "metadata": {
    "ExecuteTime": {
     "end_time": "2024-07-13T16:35:17.789782Z",
     "start_time": "2024-07-13T16:35:17.776623Z"
    }
   },
   "cell_type": "code",
   "source": "COMPLEXITY_METRICS = [m for m in complexities_df.columns.tolist()[3:] if 'time' not in m]",
   "id": "b10c262c3ea1f29e",
   "outputs": [],
   "execution_count": 189
  },
  {
   "metadata": {
    "ExecuteTime": {
     "end_time": "2024-07-13T16:35:17.816446Z",
     "start_time": "2024-07-13T16:35:17.803529Z"
    }
   },
   "cell_type": "code",
   "source": [
    "def get_runs_for(name, client = client):\n",
    "    return mlflow.search_runs(client.get_experiment_by_name(name).experiment_id)"
   ],
   "id": "2a4388f8b5b052b7",
   "outputs": [],
   "execution_count": 190
  },
  {
   "metadata": {
    "ExecuteTime": {
     "end_time": "2024-07-13T16:35:17.861646Z",
     "start_time": "2024-07-13T16:35:17.847430Z"
    }
   },
   "cell_type": "code",
   "source": [
    "CLASSIFICATION_METRICS = ['metrics.tn', 'metrics.tp', 'metrics.fp', 'metrics.fn']\n",
    "DATASET_PARAMS = ['params.should_take_test', 'params.dataset', 'params.data_shuffle_random_state']\n",
    "RF_METRICS = ['metrics.depth_mean',\n",
    "              'metrics.depth_min',\n",
    "              'metrics.depth_median',\n",
    "              'metrics.n_leaves_max',\n",
    "              'metrics.n_leaves_min',\n",
    "              'metrics.n_leaves_mean',\n",
    "              'metrics.depth_max',\n",
    "              'metrics.n_leaves_median',]\n",
    "OPTIMAL_CENTROID_PARAMS = ['params.subspaces', 'metrics.should_take_tree']"
   ],
   "id": "27d326705b5f96e5",
   "outputs": [],
   "execution_count": 191
  },
  {
   "metadata": {
    "ExecuteTime": {
     "end_time": "2024-07-13T16:35:17.885368Z",
     "start_time": "2024-07-13T16:35:17.872791Z"
    }
   },
   "cell_type": "code",
   "source": [
    "def calculate_accuracy(row):\n",
    "    return (row['metrics.tp'] + row['metrics.tn']) / (row['metrics.fp'] + row['metrics.tp'] + row['metrics.tn'] + row['metrics.fn'])"
   ],
   "id": "8c463dd1a0058ecd",
   "outputs": [],
   "execution_count": 192
  },
  {
   "metadata": {
    "ExecuteTime": {
     "end_time": "2024-07-13T16:35:17.960753Z",
     "start_time": "2024-07-13T16:35:17.946101Z"
    }
   },
   "cell_type": "code",
   "source": [
    "def calculate_recall(row):\n",
    "    return row['metrics.tp'] / (row['metrics.tp'] + row['metrics.fn'])\n",
    "\n",
    "def calculate_precision(row):\n",
    "    return row['metrics.tp'] / (row['metrics.tp'] + row['metrics.fp'])"
   ],
   "id": "48dbd8a64c58dd3",
   "outputs": [],
   "execution_count": 193
  },
  {
   "metadata": {
    "ExecuteTime": {
     "end_time": "2024-07-13T16:35:18.650327Z",
     "start_time": "2024-07-13T16:35:17.968816Z"
    }
   },
   "cell_type": "code",
   "source": [
    "base_runs_dt = get_runs_for(\"base_runs_dt\")[CLASSIFICATION_METRICS + DATASET_PARAMS + ['metrics.depth', \"metrics.n_leaves\"]]\\\n",
    "    .assign(test_accuracy=calculate_accuracy) \\\n",
    "    .assign(test_recall=calculate_recall)\\\n",
    "    .assign(test_precision=calculate_precision)"
   ],
   "id": "cec18df8500f804b",
   "outputs": [],
   "execution_count": 194
  },
  {
   "metadata": {
    "ExecuteTime": {
     "end_time": "2024-07-13T16:35:19.478997Z",
     "start_time": "2024-07-13T16:35:18.652613Z"
    }
   },
   "cell_type": "code",
   "source": [
    "base_runs_rf = get_runs_for(\"base_runs_rf\")[CLASSIFICATION_METRICS + DATASET_PARAMS + RF_METRICS]\\\n",
    "    .assign(test_accuracy=calculate_accuracy) \\\n",
    "    .assign(test_recall=calculate_recall) \\\n",
    "    .assign(test_precision=calculate_precision)"
   ],
   "id": "c1e05f45a53e2433",
   "outputs": [],
   "execution_count": 195
  },
  {
   "metadata": {
    "ExecuteTime": {
     "end_time": "2024-07-13T16:35:19.988167Z",
     "start_time": "2024-07-13T16:35:19.479872Z"
    }
   },
   "cell_type": "code",
   "source": [
    "base_runs_oner = (get_runs_for(\"base_runs_oner\")[CLASSIFICATION_METRICS + DATASET_PARAMS + ['metrics.rules_no', 'metrics.depth']]\n",
    "\n",
    "    .assign(test_accuracy=calculate_accuracy)) \\\n",
    "    .assign(test_recall=calculate_recall) \\\n",
    "    .assign(test_precision=calculate_precision)\n"
   ],
   "id": "9eedb862bc4dc5e",
   "outputs": [],
   "execution_count": 196
  },
  {
   "metadata": {
    "ExecuteTime": {
     "end_time": "2024-07-13T16:35:20.555959Z",
     "start_time": "2024-07-13T16:35:19.989615Z"
    }
   },
   "cell_type": "code",
   "source": [
    "base_runs_rulefit = (get_runs_for(\"base_runs_rulefit\")[CLASSIFICATION_METRICS + DATASET_PARAMS + ['metrics.max_rules', 'metrics.rules_no', 'metrics.terms_no']]\n",
    "    .assign(test_accuracy=calculate_accuracy)) \\\n",
    "    .assign(test_recall=calculate_recall) \\\n",
    "    .assign(test_precision=calculate_precision)\n"
   ],
   "id": "ce55cd251fa361f1",
   "outputs": [],
   "execution_count": 197
  },
  {
   "metadata": {
    "ExecuteTime": {
     "end_time": "2024-07-13T16:35:21.089213Z",
     "start_time": "2024-07-13T16:35:20.556901Z"
    }
   },
   "cell_type": "code",
   "source": [
    "base_runs_greedy = (get_runs_for(\"base_runs_greedy\")[CLASSIFICATION_METRICS + DATASET_PARAMS + ['metrics.depth', 'metrics.rules_no']]\n",
    "        .assign(test_accuracy=calculate_accuracy))\\\n",
    "    .assign(test_recall=calculate_recall) \\\n",
    "    .assign(test_precision=calculate_precision)"
   ],
   "id": "33f51c801058f0c4",
   "outputs": [],
   "execution_count": 198
  },
  {
   "cell_type": "code",
   "id": "f282a880-a0a4-4f23-8f3f-9477b89bdf01",
   "metadata": {
    "ExecuteTime": {
     "end_time": "2024-07-13T16:35:23.852818Z",
     "start_time": "2024-07-13T16:35:21.089987Z"
    }
   },
   "source": [
    "optimal_centroid_runs_df =get_runs_for(\"07.05-optimal-centroids\")[CLASSIFICATION_METRICS + DATASET_PARAMS + RF_METRICS + OPTIMAL_CENTROID_PARAMS] \\\n",
    "    .assign(test_accuracy=calculate_accuracy)"
   ],
   "outputs": [],
   "execution_count": 199
  },
  {
   "metadata": {
    "ExecuteTime": {
     "end_time": "2024-07-13T16:35:28.142057Z",
     "start_time": "2024-07-13T16:35:23.853500Z"
    }
   },
   "cell_type": "code",
   "source": [
    "optimal_centroid_runs_df =get_runs_for(\"07.08-optimal-centroids-no-depth\")[CLASSIFICATION_METRICS + DATASET_PARAMS + RF_METRICS + OPTIMAL_CENTROID_PARAMS] \\\n",
    "    .assign(test_accuracy=calculate_accuracy) \\\n",
    "    .assign(test_recall=calculate_recall) \\\n",
    "    .assign(test_precision=calculate_precision)"
   ],
   "id": "bebeebf79ec555e8",
   "outputs": [],
   "execution_count": 200
  },
  {
   "metadata": {
    "ExecuteTime": {
     "end_time": "2024-07-13T16:35:28.159977Z",
     "start_time": "2024-07-13T16:35:28.143321Z"
    }
   },
   "cell_type": "code",
   "source": [
    "base_runs_rf.rename(columns={c: c+'_rf' for c in base_runs_rf.columns if 'metric' in c or 'test_' in c}, inplace=True)\n",
    "base_runs_dt.rename(columns={c: c+'_dt' for c in base_runs_dt.columns if 'metric' in c  or 'test_' in c}, inplace=True)\n",
    "base_runs_greedy.rename(columns={c: c+'_greedy' for c in base_runs_greedy.columns if 'metric' in c or 'test_' in c}, inplace=True)\n",
    "base_runs_oner.rename(columns={c: c+'_oner' for c in base_runs_oner.columns if 'metric' in c or 'test_' in c}, inplace=True)\n",
    "base_runs_rulefit.rename(columns={c: c+'_rulefit' for c in base_runs_rulefit.columns if 'metric' in c or 'test_' in c}, inplace=True)\n"
   ],
   "id": "6ef439416fbfd393",
   "outputs": [],
   "execution_count": 201
  },
  {
   "metadata": {
    "ExecuteTime": {
     "end_time": "2024-07-13T16:35:28.211171Z",
     "start_time": "2024-07-13T16:35:28.160763Z"
    }
   },
   "cell_type": "code",
   "source": [
    "base_runs_together_df = pd.merge(\n",
    "    base_runs_dt,\n",
    "    base_runs_rf,\n",
    "    how='right',\n",
    "    on=DATASET_PARAMS,\n",
    "    suffixes=('_dt', '_rf')\n",
    ")\\\n",
    "    .merge(base_runs_greedy, how='right', on=DATASET_PARAMS, suffixes=('', '_greedy'))\\\n",
    "    .merge(base_runs_oner, how='right', on=DATASET_PARAMS, suffixes=('', '_oner'))\\\n",
    "    .merge(base_runs_rulefit, how='right', on=DATASET_PARAMS, suffixes=('', '_rulefit'))\\\n",
    "    .dropna()\n",
    "optimal_centroids_df = pd.merge(\n",
    "    base_runs_together_df,\n",
    "    optimal_centroid_runs_df,\n",
    "    how='right',\n",
    "    on=DATASET_PARAMS,\n",
    "    suffixes=('', '_opt')\n",
    ")\n",
    "optimal_centroids_df = pd.merge(\n",
    "    optimal_centroids_df,\n",
    "    complexities_df,\n",
    "    how='left',\n",
    "    on=DATASET_PARAMS\n",
    ")"
   ],
   "id": "aa9b32953ecb9b33",
   "outputs": [],
   "execution_count": 202
  },
  {
   "metadata": {
    "ExecuteTime": {
     "end_time": "2024-07-13T16:35:28.226604Z",
     "start_time": "2024-07-13T16:35:28.213470Z"
    }
   },
   "cell_type": "code",
   "source": "[c for c in base_runs_together_df.columns if \"accuracy\" in c]",
   "id": "8ac0ec0deae3e34c",
   "outputs": [
    {
     "data": {
      "text/plain": [
       "['test_accuracy_dt',\n",
       " 'test_accuracy_rf',\n",
       " 'test_accuracy_greedy',\n",
       " 'test_accuracy_oner',\n",
       " 'test_accuracy_rulefit']"
      ]
     },
     "execution_count": 203,
     "metadata": {},
     "output_type": "execute_result"
    }
   ],
   "execution_count": 203
  },
  {
   "metadata": {
    "ExecuteTime": {
     "end_time": "2024-07-13T16:35:28.241476Z",
     "start_time": "2024-07-13T16:35:28.227294Z"
    }
   },
   "cell_type": "code",
   "source": "optimal_centroids_df.dropna(inplace=True)",
   "id": "ee5702225cd8ffe9",
   "outputs": [],
   "execution_count": 204
  },
  {
   "metadata": {
    "ExecuteTime": {
     "end_time": "2024-07-14T08:32:14.764701Z",
     "start_time": "2024-07-14T08:32:14.641516Z"
    }
   },
   "cell_type": "code",
   "source": "optimal_centroids_df['test_accuracy'] = optimal_centroids_df.apply(lambda row: row['test_accuracy_dt'] if row['metrics.should_take_tree'] == True else row['test_accuracy'], axis=1)",
   "id": "9a7b092b6f33e657",
   "outputs": [],
   "execution_count": 244
  },
  {
   "metadata": {
    "ExecuteTime": {
     "end_time": "2024-07-14T11:05:16.948209Z",
     "start_time": "2024-07-14T11:05:16.925665Z"
    }
   },
   "cell_type": "code",
   "source": "optimal_centroids_df['metrics.should_take_tree'] == True",
   "id": "16749382b555a0f2",
   "outputs": [
    {
     "data": {
      "text/plain": [
       "0       True\n",
       "1      False\n",
       "2       True\n",
       "3       True\n",
       "4      False\n",
       "       ...  \n",
       "955    False\n",
       "956    False\n",
       "957    False\n",
       "958    False\n",
       "959    False\n",
       "Name: metrics.should_take_tree, Length: 846, dtype: bool"
      ]
     },
     "execution_count": 357,
     "metadata": {},
     "output_type": "execute_result"
    }
   ],
   "execution_count": 357
  },
  {
   "metadata": {
    "ExecuteTime": {
     "end_time": "2024-07-14T11:04:48.722066Z",
     "start_time": "2024-07-14T11:04:48.651865Z"
    }
   },
   "cell_type": "code",
   "source": "optimal_centroids_df.apply(lambda row: row['test_accuracy_dt'] if row['metrics.should_take_tree'] == True else row['test_accuracy'], axis=1)",
   "id": "2d50602983b737e0",
   "outputs": [
    {
     "data": {
      "text/plain": [
       "0      0.865443\n",
       "1      0.755352\n",
       "2      0.865443\n",
       "3      0.865443\n",
       "4      0.807339\n",
       "         ...   \n",
       "955    0.917889\n",
       "956    0.912023\n",
       "957    0.906158\n",
       "958    0.912023\n",
       "959    0.929619\n",
       "Length: 846, dtype: float64"
      ]
     },
     "execution_count": 353,
     "metadata": {},
     "output_type": "execute_result"
    }
   ],
   "execution_count": 353
  },
  {
   "metadata": {
    "ExecuteTime": {
     "end_time": "2024-07-14T08:32:20.798952Z",
     "start_time": "2024-07-14T08:32:20.783893Z"
    }
   },
   "cell_type": "code",
   "source": "optimal_centroids_df.groupby('params.subspaces')['test_accuracy'].mean()",
   "id": "5d5160c3324c3f99",
   "outputs": [
    {
     "data": {
      "text/plain": [
       "params.subspaces\n",
       "10    0.778822\n",
       "15    0.772157\n",
       "20    0.772291\n",
       "3     0.795629\n",
       "30    0.769423\n",
       "5     0.785160\n",
       "Name: test_accuracy, dtype: float64"
      ]
     },
     "execution_count": 245,
     "metadata": {},
     "output_type": "execute_result"
    }
   ],
   "execution_count": 245
  },
  {
   "metadata": {
    "ExecuteTime": {
     "end_time": "2024-07-14T08:32:27.198423Z",
     "start_time": "2024-07-14T08:32:27.175874Z"
    }
   },
   "cell_type": "code",
   "source": "optimal_centroids_df.dropna(inplace=True)",
   "id": "c23fa32c39aed24b",
   "outputs": [],
   "execution_count": 246
  },
  {
   "metadata": {
    "ExecuteTime": {
     "end_time": "2024-07-14T09:56:08.290432Z",
     "start_time": "2024-07-14T09:56:08.150821Z"
    }
   },
   "cell_type": "code",
   "source": "METRICS = ['test_accuracy', 'test_recall', 'test_precision']",
   "id": "ba2e3ff5c84c2327",
   "outputs": [],
   "execution_count": 257
  },
  {
   "metadata": {
    "ExecuteTime": {
     "end_time": "2024-07-14T08:32:55.367966Z",
     "start_time": "2024-07-14T08:32:55.322276Z"
    }
   },
   "cell_type": "code",
   "source": "SUFFIXES = [\"_dt\", \"_rf\", \"_oner\", \"_rulefit\", \"_greedy\"]",
   "id": "e99eeeee3f3af329",
   "outputs": [],
   "execution_count": 247
  },
  {
   "metadata": {
    "ExecuteTime": {
     "end_time": "2024-07-14T11:30:23.782311Z",
     "start_time": "2024-07-14T11:30:23.733632Z"
    }
   },
   "cell_type": "code",
   "source": [
    "def define_comparison(row, suffix, metric):\n",
    "    if row[f'{metric}_equal{suffix}']:\n",
    "        return \"equal\"\n",
    "    if row[f'{metric}_better{suffix}']:\n",
    "        return \"better\"\n",
    "    else:\n",
    "        return \"worse\""
   ],
   "id": "6f3f711d4da9789c",
   "outputs": [],
   "execution_count": 369
  },
  {
   "metadata": {
    "ExecuteTime": {
     "end_time": "2024-07-14T11:30:28.860502Z",
     "start_time": "2024-07-14T11:30:28.658541Z"
    }
   },
   "cell_type": "code",
   "source": [
    "for suffix in SUFFIXES:\n",
    "    for metric in METRICS:\n",
    "        optimal_centroids_df[f'{metric}_diff_to{suffix}'] = optimal_centroids_df[metric] - optimal_centroids_df[f'{metric}{suffix}']\n",
    "        optimal_centroids_df[f'{metric}_better_equal{suffix}'] = optimal_centroids_df[metric] >= optimal_centroids_df[f'{metric}{suffix}']\n",
    "        optimal_centroids_df[f'{metric}_better{suffix}'] = optimal_centroids_df[metric] > optimal_centroids_df[f'{metric}{suffix}']\n",
    "        optimal_centroids_df[f'{metric}_worse{suffix}'] = ~optimal_centroids_df[f'{metric}_better_equal{suffix}']\n",
    "        optimal_centroids_df[f'{metric}_worse_equal{suffix}'] = ~optimal_centroids_df[f'{metric}_better{suffix}']\n",
    "        optimal_centroids_df[f'{metric}_equal{suffix}'] = optimal_centroids_df[metric] == optimal_centroids_df[f'{metric}{suffix}']\n",
    "        optimal_centroids_df[f'{metric}_comparison{suffix}'] = optimal_centroids_df.apply(lambda row: define_comparison(row, suffix, metric), axis=1)"
   ],
   "id": "74d69acd8b5b4e47",
   "outputs": [],
   "execution_count": 370
  },
  {
   "metadata": {
    "ExecuteTime": {
     "end_time": "2024-07-14T10:13:30.963051Z",
     "start_time": "2024-07-14T10:13:30.643793Z"
    }
   },
   "cell_type": "code",
   "source": "",
   "id": "150f76b70c8ae3e7",
   "outputs": [],
   "execution_count": 271
  },
  {
   "metadata": {
    "ExecuteTime": {
     "end_time": "2024-07-14T09:15:32.269772Z",
     "start_time": "2024-07-14T09:15:32.227275Z"
    }
   },
   "cell_type": "code",
   "source": [
    "optimal_centroids_df['complexity_rf'] = optimal_centroids_df['metrics.depth_median_rf'] * 32 *optimal_centroids_df['metrics.n_leaves_median_rf']\n",
    "optimal_centroids_df['complexity'] = optimal_centroids_df['metrics.depth_median'] * optimal_centroids_df['params.subspaces'].astype(int) * optimal_centroids_df['metrics.n_leaves_median']\n",
    "optimal_centroids_df['complexity_dt'] = optimal_centroids_df['metrics.depth_dt'] * optimal_centroids_df['metrics.n_leaves_dt']\n",
    "optimal_centroids_df['complexity_rulefit'] = optimal_centroids_df['metrics.rules_no_rulefit']\n",
    "optimal_centroids_df['complexity_oner'] = optimal_centroids_df['metrics.rules_no_oner']\n"
   ],
   "id": "b17a952891ffa4df",
   "outputs": [],
   "execution_count": 252
  },
  {
   "metadata": {},
   "cell_type": "markdown",
   "source": "# COMPARISON TO ALGORITHSM",
   "id": "3b03f1391512aad7"
  },
  {
   "metadata": {
    "ExecuteTime": {
     "end_time": "2024-07-14T09:54:47.705814Z",
     "start_time": "2024-07-14T09:54:47.670167Z"
    }
   },
   "cell_type": "code",
   "source": "LIMITING_QUERY = \"`params.subspaces` == '3'\"",
   "id": "a72588fd1b68f267",
   "outputs": [],
   "execution_count": 256
  },
  {
   "metadata": {
    "ExecuteTime": {
     "end_time": "2024-07-14T09:53:32.770249Z",
     "start_time": "2024-07-14T09:53:32.730094Z"
    }
   },
   "cell_type": "code",
   "source": "COMPARED_ALGS = ['rf', 'dt']",
   "id": "ed43280ef123d81d",
   "outputs": [],
   "execution_count": 255
  },
  {
   "metadata": {
    "ExecuteTime": {
     "end_time": "2024-07-14T10:19:34.712969Z",
     "start_time": "2024-07-14T10:19:34.609042Z"
    }
   },
   "cell_type": "code",
   "source": [
    "optimal_centroids_df\\\n",
    "    .query(LIMITING_QUERY)\\\n",
    "    .pivot_table(columns=['comparison_rulefit'], aggfunc=\"count\", values=[\"test_accuracy\"])"
   ],
   "id": "ce4be453cb92b24d",
   "outputs": [
    {
     "data": {
      "text/plain": [
       "comparison_rulefit  better  equal  worse\n",
       "test_accuracy           44     21     76"
      ],
      "text/html": [
       "<div>\n",
       "<style scoped>\n",
       "    .dataframe tbody tr th:only-of-type {\n",
       "        vertical-align: middle;\n",
       "    }\n",
       "\n",
       "    .dataframe tbody tr th {\n",
       "        vertical-align: top;\n",
       "    }\n",
       "\n",
       "    .dataframe thead th {\n",
       "        text-align: right;\n",
       "    }\n",
       "</style>\n",
       "<table border=\"1\" class=\"dataframe\">\n",
       "  <thead>\n",
       "    <tr style=\"text-align: right;\">\n",
       "      <th>comparison_rulefit</th>\n",
       "      <th>better</th>\n",
       "      <th>equal</th>\n",
       "      <th>worse</th>\n",
       "    </tr>\n",
       "  </thead>\n",
       "  <tbody>\n",
       "    <tr>\n",
       "      <th>test_accuracy</th>\n",
       "      <td>44</td>\n",
       "      <td>21</td>\n",
       "      <td>76</td>\n",
       "    </tr>\n",
       "  </tbody>\n",
       "</table>\n",
       "</div>"
      ]
     },
     "execution_count": 287,
     "metadata": {},
     "output_type": "execute_result"
    }
   ],
   "execution_count": 287
  },
  {
   "metadata": {
    "ExecuteTime": {
     "end_time": "2024-07-14T11:26:29.967210Z",
     "start_time": "2024-07-14T11:26:29.948754Z"
    }
   },
   "cell_type": "code",
   "source": "optimal_centroids_df[['test_accuracy', 'test_precision']]",
   "id": "7ed3c3794d7278c6",
   "outputs": [
    {
     "data": {
      "text/plain": [
       "     test_accuracy  test_precision\n",
       "0         0.865443        0.966216\n",
       "1         0.755352        0.689189\n",
       "2         0.865443        0.966216\n",
       "3         0.865443        0.966216\n",
       "4         0.807339        0.695946\n",
       "..             ...             ...\n",
       "955       0.917889        0.873950\n",
       "956       0.912023        0.890756\n",
       "957       0.906158        0.890756\n",
       "958       0.912023        0.907563\n",
       "959       0.929619        0.873950\n",
       "\n",
       "[846 rows x 2 columns]"
      ],
      "text/html": [
       "<div>\n",
       "<style scoped>\n",
       "    .dataframe tbody tr th:only-of-type {\n",
       "        vertical-align: middle;\n",
       "    }\n",
       "\n",
       "    .dataframe tbody tr th {\n",
       "        vertical-align: top;\n",
       "    }\n",
       "\n",
       "    .dataframe thead th {\n",
       "        text-align: right;\n",
       "    }\n",
       "</style>\n",
       "<table border=\"1\" class=\"dataframe\">\n",
       "  <thead>\n",
       "    <tr style=\"text-align: right;\">\n",
       "      <th></th>\n",
       "      <th>test_accuracy</th>\n",
       "      <th>test_precision</th>\n",
       "    </tr>\n",
       "  </thead>\n",
       "  <tbody>\n",
       "    <tr>\n",
       "      <th>0</th>\n",
       "      <td>0.865443</td>\n",
       "      <td>0.966216</td>\n",
       "    </tr>\n",
       "    <tr>\n",
       "      <th>1</th>\n",
       "      <td>0.755352</td>\n",
       "      <td>0.689189</td>\n",
       "    </tr>\n",
       "    <tr>\n",
       "      <th>2</th>\n",
       "      <td>0.865443</td>\n",
       "      <td>0.966216</td>\n",
       "    </tr>\n",
       "    <tr>\n",
       "      <th>3</th>\n",
       "      <td>0.865443</td>\n",
       "      <td>0.966216</td>\n",
       "    </tr>\n",
       "    <tr>\n",
       "      <th>4</th>\n",
       "      <td>0.807339</td>\n",
       "      <td>0.695946</td>\n",
       "    </tr>\n",
       "    <tr>\n",
       "      <th>...</th>\n",
       "      <td>...</td>\n",
       "      <td>...</td>\n",
       "    </tr>\n",
       "    <tr>\n",
       "      <th>955</th>\n",
       "      <td>0.917889</td>\n",
       "      <td>0.873950</td>\n",
       "    </tr>\n",
       "    <tr>\n",
       "      <th>956</th>\n",
       "      <td>0.912023</td>\n",
       "      <td>0.890756</td>\n",
       "    </tr>\n",
       "    <tr>\n",
       "      <th>957</th>\n",
       "      <td>0.906158</td>\n",
       "      <td>0.890756</td>\n",
       "    </tr>\n",
       "    <tr>\n",
       "      <th>958</th>\n",
       "      <td>0.912023</td>\n",
       "      <td>0.907563</td>\n",
       "    </tr>\n",
       "    <tr>\n",
       "      <th>959</th>\n",
       "      <td>0.929619</td>\n",
       "      <td>0.873950</td>\n",
       "    </tr>\n",
       "  </tbody>\n",
       "</table>\n",
       "<p>846 rows × 2 columns</p>\n",
       "</div>"
      ]
     },
     "execution_count": 367,
     "metadata": {},
     "output_type": "execute_result"
    }
   ],
   "execution_count": 367
  },
  {
   "metadata": {
    "ExecuteTime": {
     "end_time": "2024-07-14T10:53:37.345707Z",
     "start_time": "2024-07-14T10:53:37.300332Z"
    }
   },
   "cell_type": "code",
   "source": [
    "def vals_to_percentage(l):\n",
    "    total = sum(l)\n",
    "    \n",
    "    return [round(item/total*100,2) for item in l]\n",
    "    "
   ],
   "id": "2fd4b3dbcdb5a8bc",
   "outputs": [],
   "execution_count": 344
  },
  {
   "metadata": {},
   "cell_type": "markdown",
   "source": "## WINS-LOSSES acc general",
   "id": "89fdb22fbd082147"
  },
  {
   "metadata": {
    "ExecuteTime": {
     "end_time": "2024-07-14T11:38:03.730445Z",
     "start_time": "2024-07-14T11:38:03.560013Z"
    }
   },
   "cell_type": "code",
   "source": [
    "def plot_bar(labels, values_dict, quants):\n",
    "    plot_labels = [l.split('_')[-1].upper() for l in labels]\n",
    "    data = np.array(list(values_dict.values()))\n",
    "    data_cum = data.cumsum(axis=1)\n",
    "    \n",
    "    fig, ax = plt.subplots(figsize=(10, 5))\n",
    "    ax.invert_yaxis()\n",
    "    ax.xaxis.set_visible(False)\n",
    "    ax.set_xlim(0, np.sum(data, axis=1).max())\n",
    "    \n",
    "    for i, colname in enumerate(quants):\n",
    "        widths = data[:, i]\n",
    "        starts = data_cum[:, i] - widths\n",
    "        rects = ax.barh(plot_labels, widths, left=starts, height=0.5, label=colname)\n",
    "    \n",
    "    \n",
    "        ax.bar_label(rects, label_type='center')\n",
    "    \n",
    "    \n",
    "    ax.legend(ncols=len(plot_labels), bbox_to_anchor=(0, 1),\n",
    "              loc='lower left', fontsize='small')\n"
   ],
   "id": "4bb6c6fa4d98b369",
   "outputs": [],
   "execution_count": 379
  },
  {
   "metadata": {
    "ExecuteTime": {
     "end_time": "2024-07-14T11:38:28.492091Z",
     "start_time": "2024-07-14T11:38:28.325356Z"
    }
   },
   "cell_type": "code",
   "source": [
    "labels = [f\"test_accuracy_comparison{suffix}\" for suffix in SUFFIXES]\n",
    "vals_to_plot = {k: vals_to_percentage(v.values()) for k,v in optimal_centroids_df.query(LIMITING_QUERY)[labels].apply(pd.Series.value_counts).to_dict().items()}\n",
    "vals_to_plot\n",
    "plot_bar(labels, vals_to_plot, ['better', 'equal', 'worse'])"
   ],
   "id": "2b25bf588e8d2269",
   "outputs": [
    {
     "data": {
      "text/plain": [
       "<Figure size 1000x500 with 1 Axes>"
      ],
      "image/png": "[encoded data removed]"
     },
     "metadata": {},
     "output_type": "display_data"
    }
   ],
   "execution_count": 385
  },
  {
   "metadata": {},
   "cell_type": "markdown",
   "source": "## WINS-LOSSES recall general",
   "id": "3aa5661bcd6b3e88"
  },
  {
   "metadata": {
    "ExecuteTime": {
     "end_time": "2024-07-14T11:44:15.322597Z",
     "start_time": "2024-07-14T11:44:14.879688Z"
    }
   },
   "cell_type": "code",
   "source": [
    "labels = [f\"test_recall_comparison{suffix}\" for suffix in SUFFIXES]\n",
    "vals_to_plot = {k: vals_to_percentage(v.values()) for k,v in optimal_centroids_df.query(LIMITING_QUERY)[labels].apply(pd.Series.value_counts).to_dict().items()}\n",
    "plot_bar(labels, vals_to_plot, ['better', 'equal', 'worse'])\n"
   ],
   "id": "5334d7dbf2a80a2e",
   "outputs": [
    {
     "data": {
      "text/plain": [
       "<Figure size 1000x500 with 1 Axes>"
      ],
      "image/png": "[encoded data removed]"
     },
     "metadata": {},
     "output_type": "display_data"
    }
   ],
   "execution_count": 387
  },
  {
   "metadata": {},
   "cell_type": "markdown",
   "source": "## WINS-LOSSES precision general",
   "id": "89075c06de28c525"
  },
  {
   "metadata": {
    "ExecuteTime": {
     "end_time": "2024-07-14T11:44:31.688543Z",
     "start_time": "2024-07-14T11:44:31.512602Z"
    }
   },
   "cell_type": "code",
   "source": [
    "labels = [f\"test_precision_comparison{suffix}\" for suffix in SUFFIXES]\n",
    "vals_to_plot = {k: vals_to_percentage(v.values()) for k,v in optimal_centroids_df.query(LIMITING_QUERY)[labels].apply(pd.Series.value_counts).to_dict().items()}\n",
    "plot_bar(labels, vals_to_plot, ['better', 'equal', 'worse'])"
   ],
   "id": "4b07dcc7a5880504",
   "outputs": [
    {
     "data": {
      "text/plain": [
       "<Figure size 1000x500 with 1 Axes>"
      ],
      "image/png": "[encoded data removed]"
     },
     "metadata": {},
     "output_type": "display_data"
    }
   ],
   "execution_count": 388
  },
  {
   "metadata": {},
   "cell_type": "markdown",
   "source": "## WINS-LOSSES per complexity\n",
   "id": "86fcaea3b467674d"
  },
  {
   "metadata": {
    "ExecuteTime": {
     "end_time": "2024-07-14T11:46:46.718412Z",
     "start_time": "2024-07-14T11:46:46.661673Z"
    }
   },
   "cell_type": "code",
   "source": "values_to_plot = defaultdict(dict)",
   "id": "1eaa2cb931b68c1b",
   "outputs": [],
   "execution_count": 389
  },
  {
   "metadata": {},
   "cell_type": "code",
   "outputs": [],
   "execution_count": null,
   "source": "vals_to_plot = {k: vals_to_percentage(v.values()) for k,v in optimal_centroids_df.query(LIMITING_QUERY)[labels].apply(pd.Series.value_counts).to_dict().items()}\n",
   "id": "1365c814a8be3256"
  },
  {
   "metadata": {
    "ExecuteTime": {
     "end_time": "2024-07-14T12:20:43.689279Z",
     "start_time": "2024-07-14T12:20:43.675669Z"
    }
   },
   "cell_type": "code",
   "source": "ACC_LABELS = [f\"test_accuracy_comparison{suffix}\" for suffix in SUFFIXES]\n",
   "id": "b7f48fbef6133a7a",
   "outputs": [],
   "execution_count": 407
  },
  {
   "metadata": {
    "ExecuteTime": {
     "end_time": "2024-07-14T12:22:08.072273Z",
     "start_time": "2024-07-14T12:22:08.036171Z"
    }
   },
   "cell_type": "code",
   "source": [
    "vals_to_plot = {k:  vals_to_percentage(v.values()) for k,v in\n",
    "                    \n",
    "                    optimal_centroids_df\\\n",
    "    .query(LIMITING_QUERY)\\\n",
    "    .query(\"`n1-discretized` == 'low'\")[ACC_LABELS].apply(pd.Series.value_counts).fillna(0).to_dict().items()}\n",
    "vals_to_plot"
   ],
   "id": "1705755f95f9bd51",
   "outputs": [
    {
     "data": {
      "text/plain": [
       "{'test_accuracy_comparison_dt': [35.42, 20.83, 43.75],\n",
       " 'test_accuracy_comparison_rf': [14.58, 25.0, 60.42],\n",
       " 'test_accuracy_comparison_oner': [75.0, 0.0, 25.0],\n",
       " 'test_accuracy_comparison_rulefit': [18.75, 29.17, 52.08],\n",
       " 'test_accuracy_comparison_greedy': [66.67, 2.08, 31.25]}"
      ]
     },
     "execution_count": 411,
     "metadata": {},
     "output_type": "execute_result"
    }
   ],
   "execution_count": 411
  },
  {
   "metadata": {},
   "cell_type": "code",
   "outputs": [],
   "execution_count": null,
   "source": "optimal_centroids_df.query(LIMITING_QUERY)[labels].apply(pd.Series.value_counts).to_dict().items()",
   "id": "38f6fcb726242196"
  },
  {
   "metadata": {
    "ExecuteTime": {
     "end_time": "2024-07-14T12:28:58.211855Z",
     "start_time": "2024-07-14T12:28:58.193933Z"
    }
   },
   "cell_type": "code",
   "source": "COMPLEXITIES_TO_CONSIDER = ['f2', 't4', 'c1', 'n3', 'l2', 'density']",
   "id": "f7f111f4d7c0e126",
   "outputs": [],
   "execution_count": 421
  },
  {
   "metadata": {},
   "cell_type": "code",
   "outputs": [],
   "execution_count": null,
   "source": "optimal_centroids_df.query(LIMITING_QUERY)",
   "id": "1340e596991ebf8a"
  },
  {
   "metadata": {
    "jupyter": {
     "is_executing": true
    },
    "ExecuteTime": {
     "start_time": "2024-07-14T12:49:39.535750Z"
    }
   },
   "cell_type": "code",
   "source": [
    "fig, axes = plt.subplots(len(COMPLEXITIES_TO_CONSIDER),3, sharey=True, figsize=(20, 20))\n",
    "\n",
    "axes = axes.reshape(-1)\n",
    "\n",
    "axes_iter = iter(axes)\n",
    "for complexity in COMPLEXITIES_TO_CONSIDER:\n",
    "    plot_labels = [l.split('_')[-1].upper() for l in ACC_LABELS]\n",
    "    \n",
    "    \n",
    "    for value in ['low', 'medium', 'high']:\n",
    "\n",
    "        ax = next(axes_iter)\n",
    "        vals_to_plot = {k:  vals_to_percentage(v.values()) for k,v in optimal_centroids_df.query(LIMITING_QUERY).query(f\"`{complexity}-discretized` == '{value}'\")[ACC_LABELS].apply(pd.Series.value_counts).fillna(0).to_dict().items()}\n",
    "\n",
    "        data = np.array(list(vals_to_plot.values()))\n",
    "        data_cum = data.cumsum(axis=1)\n",
    "        ax.invert_yaxis()\n",
    "        ax.xaxis.set_visible(False)\n",
    "        ax.set_xlim(0, np.sum(data, axis=1).max())\n",
    "    \n",
    "        for i, colname in enumerate(['better', 'equal', 'worse']):\n",
    "            widths = data[:, i]\n",
    "            starts = data_cum[:, i] - widths\n",
    "            rects = ax.barh(plot_labels, widths, left=starts, height=0.5, label=colname)\n",
    "            ax.bar_label(rects, label_type='center')\n",
    "    \n",
    "        ax.set_title(f\"{complexity}-{value}\")\n",
    "       \n",
    "ax.legend(ncols=len(plot_labels), bbox_to_anchor=(0, 1),\n",
    "                  loc='lower left', fontsize='small')\n"
   ],
   "id": "e2c89b6bd2b3d68d",
   "outputs": [
    {
     "data": {
      "text/plain": [
       "<matplotlib.legend.Legend at 0x330a97550>"
      ]
     },
     "execution_count": 429,
     "metadata": {},
     "output_type": "execute_result"
    }
   ],
   "execution_count": null
  },
  {
   "metadata": {
    "ExecuteTime": {
     "end_time": "2024-07-14T11:10:34.380300Z",
     "start_time": "2024-07-14T11:10:34.345584Z"
    }
   },
   "cell_type": "code",
   "source": "optimal_centroids_df.query(LIMITING_QUERY)",
   "id": "7aabf56e5dad8ae4",
   "outputs": [
    {
     "data": {
      "text/plain": [
       "     metrics.tn_dt  metrics.tp_dt  metrics.fp_dt  metrics.fn_dt  \\\n",
       "5            140.0          143.0            5.0           39.0   \n",
       "11           146.0          135.0           13.0           32.0   \n",
       "17            90.0           15.0           26.0            8.0   \n",
       "23            87.0           19.0           21.0           11.0   \n",
       "29            37.0            7.0            4.0            5.0   \n",
       "..             ...            ...            ...            ...   \n",
       "935           29.0           74.0           41.0           38.0   \n",
       "941           29.0           70.0           30.0           44.0   \n",
       "947           46.0           54.0           46.0           26.0   \n",
       "952          210.0          108.0           12.0           12.0   \n",
       "957          206.0          108.0           11.0           16.0   \n",
       "\n",
       "    params.should_take_test params.dataset params.data_shuffle_random_state  \\\n",
       "5                     False            crx                               99   \n",
       "11                     True            crx                               99   \n",
       "17                    False         breast                               99   \n",
       "23                     True         breast                               99   \n",
       "29                    False   appendicitis                               99   \n",
       "..                      ...            ...                              ...   \n",
       "935                    True          bands                               42   \n",
       "941                   False           bupa                               42   \n",
       "947                    True           bupa                               42   \n",
       "952                   False      wisconsin                               42   \n",
       "957                    True      wisconsin                               42   \n",
       "\n",
       "     metrics.depth_dt  metrics.n_leaves_dt  test_accuracy_dt  ...  equal_dt  \\\n",
       "5                 2.0                  3.0          0.865443  ...      True   \n",
       "11                2.0                  3.0          0.861963  ...     False   \n",
       "17                3.0                  5.0          0.755396  ...     False   \n",
       "23                6.0                  8.0          0.768116  ...     False   \n",
       "29                5.0                  9.0          0.830189  ...     False   \n",
       "..                ...                  ...               ...  ...       ...   \n",
       "935               8.0                 19.0          0.565934  ...     False   \n",
       "941               8.0                 15.0          0.572254  ...     False   \n",
       "947               7.0                 16.0          0.581395  ...     False   \n",
       "952               2.0                  3.0          0.929825  ...     False   \n",
       "957               5.0                  6.0          0.920821  ...     False   \n",
       "\n",
       "     equal_rf  equal_oner  equal_rulefit  equal_greedy  comparison_dt  \\\n",
       "5       False       False          False          True          equal   \n",
       "11      False       False          False         False          worse   \n",
       "17      False       False          False         False          worse   \n",
       "23      False       False          False         False          worse   \n",
       "29      False        True           True          True         better   \n",
       "..        ...         ...            ...           ...            ...   \n",
       "935     False       False          False         False         better   \n",
       "941     False       False          False         False         better   \n",
       "947     False       False          False         False         better   \n",
       "952     False       False          False         False          worse   \n",
       "957     False       False           True         False          worse   \n",
       "\n",
       "     comparison_rf  comparison_oner  comparison_rulefit  comparison_greedy  \n",
       "5            worse           better              better              equal  \n",
       "11          better           better              better              worse  \n",
       "17           worse            worse               worse              worse  \n",
       "23           worse            worse               worse              worse  \n",
       "29          better            equal               equal              equal  \n",
       "..             ...              ...                 ...                ...  \n",
       "935          worse            worse              better             better  \n",
       "941         better           better              better             better  \n",
       "947          worse           better               worse             better  \n",
       "952          worse           better              better             better  \n",
       "957          worse           better               equal             better  \n",
       "\n",
       "[141 rows x 187 columns]"
      ],
      "text/html": [
       "<div>\n",
       "<style scoped>\n",
       "    .dataframe tbody tr th:only-of-type {\n",
       "        vertical-align: middle;\n",
       "    }\n",
       "\n",
       "    .dataframe tbody tr th {\n",
       "        vertical-align: top;\n",
       "    }\n",
       "\n",
       "    .dataframe thead th {\n",
       "        text-align: right;\n",
       "    }\n",
       "</style>\n",
       "<table border=\"1\" class=\"dataframe\">\n",
       "  <thead>\n",
       "    <tr style=\"text-align: right;\">\n",
       "      <th></th>\n",
       "      <th>metrics.tn_dt</th>\n",
       "      <th>metrics.tp_dt</th>\n",
       "      <th>metrics.fp_dt</th>\n",
       "      <th>metrics.fn_dt</th>\n",
       "      <th>params.should_take_test</th>\n",
       "      <th>params.dataset</th>\n",
       "      <th>params.data_shuffle_random_state</th>\n",
       "      <th>metrics.depth_dt</th>\n",
       "      <th>metrics.n_leaves_dt</th>\n",
       "      <th>test_accuracy_dt</th>\n",
       "      <th>...</th>\n",
       "      <th>equal_dt</th>\n",
       "      <th>equal_rf</th>\n",
       "      <th>equal_oner</th>\n",
       "      <th>equal_rulefit</th>\n",
       "      <th>equal_greedy</th>\n",
       "      <th>comparison_dt</th>\n",
       "      <th>comparison_rf</th>\n",
       "      <th>comparison_oner</th>\n",
       "      <th>comparison_rulefit</th>\n",
       "      <th>comparison_greedy</th>\n",
       "    </tr>\n",
       "  </thead>\n",
       "  <tbody>\n",
       "    <tr>\n",
       "      <th>5</th>\n",
       "      <td>140.0</td>\n",
       "      <td>143.0</td>\n",
       "      <td>5.0</td>\n",
       "      <td>39.0</td>\n",
       "      <td>False</td>\n",
       "      <td>crx</td>\n",
       "      <td>99</td>\n",
       "      <td>2.0</td>\n",
       "      <td>3.0</td>\n",
       "      <td>0.865443</td>\n",
       "      <td>...</td>\n",
       "      <td>True</td>\n",
       "      <td>False</td>\n",
       "      <td>False</td>\n",
       "      <td>False</td>\n",
       "      <td>True</td>\n",
       "      <td>equal</td>\n",
       "      <td>worse</td>\n",
       "      <td>better</td>\n",
       "      <td>better</td>\n",
       "      <td>equal</td>\n",
       "    </tr>\n",
       "    <tr>\n",
       "      <th>11</th>\n",
       "      <td>146.0</td>\n",
       "      <td>135.0</td>\n",
       "      <td>13.0</td>\n",
       "      <td>32.0</td>\n",
       "      <td>True</td>\n",
       "      <td>crx</td>\n",
       "      <td>99</td>\n",
       "      <td>2.0</td>\n",
       "      <td>3.0</td>\n",
       "      <td>0.861963</td>\n",
       "      <td>...</td>\n",
       "      <td>False</td>\n",
       "      <td>False</td>\n",
       "      <td>False</td>\n",
       "      <td>False</td>\n",
       "      <td>False</td>\n",
       "      <td>worse</td>\n",
       "      <td>better</td>\n",
       "      <td>better</td>\n",
       "      <td>better</td>\n",
       "      <td>worse</td>\n",
       "    </tr>\n",
       "    <tr>\n",
       "      <th>17</th>\n",
       "      <td>90.0</td>\n",
       "      <td>15.0</td>\n",
       "      <td>26.0</td>\n",
       "      <td>8.0</td>\n",
       "      <td>False</td>\n",
       "      <td>breast</td>\n",
       "      <td>99</td>\n",
       "      <td>3.0</td>\n",
       "      <td>5.0</td>\n",
       "      <td>0.755396</td>\n",
       "      <td>...</td>\n",
       "      <td>False</td>\n",
       "      <td>False</td>\n",
       "      <td>False</td>\n",
       "      <td>False</td>\n",
       "      <td>False</td>\n",
       "      <td>worse</td>\n",
       "      <td>worse</td>\n",
       "      <td>worse</td>\n",
       "      <td>worse</td>\n",
       "      <td>worse</td>\n",
       "    </tr>\n",
       "    <tr>\n",
       "      <th>23</th>\n",
       "      <td>87.0</td>\n",
       "      <td>19.0</td>\n",
       "      <td>21.0</td>\n",
       "      <td>11.0</td>\n",
       "      <td>True</td>\n",
       "      <td>breast</td>\n",
       "      <td>99</td>\n",
       "      <td>6.0</td>\n",
       "      <td>8.0</td>\n",
       "      <td>0.768116</td>\n",
       "      <td>...</td>\n",
       "      <td>False</td>\n",
       "      <td>False</td>\n",
       "      <td>False</td>\n",
       "      <td>False</td>\n",
       "      <td>False</td>\n",
       "      <td>worse</td>\n",
       "      <td>worse</td>\n",
       "      <td>worse</td>\n",
       "      <td>worse</td>\n",
       "      <td>worse</td>\n",
       "    </tr>\n",
       "    <tr>\n",
       "      <th>29</th>\n",
       "      <td>37.0</td>\n",
       "      <td>7.0</td>\n",
       "      <td>4.0</td>\n",
       "      <td>5.0</td>\n",
       "      <td>False</td>\n",
       "      <td>appendicitis</td>\n",
       "      <td>99</td>\n",
       "      <td>5.0</td>\n",
       "      <td>9.0</td>\n",
       "      <td>0.830189</td>\n",
       "      <td>...</td>\n",
       "      <td>False</td>\n",
       "      <td>False</td>\n",
       "      <td>True</td>\n",
       "      <td>True</td>\n",
       "      <td>True</td>\n",
       "      <td>better</td>\n",
       "      <td>better</td>\n",
       "      <td>equal</td>\n",
       "      <td>equal</td>\n",
       "      <td>equal</td>\n",
       "    </tr>\n",
       "    <tr>\n",
       "      <th>...</th>\n",
       "      <td>...</td>\n",
       "      <td>...</td>\n",
       "      <td>...</td>\n",
       "      <td>...</td>\n",
       "      <td>...</td>\n",
       "      <td>...</td>\n",
       "      <td>...</td>\n",
       "      <td>...</td>\n",
       "      <td>...</td>\n",
       "      <td>...</td>\n",
       "      <td>...</td>\n",
       "      <td>...</td>\n",
       "      <td>...</td>\n",
       "      <td>...</td>\n",
       "      <td>...</td>\n",
       "      <td>...</td>\n",
       "      <td>...</td>\n",
       "      <td>...</td>\n",
       "      <td>...</td>\n",
       "      <td>...</td>\n",
       "      <td>...</td>\n",
       "    </tr>\n",
       "    <tr>\n",
       "      <th>935</th>\n",
       "      <td>29.0</td>\n",
       "      <td>74.0</td>\n",
       "      <td>41.0</td>\n",
       "      <td>38.0</td>\n",
       "      <td>True</td>\n",
       "      <td>bands</td>\n",
       "      <td>42</td>\n",
       "      <td>8.0</td>\n",
       "      <td>19.0</td>\n",
       "      <td>0.565934</td>\n",
       "      <td>...</td>\n",
       "      <td>False</td>\n",
       "      <td>False</td>\n",
       "      <td>False</td>\n",
       "      <td>False</td>\n",
       "      <td>False</td>\n",
       "      <td>better</td>\n",
       "      <td>worse</td>\n",
       "      <td>worse</td>\n",
       "      <td>better</td>\n",
       "      <td>better</td>\n",
       "    </tr>\n",
       "    <tr>\n",
       "      <th>941</th>\n",
       "      <td>29.0</td>\n",
       "      <td>70.0</td>\n",
       "      <td>30.0</td>\n",
       "      <td>44.0</td>\n",
       "      <td>False</td>\n",
       "      <td>bupa</td>\n",
       "      <td>42</td>\n",
       "      <td>8.0</td>\n",
       "      <td>15.0</td>\n",
       "      <td>0.572254</td>\n",
       "      <td>...</td>\n",
       "      <td>False</td>\n",
       "      <td>False</td>\n",
       "      <td>False</td>\n",
       "      <td>False</td>\n",
       "      <td>False</td>\n",
       "      <td>better</td>\n",
       "      <td>better</td>\n",
       "      <td>better</td>\n",
       "      <td>better</td>\n",
       "      <td>better</td>\n",
       "    </tr>\n",
       "    <tr>\n",
       "      <th>947</th>\n",
       "      <td>46.0</td>\n",
       "      <td>54.0</td>\n",
       "      <td>46.0</td>\n",
       "      <td>26.0</td>\n",
       "      <td>True</td>\n",
       "      <td>bupa</td>\n",
       "      <td>42</td>\n",
       "      <td>7.0</td>\n",
       "      <td>16.0</td>\n",
       "      <td>0.581395</td>\n",
       "      <td>...</td>\n",
       "      <td>False</td>\n",
       "      <td>False</td>\n",
       "      <td>False</td>\n",
       "      <td>False</td>\n",
       "      <td>False</td>\n",
       "      <td>better</td>\n",
       "      <td>worse</td>\n",
       "      <td>better</td>\n",
       "      <td>worse</td>\n",
       "      <td>better</td>\n",
       "    </tr>\n",
       "    <tr>\n",
       "      <th>952</th>\n",
       "      <td>210.0</td>\n",
       "      <td>108.0</td>\n",
       "      <td>12.0</td>\n",
       "      <td>12.0</td>\n",
       "      <td>False</td>\n",
       "      <td>wisconsin</td>\n",
       "      <td>42</td>\n",
       "      <td>2.0</td>\n",
       "      <td>3.0</td>\n",
       "      <td>0.929825</td>\n",
       "      <td>...</td>\n",
       "      <td>False</td>\n",
       "      <td>False</td>\n",
       "      <td>False</td>\n",
       "      <td>False</td>\n",
       "      <td>False</td>\n",
       "      <td>worse</td>\n",
       "      <td>worse</td>\n",
       "      <td>better</td>\n",
       "      <td>better</td>\n",
       "      <td>better</td>\n",
       "    </tr>\n",
       "    <tr>\n",
       "      <th>957</th>\n",
       "      <td>206.0</td>\n",
       "      <td>108.0</td>\n",
       "      <td>11.0</td>\n",
       "      <td>16.0</td>\n",
       "      <td>True</td>\n",
       "      <td>wisconsin</td>\n",
       "      <td>42</td>\n",
       "      <td>5.0</td>\n",
       "      <td>6.0</td>\n",
       "      <td>0.920821</td>\n",
       "      <td>...</td>\n",
       "      <td>False</td>\n",
       "      <td>False</td>\n",
       "      <td>False</td>\n",
       "      <td>True</td>\n",
       "      <td>False</td>\n",
       "      <td>worse</td>\n",
       "      <td>worse</td>\n",
       "      <td>better</td>\n",
       "      <td>equal</td>\n",
       "      <td>better</td>\n",
       "    </tr>\n",
       "  </tbody>\n",
       "</table>\n",
       "<p>141 rows × 187 columns</p>\n",
       "</div>"
      ]
     },
     "execution_count": 366,
     "metadata": {},
     "output_type": "execute_result"
    }
   ],
   "execution_count": 366
  },
  {
   "metadata": {},
   "cell_type": "code",
   "outputs": [],
   "execution_count": null,
   "source": [
    "values_to_plot = {\n",
    "    \n",
    "}"
   ],
   "id": "5df852154e923620"
  },
  {
   "metadata": {
    "ExecuteTime": {
     "end_time": "2024-07-14T10:02:23.443161Z",
     "start_time": "2024-07-14T10:02:23.423186Z"
    }
   },
   "cell_type": "code",
   "source": "optimal_centroids_df.groupby('equal_rf')['test_accuracy'].count()",
   "id": "e6fcda31bfaefa44",
   "outputs": [
    {
     "data": {
      "text/plain": [
       "equal_rf\n",
       "False    803\n",
       "True      43\n",
       "Name: test_accuracy, dtype: int64"
      ]
     },
     "execution_count": 270,
     "metadata": {},
     "output_type": "execute_result"
    }
   ],
   "execution_count": 270
  },
  {
   "metadata": {
    "ExecuteTime": {
     "end_time": "2024-07-14T09:52:36.652616Z",
     "start_time": "2024-07-14T09:52:36.257707Z"
    }
   },
   "cell_type": "code",
   "source": "optimal_centroids_df[['complexity',\"complexity_rf\", \"complexity_dt\", 'complexity_rulefit', \"complexity_oner\"]].median()",
   "id": "2a3c3f5d4054c52d",
   "outputs": [
    {
     "data": {
      "text/plain": [
       "complexity              20.0\n",
       "complexity_rf         1008.0\n",
       "complexity_dt           24.0\n",
       "complexity_rulefit      27.0\n",
       "complexity_oner          3.0\n",
       "dtype: float64"
      ]
     },
     "execution_count": 254,
     "metadata": {},
     "output_type": "execute_result"
    }
   ],
   "execution_count": 254
  },
  {
   "metadata": {
    "ExecuteTime": {
     "end_time": "2024-07-13T16:35:28.472785Z",
     "start_time": "2024-07-13T16:35:28.459734Z"
    }
   },
   "cell_type": "code",
   "source": "",
   "id": "3fcfa6ed51a86df5",
   "outputs": [],
   "execution_count": 212
  },
  {
   "metadata": {
    "ExecuteTime": {
     "end_time": "2024-07-13T16:35:28.498016Z",
     "start_time": "2024-07-13T16:35:28.473500Z"
    }
   },
   "cell_type": "code",
   "source": [
    "optimal_centroids_df\\\n",
    "    .query(LIMITING_QUERY)\\\n",
    "    .groupby('params.dataset')[['better-dt', 'better-equal-rf']]\\\n",
    "    .apply(lambda x: np.sum(x)/len(x)*100)"
   ],
   "id": "c220c2168c348c8d",
   "outputs": [
    {
     "data": {
      "text/plain": [
       "                better-dt  better-equal-rf\n",
       "params.dataset                            \n",
       "appendicitis         70.0        30.000000\n",
       "australian            0.0        10.000000\n",
       "bands                60.0         0.000000\n",
       "breast                0.0        11.111111\n",
       "bupa                 40.0        10.000000\n",
       "crx                   0.0        10.000000\n",
       "haberman              0.0         0.000000\n",
       "heart                20.0         0.000000\n",
       "hepatitis            50.0        30.000000\n",
       "housevotes           12.5        25.000000\n",
       "ionosphere           20.0         0.000000\n",
       "mammographic         50.0        10.000000\n",
       "monk-2                0.0        90.000000\n",
       "saheart               0.0         0.000000\n",
       "tic-tac-toe          90.0        70.000000\n",
       "wisconsin            30.0        40.000000"
      ],
      "text/html": [
       "<div>\n",
       "<style scoped>\n",
       "    .dataframe tbody tr th:only-of-type {\n",
       "        vertical-align: middle;\n",
       "    }\n",
       "\n",
       "    .dataframe tbody tr th {\n",
       "        vertical-align: top;\n",
       "    }\n",
       "\n",
       "    .dataframe thead th {\n",
       "        text-align: right;\n",
       "    }\n",
       "</style>\n",
       "<table border=\"1\" class=\"dataframe\">\n",
       "  <thead>\n",
       "    <tr style=\"text-align: right;\">\n",
       "      <th></th>\n",
       "      <th>better-dt</th>\n",
       "      <th>better-equal-rf</th>\n",
       "    </tr>\n",
       "    <tr>\n",
       "      <th>params.dataset</th>\n",
       "      <th></th>\n",
       "      <th></th>\n",
       "    </tr>\n",
       "  </thead>\n",
       "  <tbody>\n",
       "    <tr>\n",
       "      <th>appendicitis</th>\n",
       "      <td>70.0</td>\n",
       "      <td>30.000000</td>\n",
       "    </tr>\n",
       "    <tr>\n",
       "      <th>australian</th>\n",
       "      <td>0.0</td>\n",
       "      <td>10.000000</td>\n",
       "    </tr>\n",
       "    <tr>\n",
       "      <th>bands</th>\n",
       "      <td>60.0</td>\n",
       "      <td>0.000000</td>\n",
       "    </tr>\n",
       "    <tr>\n",
       "      <th>breast</th>\n",
       "      <td>0.0</td>\n",
       "      <td>11.111111</td>\n",
       "    </tr>\n",
       "    <tr>\n",
       "      <th>bupa</th>\n",
       "      <td>40.0</td>\n",
       "      <td>10.000000</td>\n",
       "    </tr>\n",
       "    <tr>\n",
       "      <th>crx</th>\n",
       "      <td>0.0</td>\n",
       "      <td>10.000000</td>\n",
       "    </tr>\n",
       "    <tr>\n",
       "      <th>haberman</th>\n",
       "      <td>0.0</td>\n",
       "      <td>0.000000</td>\n",
       "    </tr>\n",
       "    <tr>\n",
       "      <th>heart</th>\n",
       "      <td>20.0</td>\n",
       "      <td>0.000000</td>\n",
       "    </tr>\n",
       "    <tr>\n",
       "      <th>hepatitis</th>\n",
       "      <td>50.0</td>\n",
       "      <td>30.000000</td>\n",
       "    </tr>\n",
       "    <tr>\n",
       "      <th>housevotes</th>\n",
       "      <td>12.5</td>\n",
       "      <td>25.000000</td>\n",
       "    </tr>\n",
       "    <tr>\n",
       "      <th>ionosphere</th>\n",
       "      <td>20.0</td>\n",
       "      <td>0.000000</td>\n",
       "    </tr>\n",
       "    <tr>\n",
       "      <th>mammographic</th>\n",
       "      <td>50.0</td>\n",
       "      <td>10.000000</td>\n",
       "    </tr>\n",
       "    <tr>\n",
       "      <th>monk-2</th>\n",
       "      <td>0.0</td>\n",
       "      <td>90.000000</td>\n",
       "    </tr>\n",
       "    <tr>\n",
       "      <th>saheart</th>\n",
       "      <td>0.0</td>\n",
       "      <td>0.000000</td>\n",
       "    </tr>\n",
       "    <tr>\n",
       "      <th>tic-tac-toe</th>\n",
       "      <td>90.0</td>\n",
       "      <td>70.000000</td>\n",
       "    </tr>\n",
       "    <tr>\n",
       "      <th>wisconsin</th>\n",
       "      <td>30.0</td>\n",
       "      <td>40.000000</td>\n",
       "    </tr>\n",
       "  </tbody>\n",
       "</table>\n",
       "</div>"
      ]
     },
     "execution_count": 213,
     "metadata": {},
     "output_type": "execute_result"
    }
   ],
   "execution_count": 213
  },
  {
   "metadata": {
    "ExecuteTime": {
     "end_time": "2024-07-13T16:35:28.514939Z",
     "start_time": "2024-07-13T16:35:28.498733Z"
    }
   },
   "cell_type": "code",
   "source": [
    "optimal_centroids_df \\\n",
    "    .pivot_table(\n",
    "    values=[\"better-dt\", \"better-equal-rf\"],\n",
    "    index=\"params.subspaces\",\n",
    "    aggfunc=\"mean\")"
   ],
   "id": "8c45ab786b298494",
   "outputs": [
    {
     "data": {
      "text/plain": [
       "                  better-dt  better-equal-rf\n",
       "params.subspaces                            \n",
       "10                 0.170213         0.113475\n",
       "15                 0.163121         0.099291\n",
       "20                 0.148936         0.127660\n",
       "3                  0.290780         0.234043\n",
       "30                 0.141844         0.106383\n",
       "5                  0.248227         0.170213"
      ],
      "text/html": [
       "<div>\n",
       "<style scoped>\n",
       "    .dataframe tbody tr th:only-of-type {\n",
       "        vertical-align: middle;\n",
       "    }\n",
       "\n",
       "    .dataframe tbody tr th {\n",
       "        vertical-align: top;\n",
       "    }\n",
       "\n",
       "    .dataframe thead th {\n",
       "        text-align: right;\n",
       "    }\n",
       "</style>\n",
       "<table border=\"1\" class=\"dataframe\">\n",
       "  <thead>\n",
       "    <tr style=\"text-align: right;\">\n",
       "      <th></th>\n",
       "      <th>better-dt</th>\n",
       "      <th>better-equal-rf</th>\n",
       "    </tr>\n",
       "    <tr>\n",
       "      <th>params.subspaces</th>\n",
       "      <th></th>\n",
       "      <th></th>\n",
       "    </tr>\n",
       "  </thead>\n",
       "  <tbody>\n",
       "    <tr>\n",
       "      <th>10</th>\n",
       "      <td>0.170213</td>\n",
       "      <td>0.113475</td>\n",
       "    </tr>\n",
       "    <tr>\n",
       "      <th>15</th>\n",
       "      <td>0.163121</td>\n",
       "      <td>0.099291</td>\n",
       "    </tr>\n",
       "    <tr>\n",
       "      <th>20</th>\n",
       "      <td>0.148936</td>\n",
       "      <td>0.127660</td>\n",
       "    </tr>\n",
       "    <tr>\n",
       "      <th>3</th>\n",
       "      <td>0.290780</td>\n",
       "      <td>0.234043</td>\n",
       "    </tr>\n",
       "    <tr>\n",
       "      <th>30</th>\n",
       "      <td>0.141844</td>\n",
       "      <td>0.106383</td>\n",
       "    </tr>\n",
       "    <tr>\n",
       "      <th>5</th>\n",
       "      <td>0.248227</td>\n",
       "      <td>0.170213</td>\n",
       "    </tr>\n",
       "  </tbody>\n",
       "</table>\n",
       "</div>"
      ]
     },
     "execution_count": 214,
     "metadata": {},
     "output_type": "execute_result"
    }
   ],
   "execution_count": 214
  },
  {
   "metadata": {
    "ExecuteTime": {
     "end_time": "2024-07-13T16:35:28.534917Z",
     "start_time": "2024-07-13T16:35:28.515776Z"
    }
   },
   "cell_type": "code",
   "source": [
    "optimal_centroids_df \\\n",
    "    .query(LIMITING_QUERY) \\\n",
    ".pivot_table(\n",
    "    values=[\"test_accuracy\", \"test_accuracy_dt\", \"test_accuracy_rf\", \"diff-to-dt\", \"diff-to-rf\"], \n",
    "    index=\"params.dataset\",\n",
    "    aggfunc=\"median\")"
   ],
   "id": "ede9213a7dbc8a69",
   "outputs": [
    {
     "data": {
      "text/plain": [
       "                diff-to-dt  diff-to-rf  test_accuracy  test_accuracy_dt  \\\n",
       "params.dataset                                                            \n",
       "appendicitis      0.028302   -0.037736       0.811321          0.773585   \n",
       "australian       -0.010145   -0.020290       0.834783          0.846377   \n",
       "bands             0.016393   -0.103825       0.609890          0.598901   \n",
       "breast           -0.057971   -0.065217       0.676259          0.748201   \n",
       "bupa             -0.014535   -0.072506       0.561047          0.575145   \n",
       "crx              -0.012270   -0.015337       0.846626          0.863703   \n",
       "haberman         -0.078431   -0.052288       0.686275          0.764706   \n",
       "heart            -0.040741   -0.066667       0.722222          0.740741   \n",
       "hepatitis         0.000000   -0.037500       0.787500          0.825000   \n",
       "housevotes       -0.017241   -0.017241       0.952586          0.956897   \n",
       "ionosphere       -0.017045   -0.045455       0.863636          0.877841   \n",
       "mammographic      0.001205   -0.007229       0.830120          0.824096   \n",
       "monk-2            0.000000    0.000000       1.000000          1.000000   \n",
       "saheart          -0.045455   -0.058442       0.634199          0.675325   \n",
       "tic-tac-toe       0.089770    0.014614       0.869520          0.788100   \n",
       "wisconsin        -0.011717   -0.014620       0.932659          0.935578   \n",
       "\n",
       "                test_accuracy_rf  \n",
       "params.dataset                    \n",
       "appendicitis            0.820755  \n",
       "australian              0.853623  \n",
       "bands                   0.699454  \n",
       "breast                  0.739130  \n",
       "bupa                    0.628982  \n",
       "crx                     0.868502  \n",
       "haberman                0.738562  \n",
       "heart                   0.785185  \n",
       "hepatitis               0.862500  \n",
       "housevotes              0.961207  \n",
       "ionosphere              0.905990  \n",
       "mammographic            0.837349  \n",
       "monk-2                  1.000000  \n",
       "saheart                 0.679654  \n",
       "tic-tac-toe             0.838205  \n",
       "wisconsin               0.942815  "
      ],
      "text/html": [
       "<div>\n",
       "<style scoped>\n",
       "    .dataframe tbody tr th:only-of-type {\n",
       "        vertical-align: middle;\n",
       "    }\n",
       "\n",
       "    .dataframe tbody tr th {\n",
       "        vertical-align: top;\n",
       "    }\n",
       "\n",
       "    .dataframe thead th {\n",
       "        text-align: right;\n",
       "    }\n",
       "</style>\n",
       "<table border=\"1\" class=\"dataframe\">\n",
       "  <thead>\n",
       "    <tr style=\"text-align: right;\">\n",
       "      <th></th>\n",
       "      <th>diff-to-dt</th>\n",
       "      <th>diff-to-rf</th>\n",
       "      <th>test_accuracy</th>\n",
       "      <th>test_accuracy_dt</th>\n",
       "      <th>test_accuracy_rf</th>\n",
       "    </tr>\n",
       "    <tr>\n",
       "      <th>params.dataset</th>\n",
       "      <th></th>\n",
       "      <th></th>\n",
       "      <th></th>\n",
       "      <th></th>\n",
       "      <th></th>\n",
       "    </tr>\n",
       "  </thead>\n",
       "  <tbody>\n",
       "    <tr>\n",
       "      <th>appendicitis</th>\n",
       "      <td>0.028302</td>\n",
       "      <td>-0.037736</td>\n",
       "      <td>0.811321</td>\n",
       "      <td>0.773585</td>\n",
       "      <td>0.820755</td>\n",
       "    </tr>\n",
       "    <tr>\n",
       "      <th>australian</th>\n",
       "      <td>-0.010145</td>\n",
       "      <td>-0.020290</td>\n",
       "      <td>0.834783</td>\n",
       "      <td>0.846377</td>\n",
       "      <td>0.853623</td>\n",
       "    </tr>\n",
       "    <tr>\n",
       "      <th>bands</th>\n",
       "      <td>0.016393</td>\n",
       "      <td>-0.103825</td>\n",
       "      <td>0.609890</td>\n",
       "      <td>0.598901</td>\n",
       "      <td>0.699454</td>\n",
       "    </tr>\n",
       "    <tr>\n",
       "      <th>breast</th>\n",
       "      <td>-0.057971</td>\n",
       "      <td>-0.065217</td>\n",
       "      <td>0.676259</td>\n",
       "      <td>0.748201</td>\n",
       "      <td>0.739130</td>\n",
       "    </tr>\n",
       "    <tr>\n",
       "      <th>bupa</th>\n",
       "      <td>-0.014535</td>\n",
       "      <td>-0.072506</td>\n",
       "      <td>0.561047</td>\n",
       "      <td>0.575145</td>\n",
       "      <td>0.628982</td>\n",
       "    </tr>\n",
       "    <tr>\n",
       "      <th>crx</th>\n",
       "      <td>-0.012270</td>\n",
       "      <td>-0.015337</td>\n",
       "      <td>0.846626</td>\n",
       "      <td>0.863703</td>\n",
       "      <td>0.868502</td>\n",
       "    </tr>\n",
       "    <tr>\n",
       "      <th>haberman</th>\n",
       "      <td>-0.078431</td>\n",
       "      <td>-0.052288</td>\n",
       "      <td>0.686275</td>\n",
       "      <td>0.764706</td>\n",
       "      <td>0.738562</td>\n",
       "    </tr>\n",
       "    <tr>\n",
       "      <th>heart</th>\n",
       "      <td>-0.040741</td>\n",
       "      <td>-0.066667</td>\n",
       "      <td>0.722222</td>\n",
       "      <td>0.740741</td>\n",
       "      <td>0.785185</td>\n",
       "    </tr>\n",
       "    <tr>\n",
       "      <th>hepatitis</th>\n",
       "      <td>0.000000</td>\n",
       "      <td>-0.037500</td>\n",
       "      <td>0.787500</td>\n",
       "      <td>0.825000</td>\n",
       "      <td>0.862500</td>\n",
       "    </tr>\n",
       "    <tr>\n",
       "      <th>housevotes</th>\n",
       "      <td>-0.017241</td>\n",
       "      <td>-0.017241</td>\n",
       "      <td>0.952586</td>\n",
       "      <td>0.956897</td>\n",
       "      <td>0.961207</td>\n",
       "    </tr>\n",
       "    <tr>\n",
       "      <th>ionosphere</th>\n",
       "      <td>-0.017045</td>\n",
       "      <td>-0.045455</td>\n",
       "      <td>0.863636</td>\n",
       "      <td>0.877841</td>\n",
       "      <td>0.905990</td>\n",
       "    </tr>\n",
       "    <tr>\n",
       "      <th>mammographic</th>\n",
       "      <td>0.001205</td>\n",
       "      <td>-0.007229</td>\n",
       "      <td>0.830120</td>\n",
       "      <td>0.824096</td>\n",
       "      <td>0.837349</td>\n",
       "    </tr>\n",
       "    <tr>\n",
       "      <th>monk-2</th>\n",
       "      <td>0.000000</td>\n",
       "      <td>0.000000</td>\n",
       "      <td>1.000000</td>\n",
       "      <td>1.000000</td>\n",
       "      <td>1.000000</td>\n",
       "    </tr>\n",
       "    <tr>\n",
       "      <th>saheart</th>\n",
       "      <td>-0.045455</td>\n",
       "      <td>-0.058442</td>\n",
       "      <td>0.634199</td>\n",
       "      <td>0.675325</td>\n",
       "      <td>0.679654</td>\n",
       "    </tr>\n",
       "    <tr>\n",
       "      <th>tic-tac-toe</th>\n",
       "      <td>0.089770</td>\n",
       "      <td>0.014614</td>\n",
       "      <td>0.869520</td>\n",
       "      <td>0.788100</td>\n",
       "      <td>0.838205</td>\n",
       "    </tr>\n",
       "    <tr>\n",
       "      <th>wisconsin</th>\n",
       "      <td>-0.011717</td>\n",
       "      <td>-0.014620</td>\n",
       "      <td>0.932659</td>\n",
       "      <td>0.935578</td>\n",
       "      <td>0.942815</td>\n",
       "    </tr>\n",
       "  </tbody>\n",
       "</table>\n",
       "</div>"
      ]
     },
     "execution_count": 215,
     "metadata": {},
     "output_type": "execute_result"
    }
   ],
   "execution_count": 215
  },
  {
   "metadata": {
    "ExecuteTime": {
     "end_time": "2024-07-14T11:10:25.711098Z",
     "start_time": "2024-07-14T11:10:25.644520Z"
    }
   },
   "cell_type": "code",
   "source": [
    "for metric in COMPLEXITY_METRICS:\n",
    "    optimal_centroids_df[f'{metric}-discretized'] = pd.qcut(optimal_centroids_df[metric], 3, labels=[\"low\", \"medium\", \"high\"])\n"
   ],
   "id": "6da066fb5afd9c2",
   "outputs": [],
   "execution_count": 363
  },
  {
   "metadata": {
    "ExecuteTime": {
     "end_time": "2024-07-14T11:10:30.011504Z",
     "start_time": "2024-07-14T11:10:29.997071Z"
    }
   },
   "cell_type": "code",
   "source": "ALL_DISCRETIZED_METRICS = [f'{metric}-discretized' for metric in COMPLEXITY_METRICS]",
   "id": "151dfe593a3d685d",
   "outputs": [],
   "execution_count": 365
  },
  {
   "metadata": {
    "ExecuteTime": {
     "end_time": "2024-07-13T16:35:28.594593Z",
     "start_time": "2024-07-13T16:35:28.579921Z"
    }
   },
   "cell_type": "code",
   "source": "optimal_centroids_df['complexity-dt-difference'] = optimal_centroids_df['dt_complexity'] - optimal_centroids_df['complexity']",
   "id": "2e13f8c8d56650bb",
   "outputs": [],
   "execution_count": 218
  },
  {
   "metadata": {
    "ExecuteTime": {
     "end_time": "2024-07-13T16:35:28.609085Z",
     "start_time": "2024-07-13T16:35:28.595809Z"
    }
   },
   "cell_type": "code",
   "source": [
    "# optimal_centroids_df \\\n",
    "#     .query(LIMITING_QUERY) \\\n",
    "#     [['complexity-dt-difference'] + ALL_DISCRETIZED_METRICS] \\\n",
    "#     .melt('complexity-dt-difference') \\\n",
    "#     .groupby(['variable', 'value'], as_index=False).apply(lambda x: np.sum(x)/len(x)) \\\n",
    "#     .groupby('variable')['complexity-dt-difference'].var()"
   ],
   "id": "2a2179d813837f1d",
   "outputs": [],
   "execution_count": 219
  },
  {
   "metadata": {
    "ExecuteTime": {
     "end_time": "2024-07-13T16:35:28.655340Z",
     "start_time": "2024-07-13T16:35:28.609881Z"
    }
   },
   "cell_type": "code",
   "source": [
    "optimal_centroids_df\\\n",
    "    .query(LIMITING_QUERY) \\\n",
    "    [['better-dt'] + ALL_DISCRETIZED_METRICS] \\\n",
    "    .melt('better-dt')\\\n",
    "    .groupby(['variable', 'value'], as_index=False).apply(lambda x: np.sum(x)/len(x))\\\n",
    "    .groupby('variable')['better-dt'].var()"
   ],
   "id": "8a353175aa6b2a07",
   "outputs": [
    {
     "data": {
      "text/plain": [
       "variable\n",
       "c1-discretized         0.018404\n",
       "c2-discretized         0.018404\n",
       "clsCoef-discretized    0.007068\n",
       "density-discretized    0.011016\n",
       "f1-discretized         0.009657\n",
       "f1v-discretized        0.004225\n",
       "f2-discretized         0.011804\n",
       "f3-discretized         0.004000\n",
       "f4-discretized         0.002414\n",
       "hubs-discretized       0.004678\n",
       "l1-discretized         0.015542\n",
       "l2-discretized         0.019164\n",
       "l3-discretized         0.013732\n",
       "lsc-discretized        0.007394\n",
       "n1-discretized         0.010904\n",
       "n2-discretized         0.018711\n",
       "n3-discretized         0.019164\n",
       "n4-discretized         0.025502\n",
       "t1-discretized         0.027313\n",
       "t2-discretized         0.046296\n",
       "t3-discretized         0.008381\n",
       "t4-discretized         0.002645\n",
       "Name: better-dt, dtype: float64"
      ]
     },
     "execution_count": 220,
     "metadata": {},
     "output_type": "execute_result"
    }
   ],
   "execution_count": 220
  },
  {
   "metadata": {
    "ExecuteTime": {
     "end_time": "2024-07-13T16:35:28.701675Z",
     "start_time": "2024-07-13T16:35:28.659807Z"
    }
   },
   "cell_type": "code",
   "source": [
    "optimal_centroids_df \\\n",
    "    .query(LIMITING_QUERY) \\\n",
    "    [['better-equal-rf'] + ALL_DISCRETIZED_METRICS].melt('better-equal-rf') \\\n",
    "    .groupby(['variable', 'value'], as_index=False).apply(lambda x: np.sum(x)/len(x)) \\\n",
    "    .groupby('variable')['better-equal-rf'].var()"
   ],
   "id": "5a27865d957e9d9b",
   "outputs": [
    {
     "data": {
      "text/plain": [
       "variable\n",
       "c1-discretized         0.001681\n",
       "c2-discretized         0.001681\n",
       "clsCoef-discretized    0.002025\n",
       "density-discretized    0.035763\n",
       "f1-discretized         0.003169\n",
       "f1v-discretized        0.000453\n",
       "f2-discretized         0.023715\n",
       "f3-discretized         0.031144\n",
       "f4-discretized         0.009507\n",
       "hubs-discretized       0.035763\n",
       "l1-discretized         0.009507\n",
       "l2-discretized         0.005885\n",
       "l3-discretized         0.019466\n",
       "lsc-discretized        0.000453\n",
       "n1-discretized         0.027585\n",
       "n2-discretized         0.022182\n",
       "n3-discretized         0.028972\n",
       "n4-discretized         0.038026\n",
       "t1-discretized         0.003169\n",
       "t2-discretized         0.035035\n",
       "t3-discretized         0.004321\n",
       "t4-discretized         0.074356\n",
       "Name: better-equal-rf, dtype: float64"
      ]
     },
     "execution_count": 221,
     "metadata": {},
     "output_type": "execute_result"
    }
   ],
   "execution_count": 221
  },
  {
   "metadata": {
    "ExecuteTime": {
     "end_time": "2024-07-13T16:35:28.789530Z",
     "start_time": "2024-07-13T16:35:28.702635Z"
    }
   },
   "cell_type": "code",
   "source": [
    "optimal_centroids_df \\\n",
    "    .query(LIMITING_QUERY) \\\n",
    "    .groupby('t4-discretized')['better-equal-rf'] \\\n",
    "    .apply(lambda x: np.sum(x)/len(x)).plot(kind='bar')\n"
   ],
   "id": "e0128fbc91dd8819",
   "outputs": [
    {
     "data": {
      "text/plain": [
       "<Axes: xlabel='t4-discretized'>"
      ]
     },
     "execution_count": 222,
     "metadata": {},
     "output_type": "execute_result"
    },
    {
     "data": {
      "text/plain": [
       "<Figure size 640x480 with 1 Axes>"
      ],
      "image/png": "[encoded data removed]"
     },
     "metadata": {},
     "output_type": "display_data"
    }
   ],
   "execution_count": 222
  },
  {
   "metadata": {
    "ExecuteTime": {
     "end_time": "2024-07-13T16:35:28.875993Z",
     "start_time": "2024-07-13T16:35:28.790301Z"
    }
   },
   "cell_type": "code",
   "source": [
    "optimal_centroids_df \\\n",
    "    .query(LIMITING_QUERY) \\\n",
    "    .groupby('n2-discretized')['complexity-dt-difference'] \\\n",
    "    .apply(lambda x: np.sum(x)/len(x)).plot(kind='bar')\n"
   ],
   "id": "c7d3bce82c665d6a",
   "outputs": [
    {
     "data": {
      "text/plain": [
       "<Axes: xlabel='n2-discretized'>"
      ]
     },
     "execution_count": 223,
     "metadata": {},
     "output_type": "execute_result"
    },
    {
     "data": {
      "text/plain": [
       "<Figure size 640x480 with 1 Axes>"
      ],
      "image/png": "[encoded data removed]"
     },
     "metadata": {},
     "output_type": "display_data"
    }
   ],
   "execution_count": 223
  },
  {
   "metadata": {
    "ExecuteTime": {
     "end_time": "2024-07-13T16:35:28.892216Z",
     "start_time": "2024-07-13T16:35:28.877140Z"
    }
   },
   "cell_type": "code",
   "source": [
    "optimal_centroids_df\\\n",
    "    .groupby('f1-discretized')['better-dt']\\\n",
    "    .apply(lambda x: np.sum(x)/len(x))\n"
   ],
   "id": "8d26625e6de45fb9",
   "outputs": [
    {
     "data": {
      "text/plain": [
       "f1-discretized\n",
       "(0.0163, 0.47]    0.102837\n",
       "(0.47, 0.648]     0.131206\n",
       "(0.648, 0.964]    0.347518\n",
       "Name: better-dt, dtype: float64"
      ]
     },
     "execution_count": 224,
     "metadata": {},
     "output_type": "execute_result"
    }
   ],
   "execution_count": 224
  },
  {
   "metadata": {
    "ExecuteTime": {
     "end_time": "2024-07-13T16:35:28.894202Z",
     "start_time": "2024-07-13T16:35:28.892862Z"
    }
   },
   "cell_type": "code",
   "source": "",
   "id": "6a5654715d4a820d",
   "outputs": [],
   "execution_count": 224
  },
  {
   "metadata": {
    "ExecuteTime": {
     "end_time": "2024-07-13T16:35:28.907451Z",
     "start_time": "2024-07-13T16:35:28.894842Z"
    }
   },
   "cell_type": "code",
   "source": "optimal_centroids_df.columns\n",
   "id": "1d8d1f943c02856b",
   "outputs": [
    {
     "data": {
      "text/plain": [
       "Index(['metrics.tn_dt', 'metrics.tp_dt', 'metrics.fp_dt', 'metrics.fn_dt',\n",
       "       'params.should_take_test', 'params.dataset',\n",
       "       'params.data_shuffle_random_state', 'metrics.depth_dt',\n",
       "       'metrics.n_leaves_dt', 'test_accuracy_dt',\n",
       "       ...\n",
       "       'n4-discretized', 't1-discretized', 't2-discretized', 't3-discretized',\n",
       "       't4-discretized', 'clsCoef-discretized', 'hubs-discretized',\n",
       "       'density-discretized', 'lsc-discretized', 'complexity-dt-difference'],\n",
       "      dtype='object', length=148)"
      ]
     },
     "execution_count": 225,
     "metadata": {},
     "output_type": "execute_result"
    }
   ],
   "execution_count": 225
  },
  {
   "metadata": {
    "ExecuteTime": {
     "end_time": "2024-07-13T16:35:28.920492Z",
     "start_time": "2024-07-13T16:35:28.908198Z"
    }
   },
   "cell_type": "code",
   "source": [
    "# import itertools\n",
    "from scipy.stats import wilcoxon\n",
    "# from collections import defaultdict"
   ],
   "id": "869cbfe7-1d04-4c04-89f8-1363b50c16e8",
   "outputs": [],
   "execution_count": 226
  },
  {
   "metadata": {
    "ExecuteTime": {
     "end_time": "2024-07-13T16:35:28.933073Z",
     "start_time": "2024-07-13T16:35:28.921316Z"
    }
   },
   "cell_type": "code",
   "source": [
    "# columns = list(set(optimal_centroids_df['params.subspaces']))\n",
    "# column_combinations = itertools.permutations(columns, 2)\n",
    "# final_df = defaultdict(lambda: defaultdict(list))\n",
    "# final_test_df = defaultdict(lambda: defaultdict(list))\n",
    "# for dataset in set(optimal_centroids_df['params.dataset']):\n",
    "#     for base_clf in columns:\n",
    "#         final_df[dataset][base_clf] = np.mean(optimal_centroids_df.query(f\"`params.subspaces` == '{base_clf}' and `params.dataset` == '{dataset}'\")['test_accuracy'])\n",
    "# \n",
    "#     for c1, c2 in column_combinations:\n",
    "#         if final_df[dataset][c1] > final_df[dataset][c2]:\n",
    "#             final_test_df[dataset][c1].append(c2)"
   ],
   "id": "e1464825-9b9d-4d07-9535-295c005efa64",
   "outputs": [],
   "execution_count": 227
  },
  {
   "metadata": {
    "ExecuteTime": {
     "end_time": "2024-07-13T16:35:28.953368Z",
     "start_time": "2024-07-13T16:35:28.933743Z"
    }
   },
   "cell_type": "code",
   "source": [
    "optimal_centroids_df \\\n",
    "    .pivot_table(values=[\"test_accuracy\", \"test_accuracy_dt\", \"test_accuracy_rf\", \"diff-to-dt\", \"diff-to-rf\"], index=\"params.dataset\")"
   ],
   "id": "2119beafbe4819b1",
   "outputs": [
    {
     "data": {
      "text/plain": [
       "                diff-to-dt  diff-to-rf  test_accuracy  test_accuracy_dt  \\\n",
       "params.dataset                                                            \n",
       "appendicitis      0.003145   -0.053459       0.782390          0.779245   \n",
       "australian       -0.022850   -0.029517       0.822367          0.845217   \n",
       "bands            -0.023582   -0.094873       0.601398          0.624980   \n",
       "breast           -0.080947   -0.081735       0.656608          0.737555   \n",
       "bupa             -0.004596   -0.065451       0.560648          0.565244   \n",
       "crx              -0.022710   -0.024843       0.840378          0.863088   \n",
       "haberman         -0.102397   -0.076253       0.662309          0.764706   \n",
       "heart            -0.075185   -0.123333       0.667037          0.742222   \n",
       "hepatitis        -0.038333   -0.083333       0.766667          0.805000   \n",
       "housevotes       -0.042924   -0.042924       0.918283          0.961207   \n",
       "ionosphere       -0.046738   -0.071848       0.831883          0.878620   \n",
       "mammographic     -0.005863   -0.017912       0.823052          0.828916   \n",
       "monk-2           -0.024614   -0.021836       0.975386          1.000000   \n",
       "saheart          -0.075036   -0.086941       0.598124          0.673160   \n",
       "tic-tac-toe       0.045616   -0.014301       0.824113          0.778497   \n",
       "wisconsin        -0.021327   -0.024548       0.917758          0.939084   \n",
       "\n",
       "                test_accuracy_rf  \n",
       "params.dataset                    \n",
       "appendicitis            0.835849  \n",
       "australian              0.851884  \n",
       "bands                   0.696271  \n",
       "breast                  0.738343  \n",
       "bupa                    0.626099  \n",
       "crx                     0.865221  \n",
       "haberman                0.738562  \n",
       "heart                   0.790370  \n",
       "hepatitis               0.850000  \n",
       "housevotes              0.961207  \n",
       "ionosphere              0.903731  \n",
       "mammographic            0.840964  \n",
       "monk-2                  0.997222  \n",
       "saheart                 0.685065  \n",
       "tic-tac-toe             0.838413  \n",
       "wisconsin               0.942306  "
      ],
      "text/html": [
       "<div>\n",
       "<style scoped>\n",
       "    .dataframe tbody tr th:only-of-type {\n",
       "        vertical-align: middle;\n",
       "    }\n",
       "\n",
       "    .dataframe tbody tr th {\n",
       "        vertical-align: top;\n",
       "    }\n",
       "\n",
       "    .dataframe thead th {\n",
       "        text-align: right;\n",
       "    }\n",
       "</style>\n",
       "<table border=\"1\" class=\"dataframe\">\n",
       "  <thead>\n",
       "    <tr style=\"text-align: right;\">\n",
       "      <th></th>\n",
       "      <th>diff-to-dt</th>\n",
       "      <th>diff-to-rf</th>\n",
       "      <th>test_accuracy</th>\n",
       "      <th>test_accuracy_dt</th>\n",
       "      <th>test_accuracy_rf</th>\n",
       "    </tr>\n",
       "    <tr>\n",
       "      <th>params.dataset</th>\n",
       "      <th></th>\n",
       "      <th></th>\n",
       "      <th></th>\n",
       "      <th></th>\n",
       "      <th></th>\n",
       "    </tr>\n",
       "  </thead>\n",
       "  <tbody>\n",
       "    <tr>\n",
       "      <th>appendicitis</th>\n",
       "      <td>0.003145</td>\n",
       "      <td>-0.053459</td>\n",
       "      <td>0.782390</td>\n",
       "      <td>0.779245</td>\n",
       "      <td>0.835849</td>\n",
       "    </tr>\n",
       "    <tr>\n",
       "      <th>australian</th>\n",
       "      <td>-0.022850</td>\n",
       "      <td>-0.029517</td>\n",
       "      <td>0.822367</td>\n",
       "      <td>0.845217</td>\n",
       "      <td>0.851884</td>\n",
       "    </tr>\n",
       "    <tr>\n",
       "      <th>bands</th>\n",
       "      <td>-0.023582</td>\n",
       "      <td>-0.094873</td>\n",
       "      <td>0.601398</td>\n",
       "      <td>0.624980</td>\n",
       "      <td>0.696271</td>\n",
       "    </tr>\n",
       "    <tr>\n",
       "      <th>breast</th>\n",
       "      <td>-0.080947</td>\n",
       "      <td>-0.081735</td>\n",
       "      <td>0.656608</td>\n",
       "      <td>0.737555</td>\n",
       "      <td>0.738343</td>\n",
       "    </tr>\n",
       "    <tr>\n",
       "      <th>bupa</th>\n",
       "      <td>-0.004596</td>\n",
       "      <td>-0.065451</td>\n",
       "      <td>0.560648</td>\n",
       "      <td>0.565244</td>\n",
       "      <td>0.626099</td>\n",
       "    </tr>\n",
       "    <tr>\n",
       "      <th>crx</th>\n",
       "      <td>-0.022710</td>\n",
       "      <td>-0.024843</td>\n",
       "      <td>0.840378</td>\n",
       "      <td>0.863088</td>\n",
       "      <td>0.865221</td>\n",
       "    </tr>\n",
       "    <tr>\n",
       "      <th>haberman</th>\n",
       "      <td>-0.102397</td>\n",
       "      <td>-0.076253</td>\n",
       "      <td>0.662309</td>\n",
       "      <td>0.764706</td>\n",
       "      <td>0.738562</td>\n",
       "    </tr>\n",
       "    <tr>\n",
       "      <th>heart</th>\n",
       "      <td>-0.075185</td>\n",
       "      <td>-0.123333</td>\n",
       "      <td>0.667037</td>\n",
       "      <td>0.742222</td>\n",
       "      <td>0.790370</td>\n",
       "    </tr>\n",
       "    <tr>\n",
       "      <th>hepatitis</th>\n",
       "      <td>-0.038333</td>\n",
       "      <td>-0.083333</td>\n",
       "      <td>0.766667</td>\n",
       "      <td>0.805000</td>\n",
       "      <td>0.850000</td>\n",
       "    </tr>\n",
       "    <tr>\n",
       "      <th>housevotes</th>\n",
       "      <td>-0.042924</td>\n",
       "      <td>-0.042924</td>\n",
       "      <td>0.918283</td>\n",
       "      <td>0.961207</td>\n",
       "      <td>0.961207</td>\n",
       "    </tr>\n",
       "    <tr>\n",
       "      <th>ionosphere</th>\n",
       "      <td>-0.046738</td>\n",
       "      <td>-0.071848</td>\n",
       "      <td>0.831883</td>\n",
       "      <td>0.878620</td>\n",
       "      <td>0.903731</td>\n",
       "    </tr>\n",
       "    <tr>\n",
       "      <th>mammographic</th>\n",
       "      <td>-0.005863</td>\n",
       "      <td>-0.017912</td>\n",
       "      <td>0.823052</td>\n",
       "      <td>0.828916</td>\n",
       "      <td>0.840964</td>\n",
       "    </tr>\n",
       "    <tr>\n",
       "      <th>monk-2</th>\n",
       "      <td>-0.024614</td>\n",
       "      <td>-0.021836</td>\n",
       "      <td>0.975386</td>\n",
       "      <td>1.000000</td>\n",
       "      <td>0.997222</td>\n",
       "    </tr>\n",
       "    <tr>\n",
       "      <th>saheart</th>\n",
       "      <td>-0.075036</td>\n",
       "      <td>-0.086941</td>\n",
       "      <td>0.598124</td>\n",
       "      <td>0.673160</td>\n",
       "      <td>0.685065</td>\n",
       "    </tr>\n",
       "    <tr>\n",
       "      <th>tic-tac-toe</th>\n",
       "      <td>0.045616</td>\n",
       "      <td>-0.014301</td>\n",
       "      <td>0.824113</td>\n",
       "      <td>0.778497</td>\n",
       "      <td>0.838413</td>\n",
       "    </tr>\n",
       "    <tr>\n",
       "      <th>wisconsin</th>\n",
       "      <td>-0.021327</td>\n",
       "      <td>-0.024548</td>\n",
       "      <td>0.917758</td>\n",
       "      <td>0.939084</td>\n",
       "      <td>0.942306</td>\n",
       "    </tr>\n",
       "  </tbody>\n",
       "</table>\n",
       "</div>"
      ]
     },
     "execution_count": 228,
     "metadata": {},
     "output_type": "execute_result"
    }
   ],
   "execution_count": 228
  },
  {
   "metadata": {
    "ExecuteTime": {
     "end_time": "2024-07-13T16:35:28.970951Z",
     "start_time": "2024-07-13T16:35:28.954142Z"
    }
   },
   "cell_type": "code",
   "source": [
    "optimal_centroids_df \\\n",
    "    .pivot_table(\n",
    "    values=[\"test_accuracy\", \"test_accuracy_dt\", \"test_accuracy_rf\"],\n",
    "    index=\"params.dataset\")"
   ],
   "id": "36b8c836baea3d3d",
   "outputs": [
    {
     "data": {
      "text/plain": [
       "                test_accuracy  test_accuracy_dt  test_accuracy_rf\n",
       "params.dataset                                                   \n",
       "appendicitis         0.782390          0.779245          0.835849\n",
       "australian           0.822367          0.845217          0.851884\n",
       "bands                0.601398          0.624980          0.696271\n",
       "breast               0.656608          0.737555          0.738343\n",
       "bupa                 0.560648          0.565244          0.626099\n",
       "crx                  0.840378          0.863088          0.865221\n",
       "haberman             0.662309          0.764706          0.738562\n",
       "heart                0.667037          0.742222          0.790370\n",
       "hepatitis            0.766667          0.805000          0.850000\n",
       "housevotes           0.918283          0.961207          0.961207\n",
       "ionosphere           0.831883          0.878620          0.903731\n",
       "mammographic         0.823052          0.828916          0.840964\n",
       "monk-2               0.975386          1.000000          0.997222\n",
       "saheart              0.598124          0.673160          0.685065\n",
       "tic-tac-toe          0.824113          0.778497          0.838413\n",
       "wisconsin            0.917758          0.939084          0.942306"
      ],
      "text/html": [
       "<div>\n",
       "<style scoped>\n",
       "    .dataframe tbody tr th:only-of-type {\n",
       "        vertical-align: middle;\n",
       "    }\n",
       "\n",
       "    .dataframe tbody tr th {\n",
       "        vertical-align: top;\n",
       "    }\n",
       "\n",
       "    .dataframe thead th {\n",
       "        text-align: right;\n",
       "    }\n",
       "</style>\n",
       "<table border=\"1\" class=\"dataframe\">\n",
       "  <thead>\n",
       "    <tr style=\"text-align: right;\">\n",
       "      <th></th>\n",
       "      <th>test_accuracy</th>\n",
       "      <th>test_accuracy_dt</th>\n",
       "      <th>test_accuracy_rf</th>\n",
       "    </tr>\n",
       "    <tr>\n",
       "      <th>params.dataset</th>\n",
       "      <th></th>\n",
       "      <th></th>\n",
       "      <th></th>\n",
       "    </tr>\n",
       "  </thead>\n",
       "  <tbody>\n",
       "    <tr>\n",
       "      <th>appendicitis</th>\n",
       "      <td>0.782390</td>\n",
       "      <td>0.779245</td>\n",
       "      <td>0.835849</td>\n",
       "    </tr>\n",
       "    <tr>\n",
       "      <th>australian</th>\n",
       "      <td>0.822367</td>\n",
       "      <td>0.845217</td>\n",
       "      <td>0.851884</td>\n",
       "    </tr>\n",
       "    <tr>\n",
       "      <th>bands</th>\n",
       "      <td>0.601398</td>\n",
       "      <td>0.624980</td>\n",
       "      <td>0.696271</td>\n",
       "    </tr>\n",
       "    <tr>\n",
       "      <th>breast</th>\n",
       "      <td>0.656608</td>\n",
       "      <td>0.737555</td>\n",
       "      <td>0.738343</td>\n",
       "    </tr>\n",
       "    <tr>\n",
       "      <th>bupa</th>\n",
       "      <td>0.560648</td>\n",
       "      <td>0.565244</td>\n",
       "      <td>0.626099</td>\n",
       "    </tr>\n",
       "    <tr>\n",
       "      <th>crx</th>\n",
       "      <td>0.840378</td>\n",
       "      <td>0.863088</td>\n",
       "      <td>0.865221</td>\n",
       "    </tr>\n",
       "    <tr>\n",
       "      <th>haberman</th>\n",
       "      <td>0.662309</td>\n",
       "      <td>0.764706</td>\n",
       "      <td>0.738562</td>\n",
       "    </tr>\n",
       "    <tr>\n",
       "      <th>heart</th>\n",
       "      <td>0.667037</td>\n",
       "      <td>0.742222</td>\n",
       "      <td>0.790370</td>\n",
       "    </tr>\n",
       "    <tr>\n",
       "      <th>hepatitis</th>\n",
       "      <td>0.766667</td>\n",
       "      <td>0.805000</td>\n",
       "      <td>0.850000</td>\n",
       "    </tr>\n",
       "    <tr>\n",
       "      <th>housevotes</th>\n",
       "      <td>0.918283</td>\n",
       "      <td>0.961207</td>\n",
       "      <td>0.961207</td>\n",
       "    </tr>\n",
       "    <tr>\n",
       "      <th>ionosphere</th>\n",
       "      <td>0.831883</td>\n",
       "      <td>0.878620</td>\n",
       "      <td>0.903731</td>\n",
       "    </tr>\n",
       "    <tr>\n",
       "      <th>mammographic</th>\n",
       "      <td>0.823052</td>\n",
       "      <td>0.828916</td>\n",
       "      <td>0.840964</td>\n",
       "    </tr>\n",
       "    <tr>\n",
       "      <th>monk-2</th>\n",
       "      <td>0.975386</td>\n",
       "      <td>1.000000</td>\n",
       "      <td>0.997222</td>\n",
       "    </tr>\n",
       "    <tr>\n",
       "      <th>saheart</th>\n",
       "      <td>0.598124</td>\n",
       "      <td>0.673160</td>\n",
       "      <td>0.685065</td>\n",
       "    </tr>\n",
       "    <tr>\n",
       "      <th>tic-tac-toe</th>\n",
       "      <td>0.824113</td>\n",
       "      <td>0.778497</td>\n",
       "      <td>0.838413</td>\n",
       "    </tr>\n",
       "    <tr>\n",
       "      <th>wisconsin</th>\n",
       "      <td>0.917758</td>\n",
       "      <td>0.939084</td>\n",
       "      <td>0.942306</td>\n",
       "    </tr>\n",
       "  </tbody>\n",
       "</table>\n",
       "</div>"
      ]
     },
     "execution_count": 229,
     "metadata": {},
     "output_type": "execute_result"
    }
   ],
   "execution_count": 229
  },
  {
   "cell_type": "code",
   "id": "f7628ed8a6751200",
   "metadata": {
    "collapsed": false,
    "ExecuteTime": {
     "end_time": "2024-07-13T16:35:28.973879Z",
     "start_time": "2024-07-13T16:35:28.971926Z"
    }
   },
   "source": [],
   "outputs": [],
   "execution_count": 229
  }
 ],
 "metadata": {
  "kernelspec": {
   "display_name": "Python 3 (ipykernel)",
   "language": "python",
   "name": "python3"
  },
  "language_info": {
   "codemirror_mode": {
    "name": "ipython",
    "version": 3
   },
   "file_extension": ".py",
   "mimetype": "text/x-python",
   "name": "python",
   "nbconvert_exporter": "python",
   "pygments_lexer": "ipython3",
   "version": "3.8.16"
  }
 },
 "nbformat": 4,
 "nbformat_minor": 5
}
